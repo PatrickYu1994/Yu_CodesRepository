{
 "cells": [
  {
   "cell_type": "markdown",
   "metadata": {},
   "source": [
    "升序 大根堆  每个结点的值都大于或等于左右子节点  \n",
    "降序 小根堆  每隔结点的值都小于或等于左右子节点"
   ]
  },
  {
   "cell_type": "code",
   "execution_count": 34,
   "metadata": {},
   "outputs": [],
   "source": [
    "# 大根堆 -> 最大的元素放在在跟，之后将根与最后一个元素互换，因此大根堆适合升序(从小到大), 大根堆本身是root,left,right中最大值在root处\n",
    "\n",
    "# 首先构建大根堆\n",
    "# 将第一个元素和最后一个元素互换后，如何把剩下的元素再构建成大根堆\n",
    "class Solution:\n",
    "    def heap_sort(self, arr):\n",
    "        self.build_max_heap(arr)\n",
    "        for i in range(len(arr)-1, -1, -1):\n",
    "            arr[0], arr[i] = arr[i], arr[0]\n",
    "            self.max_heapify(arr, i, 0) # heap为 0~i 元素，heap_size为 i\n",
    "        return arr\n",
    "            \n",
    "    def build_max_heap(self, arr):\n",
    "        heap_size = len(arr)\n",
    "        for i in range((heap_size-2)//2, -1, -1): #从最后一个有左右节点的结点开始遍历\n",
    "            self.max_heapify(arr, heap_size, i)\n",
    "        \n",
    "    def max_heapify(self, arr, heap_size, root): #调整arr中的元素保证以root为根的堆是一个大顶堆\n",
    "        # 对于给定结点的下标root\n",
    "        # 父节点: (root-1)//2\n",
    "        # 左节点：root*2+1\n",
    "        # 右节点：root*2+2\n",
    "        left = root*2+1\n",
    "        right = root*2+2\n",
    "        largest = root\n",
    "        if left < heap_size and arr[left] > arr[largest]:\n",
    "            largest = left\n",
    "        if right < heap_size and arr[right] > arr[largest]:\n",
    "            largest = right\n",
    "        if largest != root:\n",
    "            arr[largest], arr[root] = arr[root], arr[largest]\n",
    "            self.max_heapify(arr, heap_size, largest) #   e.g. root和left做了置换，则root，right，left的关系已经确定，继续对left遍历"
   ]
  },
  {
   "cell_type": "code",
   "execution_count": 35,
   "metadata": {},
   "outputs": [
    {
     "data": {
      "text/plain": [
       "[0, 1, 2, 3, 4, 5, 6, 7, 8, 9]"
      ]
     },
     "execution_count": 35,
     "metadata": {},
     "output_type": "execute_result"
    }
   ],
   "source": [
    "a = [1,2,3,0,9,8,7,6,5,4]\n",
    "s = Solution()\n",
    "s.heap_sort(a)"
   ]
  },
  {
   "cell_type": "code",
   "execution_count": null,
   "metadata": {},
   "outputs": [],
   "source": []
  },
  {
   "cell_type": "code",
   "execution_count": 38,
   "metadata": {},
   "outputs": [],
   "source": [
    "# 小根堆\n",
    "# 与大根堆相反 -> 因为是适合降序(从大到小)，因此在小根堆中，root处存的是最小值\n",
    "\n",
    "class Solution:\n",
    "    def heap_sort(self, arr):\n",
    "        self.build_min_heap(arr)\n",
    "        for i in range(len(arr)-1, -1, -1):\n",
    "            arr[0], arr[i] = arr[i], arr[0]\n",
    "            self.min_heapify(arr, i, 0)\n",
    "        return arr\n",
    "        \n",
    "    def build_min_heap(self, arr):\n",
    "        heap_size = len(arr)\n",
    "        for i in range((heap_size-2)//2, -1, -1):\n",
    "            self.min_heapify(arr, heap_size, i)\n",
    "    \n",
    "    def min_heapify(self, arr, heap_size, root):\n",
    "        left = 2*root+1\n",
    "        right = 2*root+2\n",
    "        minst = root\n",
    "        if left < heap_size and arr[minst] > arr[left]:\n",
    "            minst = left\n",
    "        if right < heap_size and arr[minst] > arr[right]:\n",
    "            minst = right\n",
    "        if minst != root:\n",
    "            arr[minst], arr[root] = arr[root], arr[minst]\n",
    "            self.min_heapify(arr, heap_size, minst)\n",
    "                                     "
   ]
  },
  {
   "cell_type": "code",
   "execution_count": 39,
   "metadata": {},
   "outputs": [
    {
     "data": {
      "text/plain": [
       "[9, 8, 7, 6, 5, 4, 3, 2, 1, 0]"
      ]
     },
     "execution_count": 39,
     "metadata": {},
     "output_type": "execute_result"
    }
   ],
   "source": [
    "a = [1,2,3,0,9,8,7,6,5,4]\n",
    "s = Solution()\n",
    "s.heap_sort(a)"
   ]
  },
  {
   "cell_type": "code",
   "execution_count": null,
   "metadata": {},
   "outputs": [],
   "source": []
  }
 ],
 "metadata": {
  "kernelspec": {
   "display_name": "Python 3",
   "language": "python",
   "name": "python3"
  },
  "language_info": {
   "codemirror_mode": {
    "name": "ipython",
    "version": 3
   },
   "file_extension": ".py",
   "mimetype": "text/x-python",
   "name": "python",
   "nbconvert_exporter": "python",
   "pygments_lexer": "ipython3",
   "version": "3.6.5"
  }
 },
 "nbformat": 4,
 "nbformat_minor": 2
}
