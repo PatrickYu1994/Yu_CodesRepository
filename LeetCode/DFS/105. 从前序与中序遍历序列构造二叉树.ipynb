{
 "cells": [
  {
   "cell_type": "code",
   "execution_count": 1,
   "metadata": {},
   "outputs": [],
   "source": [
    "# 执行用时 :144 ms, 在所有 Python 提交中击败了81.85% 的用户\n",
    "# 内存消耗 :87.6 MB, 在所有 Python 提交中击败了5.29%的用户\n",
    "    \n",
    "# Definition for a binary tree node.\n",
    "# class TreeNode(object):\n",
    "#     def __init__(self, x):\n",
    "#         self.val = x\n",
    "#         self.left = None\n",
    "#         self.right = None\n",
    "\n",
    "class Solution(object):\n",
    "    def buildTree(self, preorder, inorder):\n",
    "        if not preorder:\n",
    "            return None\n",
    "\n",
    "        root_val = preorder[0]\n",
    "        root = TreeNode(root_val)\n",
    "\n",
    "        root_ind_inorder = inorder.index(root_val)\n",
    "        left_ino = inorder[:root_ind_inorder]\n",
    "        right_ino = inorder[root_ind_inorder+1:]\n",
    "        left_pre = preorder[1:len(left_ino)+1]\n",
    "        right_pre = preorder[len(left_ino)+1:]\n",
    "\n",
    "        root.left = self.buildTree(left_pre, left_ino)\n",
    "        root.right = self.buildTree(right_pre, right_ino)\n",
    "        return root\n",
    "\n"
   ]
  },
  {
   "cell_type": "code",
   "execution_count": null,
   "metadata": {},
   "outputs": [],
   "source": []
  }
 ],
 "metadata": {
  "kernelspec": {
   "display_name": "Python 3",
   "language": "python",
   "name": "python3"
  },
  "language_info": {
   "codemirror_mode": {
    "name": "ipython",
    "version": 3
   },
   "file_extension": ".py",
   "mimetype": "text/x-python",
   "name": "python",
   "nbconvert_exporter": "python",
   "pygments_lexer": "ipython3",
   "version": "3.6.5"
  }
 },
 "nbformat": 4,
 "nbformat_minor": 2
}
