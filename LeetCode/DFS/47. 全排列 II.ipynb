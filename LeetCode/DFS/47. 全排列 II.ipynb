{
 "cells": [
  {
   "cell_type": "code",
   "execution_count": 3,
   "metadata": {},
   "outputs": [],
   "source": [
    "# 执行用时 :40 ms, 在所有 Python 提交中击败了79.04% 的用户\n",
    "# 内存消耗 :13.1 MB, 在所有 Python 提交中击败了5.21%的用户\n",
    "class Solution(object):\n",
    "    def permuteUnique(self, nums):\n",
    "        \"\"\"\n",
    "        :type nums: List[int]\n",
    "        :rtype: List[List[int]]\n",
    "        \"\"\"\n",
    "        nums.sort()\n",
    "        res = []\n",
    "        temp = []\n",
    "        visited = [0]*len(nums)\n",
    "        self.dfs(nums, 0, temp, res, visited)\n",
    "        return res\n",
    "\n",
    "    def dfs(self, nums, pos, temp, res, visited):\n",
    "        if pos == len(nums):\n",
    "            res.append(temp)\n",
    "            return\n",
    "        for i in range(len(nums)):\n",
    "            if visited[i] == 0 and (i == 0 or nums[i-1] != nums[i] or visited[i-1] == 1):\n",
    "                visited[i] = 1\n",
    "                self.dfs(nums, pos+1, temp+[nums[i]], res, visited)\n",
    "                visited[i] = 0\n"
   ]
  },
  {
   "cell_type": "code",
   "execution_count": 4,
   "metadata": {},
   "outputs": [],
   "source": [
    "# 执行用时 :1932 ms, 在所有 Python 提交中击败了5.08% 的用户\n",
    "# 内存消耗 :12.8 MB, 在所有 Python 提交中击败了5.21%的用户\n",
    "class Solution(object):\n",
    "    def permuteUnique(self, nums):\n",
    "        temp = []\n",
    "        res = []\n",
    "        visited = [0]*len(nums)\n",
    "        self.dfs(nums, 0, temp, res, visited)\n",
    "        return res\n",
    "\n",
    "    def dfs(self, nums, pos, temp, res, visited):\n",
    "        if pos == len(nums):\n",
    "            res.append(temp)\n",
    "            return\n",
    "        for i in range(len(nums)):\n",
    "            if visited[i] == 0:\n",
    "                visited[i] = 1\n",
    "                self.dfs(nums, pos+1, temp+[nums[i]], res, visited)\n",
    "                visited[i] = 0\n",
    "        "
   ]
  },
  {
   "cell_type": "code",
   "execution_count": null,
   "metadata": {},
   "outputs": [],
   "source": []
  }
 ],
 "metadata": {
  "kernelspec": {
   "display_name": "Python 3",
   "language": "python",
   "name": "python3"
  },
  "language_info": {
   "codemirror_mode": {
    "name": "ipython",
    "version": 3
   },
   "file_extension": ".py",
   "mimetype": "text/x-python",
   "name": "python",
   "nbconvert_exporter": "python",
   "pygments_lexer": "ipython3",
   "version": "3.6.5"
  }
 },
 "nbformat": 4,
 "nbformat_minor": 2
}
