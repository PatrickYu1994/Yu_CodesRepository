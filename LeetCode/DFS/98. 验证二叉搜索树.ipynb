{
 "cells": [
  {
   "cell_type": "code",
   "execution_count": null,
   "metadata": {},
   "outputs": [],
   "source": [
    "# Definition for a binary tree node.\n",
    "# class TreeNode(object):\n",
    "#     def __init__(self, x):\n",
    "#         self.val = x\n",
    "#         self.left = None\n",
    "#         self.right = None\n",
    "\n",
    "class Solution(object):\n",
    "    def isValidBST(self, root):\n",
    "        \"\"\"\n",
    "        :type root: TreeNode\n",
    "        :rtype: bool\n",
    "        \"\"\"\n",
    "    \n",
    "    def fun(self, root, upper, lower):\n",
    "        if not root:\n",
    "            return True\n",
    "        if (root.left and (root.left.val > root.val or root.left.val > lower)) or (root.right and (root.right.val < root.val or root.right.val < upper)):\n",
    "            return False\n",
    "        if root.left:\n",
    "            return self.isValidBST(root.left, )\n",
    "        if root.right:\n",
    "            self.isValidBST(root.right) "
   ]
  }
 ],
 "metadata": {
  "kernelspec": {
   "display_name": "Python 3",
   "language": "python",
   "name": "python3"
  },
  "language_info": {
   "codemirror_mode": {
    "name": "ipython",
    "version": 3
   },
   "file_extension": ".py",
   "mimetype": "text/x-python",
   "name": "python",
   "nbconvert_exporter": "python",
   "pygments_lexer": "ipython3",
   "version": "3.6.5"
  }
 },
 "nbformat": 4,
 "nbformat_minor": 2
}
