{
 "cells": [
  {
   "cell_type": "code",
   "execution_count": 4,
   "metadata": {},
   "outputs": [],
   "source": [
    "# 执行用时 :60 ms, 在所有 Python 提交中击败了10.31% 的用户\n",
    "# 内存消耗 :17.5 MB, 在所有 Python 提交中击败了5.04%的用户\n",
    "\n",
    "# Definition for a binary tree node.\n",
    "# class TreeNode(object):\n",
    "#     def __init__(self, x):\n",
    "#         self.val = x\n",
    "#         self.left = None\n",
    "#         self.right = None\n",
    "\n",
    "class Solution(object):\n",
    "    def isValidBST(self, root):\n",
    "        return self.dfs(root, float(\"inf\"), float(\"-inf\"))\n",
    "        \n",
    "    def dfs(self, root, upper, lower):\n",
    "        if not root:\n",
    "            return True\n",
    "        if root.val <= lower or root.val >= upper:\n",
    "            return False\n",
    "        if not self.dfs(root.left, root.val, lower):\n",
    "            return False\n",
    "        if not self.dfs(root.right, upper, root.val):\n",
    "            return False\n",
    "        return True"
   ]
  },
  {
   "cell_type": "code",
   "execution_count": null,
   "metadata": {},
   "outputs": [],
   "source": []
  }
 ],
 "metadata": {
  "kernelspec": {
   "display_name": "Python 3",
   "language": "python",
   "name": "python3"
  },
  "language_info": {
   "codemirror_mode": {
    "name": "ipython",
    "version": 3
   },
   "file_extension": ".py",
   "mimetype": "text/x-python",
   "name": "python",
   "nbconvert_exporter": "python",
   "pygments_lexer": "ipython3",
   "version": "3.6.5"
  }
 },
 "nbformat": 4,
 "nbformat_minor": 2
}
