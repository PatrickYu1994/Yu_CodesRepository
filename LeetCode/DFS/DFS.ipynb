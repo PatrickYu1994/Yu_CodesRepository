{
 "cells": [
  {
   "cell_type": "markdown",
   "metadata": {},
   "source": [
    "https://www.bilibili.com/video/av87537108  \n",
    "DFS 大多数情况都能想象成一个树状的结构"
   ]
  },
  {
   "cell_type": "code",
   "execution_count": 1,
   "metadata": {},
   "outputs": [],
   "source": [
    "# e.g. 78.subsets\n",
    "class Solution(object):\n",
    "    def subsets(self, nums):\n",
    "        res = [] # 记录结果，满足条件的都放到res中去\n",
    "        l = [] \n",
    "        self.dfs(nums, 0, l, res)\n",
    "        return res\n",
    "        \n",
    "    def dfs(self, nums, pos, l, res):\n",
    "        # 退出条件\n",
    "        if pos == len(nums):\n",
    "            res.append(l) #满足退出条件，将list加入到res当中去\n",
    "            return\n",
    "        # 一般需要一个for循环\n",
    "        # 这里只有两种情况，选或者不选\n",
    "        # 1. 选\n",
    "        self.dfs(nums, pos+1, l+[nums[pos]], res)\n",
    "        # 2.不选\n",
    "        self.dfs(nums, pos+1, l, res)\n",
    "            "
   ]
  },
  {
   "cell_type": "code",
   "execution_count": null,
   "metadata": {},
   "outputs": [],
   "source": []
  }
 ],
 "metadata": {
  "kernelspec": {
   "display_name": "Python 3",
   "language": "python",
   "name": "python3"
  },
  "language_info": {
   "codemirror_mode": {
    "name": "ipython",
    "version": 3
   },
   "file_extension": ".py",
   "mimetype": "text/x-python",
   "name": "python",
   "nbconvert_exporter": "python",
   "pygments_lexer": "ipython3",
   "version": "3.6.5"
  }
 },
 "nbformat": 4,
 "nbformat_minor": 2
}
