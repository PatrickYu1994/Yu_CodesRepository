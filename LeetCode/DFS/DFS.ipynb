{
 "cells": [
  {
   "cell_type": "markdown",
   "metadata": {},
   "source": [
    "https://www.bilibili.com/video/av87537108  \n",
    "DFS 大多数情况都能想象成一个树状的结构"
   ]
  },
  {
   "cell_type": "markdown",
   "metadata": {},
   "source": [
    "## 1. combination"
   ]
  },
  {
   "cell_type": "code",
   "execution_count": 7,
   "metadata": {},
   "outputs": [],
   "source": [
    "# e.g. 78.subsets\n",
    "class Solution(object):\n",
    "    def subsets(self, nums):\n",
    "        res = [] # 记录结果，满足条件的都放到res中去\n",
    "        l = [] \n",
    "        self.dfs(nums, 0, l, res)\n",
    "        return res\n",
    "        \n",
    "    def dfs(self, nums, pos, l, res):\n",
    "        # 退出条件\n",
    "        if pos == len(nums):\n",
    "            res.append(l) #满足退出条件，将list加入到res当中去\n",
    "            return\n",
    "        # 一般需要一个for循环\n",
    "        # 这里只有两种情况，选或者不选\n",
    "        # 1. 选\n",
    "        self.dfs(nums, pos+1, l+[nums[pos]], res)\n",
    "        # 2.不选\n",
    "        self.dfs(nums, pos+1, l, res)\n",
    "            "
   ]
  },
  {
   "cell_type": "code",
   "execution_count": 8,
   "metadata": {},
   "outputs": [],
   "source": [
    "# 90. 子集 II\n",
    "class Solution(object):\n",
    "    def subsetsWithDup(self, nums):\n",
    "        \"\"\"\n",
    "        :type nums: List[int]\n",
    "        :rtype: List[List[int]]\n",
    "        \"\"\"\n",
    "        temp = []\n",
    "        res = []\n",
    "        visited = []\n",
    "        self.dfs(nums, 0, temp, res)\n",
    "        return res\n",
    "\n",
    "\n",
    "    def dfs(self, nums, pos, temp, res):\n",
    "        if pos == len(nums):\n",
    "            if sorted(temp) not in res:\n",
    "                res.append(sorted(temp))\n",
    "            return\n",
    "        self.dfs(nums, pos+1, temp+[nums[pos]], res)\n",
    "        self.dfs(nums, pos+1, temp, res)"
   ]
  },
  {
   "cell_type": "markdown",
   "metadata": {},
   "source": [
    "# 2. permutation"
   ]
  },
  {
   "cell_type": "code",
   "execution_count": 2,
   "metadata": {},
   "outputs": [],
   "source": [
    "# 46. 全排列\n",
    "# 相比来说，多了查重的问题 visited\n",
    "class Solution(object):\n",
    "    def permute(self, nums):\n",
    "        \"\"\"\n",
    "        :type nums: List[int]\n",
    "        :rtype: List[List[int]]\n",
    "        \"\"\"\n",
    "        res = []\n",
    "        temp = []\n",
    "        visited = [0] * len(nums)\n",
    "        self.dfs(nums, 0, temp, res, visited)\n",
    "        return res\n",
    "\n",
    "    \n",
    "    def dfs(self, nums, pos, temp, res, visited):\n",
    "        if pos == len(nums):\n",
    "            res.append(temp)\n",
    "            return\n",
    "        for i in range(len(nums)):\n",
    "            if visited[i] == 0:\n",
    "                visited[i] = 1\n",
    "                self.dfs(nums, pos+1, temp+[nums[i]], res, visited)\n",
    "                visited[i] = 0"
   ]
  },
  {
   "cell_type": "code",
   "execution_count": 6,
   "metadata": {},
   "outputs": [],
   "source": [
    "#47. 全排列 II\n",
    "\n",
    "class Solution(object):\n",
    "    def permuteUnique(self, nums):\n",
    "        temp = []\n",
    "        res = []\n",
    "        visited = [0]*len(nums)\n",
    "        self.dfs(nums, 0, temp, res, visited)\n",
    "        return res\n",
    "\n",
    "    def dfs(self, nums, pos, temp, res, visited):\n",
    "        if pos == len(nums):\n",
    "            if temp not in res:\n",
    "                res.append(temp)\n",
    "            return\n",
    "        for i in range(len(nums)):\n",
    "            if visited[i] == 0:\n",
    "                visited[i] = 1\n",
    "                self.dfs(nums, pos+1, temp+[nums[i]], res, visited)\n",
    "                visited[i] = 0\n",
    "        "
   ]
  },
  {
   "cell_type": "code",
   "execution_count": null,
   "metadata": {},
   "outputs": [],
   "source": []
  },
  {
   "cell_type": "code",
   "execution_count": null,
   "metadata": {},
   "outputs": [],
   "source": []
  }
 ],
 "metadata": {
  "kernelspec": {
   "display_name": "Python 3",
   "language": "python",
   "name": "python3"
  },
  "language_info": {
   "codemirror_mode": {
    "name": "ipython",
    "version": 3
   },
   "file_extension": ".py",
   "mimetype": "text/x-python",
   "name": "python",
   "nbconvert_exporter": "python",
   "pygments_lexer": "ipython3",
   "version": "3.6.5"
  }
 },
 "nbformat": 4,
 "nbformat_minor": 2
}
