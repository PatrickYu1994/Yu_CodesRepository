{
 "cells": [
  {
   "cell_type": "code",
   "execution_count": 1,
   "metadata": {},
   "outputs": [],
   "source": [
    "# 执行用时 :12 ms, 在所有 Python 提交中击败了98.37% 的用户\n",
    "# 内存消耗 :12.7 MB, 在所有 Python 提交中击败了5.25%的用户\n",
    "class Solution(object):\n",
    "    def subsets(self, nums):\n",
    "        res = [] # 记录结果，满足条件的都放到res中去\n",
    "        l = [] \n",
    "        self.dfs(nums, 0, l, res)\n",
    "        return res\n",
    "        \n",
    "    def dfs(self, nums, pos, l, res):\n",
    "        # 退出条件\n",
    "        if pos == len(nums):\n",
    "            res.append(l) #满足退出条件，将list加入到res当中去\n",
    "            return\n",
    "        # 一般需要一个for循环\n",
    "        # 这里只有两种情况，选或者不选\n",
    "        # 1. 选\n",
    "        self.dfs(nums, pos+1, l+[nums[pos]], res)\n",
    "        # 2.不选\n",
    "        self.dfs(nums, pos+1, l, res)\n",
    "            "
   ]
  },
  {
   "cell_type": "code",
   "execution_count": null,
   "metadata": {},
   "outputs": [],
   "source": []
  }
 ],
 "metadata": {
  "kernelspec": {
   "display_name": "Python 3",
   "language": "python",
   "name": "python3"
  },
  "language_info": {
   "codemirror_mode": {
    "name": "ipython",
    "version": 3
   },
   "file_extension": ".py",
   "mimetype": "text/x-python",
   "name": "python",
   "nbconvert_exporter": "python",
   "pygments_lexer": "ipython3",
   "version": "3.6.5"
  }
 },
 "nbformat": 4,
 "nbformat_minor": 2
}
