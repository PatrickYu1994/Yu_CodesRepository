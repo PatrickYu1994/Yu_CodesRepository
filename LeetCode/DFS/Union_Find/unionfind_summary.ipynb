{
 "cells": [
  {
   "cell_type": "markdown",
   "metadata": {},
   "source": [
    "https://www.bilibili.com/video/av90091745\n",
    "思想：\n",
    "    1.首先把每一个个体都独立化为一个群体 （每一个父节点都是一个群体的代表）\n",
    "    2.如果发现两个点可以合并（e.g.能连通）\n",
    "        2.1.find - 先找到两个点的父节点\n",
    "        2.2.union - 然后把两个点的父节点，一个指向另一个 (两个点share一个父节点-把两个群体合成一个群体)\n",
    "        "
   ]
  },
  {
   "cell_type": "code",
   "execution_count": null,
   "metadata": {},
   "outputs": [],
   "source": [
    "# 547. 朋友圈\n",
    "\n",
    "# 并查集 (union find)\n",
    "\n",
    "# 执行用时 :200 ms, 在所有 Python 提交中击败了57.51% 的用户\n",
    "# 内存消耗 :13.1 MB, 在所有 Python 提交中击败了22.47%的用户\n",
    "\n",
    "class Solution(object):\n",
    "    def findCircleNum(self, M):\n",
    "        if len(M[0]) == 0:\n",
    "            return 0\n",
    "        fathers = []\n",
    "        count = 0\n",
    "        for i in range(len(M)): # 1.每一个个体都独立化为一个群体\n",
    "            fathers.append(i)\n",
    "        for i in range(len(M)):\n",
    "            for j in range(len(M)):\n",
    "                if M[i][j]:  # 2.如果发现两个点可以合并（e.g.能连通）\n",
    "                    self.uni(i, j, fathers)\n",
    "        for i in range(len(fathers)):\n",
    "            if i == fathers[i]:\n",
    "                count += 1\n",
    "        return count\n",
    "\n",
    "    def uni(self, i, j, fathers):\n",
    "        f1 = self.find(i, fathers) # 2.1. find - 先找到两个点的父节点\n",
    "        f2 = self.find(j, fathers)\n",
    "        fathers[f2] = f1 # 2.2. union - 然后把两个点的父节点，一个指向另一个 (两个点share一个父节点-把两个群体合成一个群体)\n",
    "\n",
    "    def find(self, i, fathers):\n",
    "        while fathers[i] != i:\n",
    "            i = fathers[i]\n",
    "        return i"
   ]
  }
 ],
 "metadata": {
  "kernelspec": {
   "display_name": "Python 3",
   "language": "python",
   "name": "python3"
  },
  "language_info": {
   "codemirror_mode": {
    "name": "ipython",
    "version": 3
   },
   "file_extension": ".py",
   "mimetype": "text/x-python",
   "name": "python",
   "nbconvert_exporter": "python",
   "pygments_lexer": "ipython3",
   "version": "3.6.5"
  }
 },
 "nbformat": 4,
 "nbformat_minor": 2
}
