{
 "cells": [
  {
   "cell_type": "code",
   "execution_count": 1,
   "metadata": {},
   "outputs": [],
   "source": [
    "# 执行用时 :100 ms, 在所有 Python 提交中击败了76.40% 的用户\n",
    "# 内存消耗 :18.5 MB, 在所有 Python 提交中击败了100.00%的用户\n",
    "\n",
    "class Solution(object):\n",
    "    def numIslands(self, grid):\n",
    "        if len(grid) == 0 or len(grid[0]) == 0:\n",
    "            return 0\n",
    "        father = [i for i in range(len(grid)*len(grid[0]))]\n",
    "        count = 0\n",
    "        for row in range(len(grid)):\n",
    "            for col in range(len(grid[0])):\n",
    "                if grid[row][col] == \"0\":\n",
    "                    continue\n",
    "                n = len(grid[0])\n",
    "                ind = row*n+col\n",
    "                if row > 0 and grid[row-1][col] == \"1\":\n",
    "                    self.uni(ind, ind-n, father)\n",
    "                if row < len(grid)-1 and grid[row+1][col] == \"1\":\n",
    "                    self.uni(ind, ind+n, father)\n",
    "                if col > 0 and grid[row][col-1] == \"1\":\n",
    "                    self.uni(ind, ind-1, father)\n",
    "                if col < n-1 and grid[row][col+1] == \"1\":\n",
    "                    self.uni(ind, ind+1, father)\n",
    "        \n",
    "        for row in range(len(grid)):\n",
    "            for col in range(len(grid[0])):\n",
    "                curr_pos = row * len(grid[0]) + col\n",
    "                if father[curr_pos] == curr_pos and grid[row][col] == \"1\":\n",
    "                    count += 1\n",
    "        \n",
    "        return count\n",
    "\n",
    "    def uni(self, i, j, father):\n",
    "        f_i = self.find(i, father)\n",
    "        f_j = self.find(j, father)\n",
    "        father[f_i] = f_j\n",
    "\n",
    "    def find(self, i, father):\n",
    "        while father[i] != i:\n",
    "            i = father[i]\n",
    "        return i                "
   ]
  }
 ],
 "metadata": {
  "kernelspec": {
   "display_name": "Python 3",
   "language": "python",
   "name": "python3"
  },
  "language_info": {
   "codemirror_mode": {
    "name": "ipython",
    "version": 3
   },
   "file_extension": ".py",
   "mimetype": "text/x-python",
   "name": "python",
   "nbconvert_exporter": "python",
   "pygments_lexer": "ipython3",
   "version": "3.6.5"
  }
 },
 "nbformat": 4,
 "nbformat_minor": 2
}
