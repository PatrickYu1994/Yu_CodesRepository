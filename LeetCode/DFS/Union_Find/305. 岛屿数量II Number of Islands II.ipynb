{
 "cells": [
  {
   "cell_type": "code",
   "execution_count": 3,
   "metadata": {},
   "outputs": [],
   "source": [
    "class Solution:\n",
    "    def numIslands2(self, m, n, positions):\n",
    "        grid = [[0]*n for _ in range(m)]\n",
    "        father = [i for i in range(m*n)]\n",
    "        count = 0\n",
    "        res = []\n",
    "        for pos in positions:\n",
    "            i = pos[0]\n",
    "            j = pos[1]\n",
    "            if grid[i][j] == \"1\":  # 如果grid[i][j]已经是\"1\"的话，将count直接放到res中\n",
    "                res.append(count)\n",
    "                continue\n",
    "            #如果grid[i][j]原本是0，没有加过的话，count首先+1\n",
    "            count += 1\n",
    "            grid[i][j] = \"1\"\n",
    "            #之后将当前岛屿与周围岛屿连通\n",
    "            cur_pos = i*n+j\n",
    "            if i > 0 and grid[i-1][j] == \"1\":\n",
    "                if self.uni(cur_pos, cur_pos-n, father):\n",
    "                    count-=1\n",
    "            if i < m-1 and grid[i+1][j] == \"1\":\n",
    "                if self.uni(cur_pos, cur_pos+n, father):\n",
    "                    count-=1\n",
    "            if j > 0 and grid[i][j-1] == \"1\":\n",
    "                if self.uni(cur_pos, cur_pos-1, father):\n",
    "                    count-=1\n",
    "            if j < n-1 and grid[i][j+1] == \"1\":\n",
    "                if self.uni(cur_pos, cur_pos+1, father):\n",
    "                    count-=1\n",
    "            res.append(count)\n",
    "        return res\n",
    "            \n",
    "    def uni(self, i, j, father):\n",
    "        fi = self.find(i, father)\n",
    "        fj = self.find(j, father)\n",
    "        if fi == fj:\n",
    "            return False\n",
    "        father[fi] = fj\n",
    "        return True\n",
    "    \n",
    "    def find(self, i, father):\n",
    "        while father[i] != i:\n",
    "            i = father[i]\n",
    "        return i"
   ]
  },
  {
   "cell_type": "code",
   "execution_count": 4,
   "metadata": {},
   "outputs": [
    {
     "data": {
      "text/plain": [
       "[1, 1, 2, 3]"
      ]
     },
     "execution_count": 4,
     "metadata": {},
     "output_type": "execute_result"
    }
   ],
   "source": [
    "s = Solution()\n",
    "s.numIslands2(3,3,[[0,0], [0,1], [1,2], [2,1]])"
   ]
  },
  {
   "cell_type": "code",
   "execution_count": null,
   "metadata": {},
   "outputs": [],
   "source": []
  }
 ],
 "metadata": {
  "kernelspec": {
   "display_name": "Python 3",
   "language": "python",
   "name": "python3"
  },
  "language_info": {
   "codemirror_mode": {
    "name": "ipython",
    "version": 3
   },
   "file_extension": ".py",
   "mimetype": "text/x-python",
   "name": "python",
   "nbconvert_exporter": "python",
   "pygments_lexer": "ipython3",
   "version": "3.6.5"
  }
 },
 "nbformat": 4,
 "nbformat_minor": 2
}
