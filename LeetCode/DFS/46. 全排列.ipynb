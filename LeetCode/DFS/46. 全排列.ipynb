{
 "cells": [
  {
   "cell_type": "code",
   "execution_count": null,
   "metadata": {},
   "outputs": [],
   "source": [
    "# 执行用时 :24 ms, 在所有 Python 提交中击败了82.93% 的用户\n",
    "# 内存消耗 :12.8 MB, 在所有 Python 提交中击败了5.62%的用户\n",
    "\n",
    "class Solution(object):\n",
    "    def permute(self, nums):\n",
    "        res = []\n",
    "        temp = []\n",
    "        visited = [0] * len(nums)\n",
    "        self.dfs(nums, 0, temp, res, visited)\n",
    "        return res\n",
    "\n",
    "    \n",
    "    def dfs(self, nums, pos, temp, res, visited):\n",
    "        if pos == len(nums):\n",
    "            res.append(temp)\n",
    "            return\n",
    "        for i in range(len(nums)):\n",
    "            if visited[i] == 0:\n",
    "                visited[i] = 1\n",
    "                self.dfs(nums, pos+1, temp+[nums[i]], res, visited)\n",
    "                visited[i] = 0"
   ]
  },
  {
   "cell_type": "code",
   "execution_count": null,
   "metadata": {},
   "outputs": [],
   "source": []
  },
  {
   "cell_type": "code",
   "execution_count": 12,
   "metadata": {},
   "outputs": [],
   "source": [
    "class Solution:\n",
    "    def reverse(self, s):\n",
    "        s = s.split()\n",
    "        tail = len(s)-1\n",
    "        head = 0\n",
    "        while head < tail:\n",
    "            temp = s[head]\n",
    "            s[head] = s[tail]\n",
    "            s[tail] = temp\n",
    "            head += 1\n",
    "            tail -= 1\n",
    "        return \" \".join(s)\n",
    "        \n"
   ]
  },
  {
   "cell_type": "code",
   "execution_count": 13,
   "metadata": {},
   "outputs": [
    {
     "data": {
      "text/plain": [
       "'down falling is bridge London'"
      ]
     },
     "execution_count": 13,
     "metadata": {},
     "output_type": "execute_result"
    }
   ],
   "source": [
    "s = Solution()\n",
    "s.reverse(\"London bridge is falling down\")"
   ]
  },
  {
   "cell_type": "code",
   "execution_count": null,
   "metadata": {},
   "outputs": [],
   "source": []
  }
 ],
 "metadata": {
  "kernelspec": {
   "display_name": "Python 3",
   "language": "python",
   "name": "python3"
  },
  "language_info": {
   "codemirror_mode": {
    "name": "ipython",
    "version": 3
   },
   "file_extension": ".py",
   "mimetype": "text/x-python",
   "name": "python",
   "nbconvert_exporter": "python",
   "pygments_lexer": "ipython3",
   "version": "3.6.5"
  }
 },
 "nbformat": 4,
 "nbformat_minor": 2
}
