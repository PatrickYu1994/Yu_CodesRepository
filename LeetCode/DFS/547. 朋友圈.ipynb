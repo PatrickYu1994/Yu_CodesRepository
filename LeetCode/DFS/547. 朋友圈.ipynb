{
 "cells": [
  {
   "cell_type": "code",
   "execution_count": null,
   "metadata": {},
   "outputs": [],
   "source": [
    "# 执行用时 :300 ms, 在所有 Python 提交中击败了24.92% 的用户\n",
    "# 内存消耗 :12.9 MB, 在所有 Python 提交中击败了22.47%的用户\n",
    "class Solution(object):\n",
    "    def findCircleNum(self, M):\n",
    "        visited = [0] * len(M[0])\n",
    "        count = 0\n",
    "        for i in range(len(M)):\n",
    "            if visited[i] == 0:\n",
    "                self.dfs(M, visited, i)\n",
    "                count+=1\n",
    "        return count\n",
    "\n",
    "    def dfs(self, M, visited, i):\n",
    "        for j in range(len(M)):\n",
    "            if visited[j] == 0 and M[i][j] == 1:\n",
    "                visited[j] = 1\n",
    "                self.dfs(M, visited, j)\n",
    "\n",
    "\n",
    "        "
   ]
  }
 ],
 "metadata": {
  "kernelspec": {
   "display_name": "Python 3",
   "language": "python",
   "name": "python3"
  },
  "language_info": {
   "codemirror_mode": {
    "name": "ipython",
    "version": 3
   },
   "file_extension": ".py",
   "mimetype": "text/x-python",
   "name": "python",
   "nbconvert_exporter": "python",
   "pygments_lexer": "ipython3",
   "version": "3.6.5"
  }
 },
 "nbformat": 4,
 "nbformat_minor": 2
}
