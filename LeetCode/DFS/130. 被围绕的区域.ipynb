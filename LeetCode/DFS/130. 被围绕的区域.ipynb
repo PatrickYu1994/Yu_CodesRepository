{
 "cells": [
  {
   "cell_type": "code",
   "execution_count": 1,
   "metadata": {},
   "outputs": [],
   "source": [
    "# 执行用时 :56 ms, 在所有 Python 提交中击败了82.62% 的用户\n",
    "# 内存消耗 :16.8 MB, 在所有 Python 提交中击败了64.28%的用户\n",
    "\n",
    "class Solution(object):\n",
    "    def solve(self, board):\n",
    "        if len(board) == 0 or len(board[0]) == 0:\n",
    "            return 0\n",
    "        m = len(board)\n",
    "        n = len(board[0])\n",
    "        visited = [[0]*n for _ in range(m)]\n",
    "        for row in range(m):\n",
    "            for col in range(n):\n",
    "                if board[row][col] == \"O\" and (row == 0 or row == m-1 or col == 0 or col == n-1) and not visited[row][col]:\n",
    "                    self.fun(board, row, col, visited)\n",
    "        for row in range(m):\n",
    "            for col in range(n):\n",
    "                if board[row][col] == \"O\":\n",
    "                    board[row][col] = \"X\"\n",
    "                if board[row][col] == \"#\":\n",
    "                    board[row][col] = \"O\"\n",
    "        return board\n",
    "    \n",
    "    def fun(self, board, row, col, visited):\n",
    "        if row < 0 or col < 0 or row >= len(board) or col >= len(board[0]) or board[row][col] == \"X\":\n",
    "            return\n",
    "        if visited[row][col] == 0:\n",
    "            visited[row][col] = 1\n",
    "            board[row][col] = \"#\"\n",
    "            self.fun(board, row+1, col, visited)\n",
    "            self.fun(board, row-1, col, visited)\n",
    "            self.fun(board, row, col+1, visited)\n",
    "            self.fun(board, row, col-1, visited)\n",
    "            \n",
    "        "
   ]
  },
  {
   "cell_type": "code",
   "execution_count": null,
   "metadata": {},
   "outputs": [],
   "source": []
  }
 ],
 "metadata": {
  "kernelspec": {
   "display_name": "Python 3",
   "language": "python",
   "name": "python3"
  },
  "language_info": {
   "codemirror_mode": {
    "name": "ipython",
    "version": 3
   },
   "file_extension": ".py",
   "mimetype": "text/x-python",
   "name": "python",
   "nbconvert_exporter": "python",
   "pygments_lexer": "ipython3",
   "version": "3.6.5"
  }
 },
 "nbformat": 4,
 "nbformat_minor": 2
}
