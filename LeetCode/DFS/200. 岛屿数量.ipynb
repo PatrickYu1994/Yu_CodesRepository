{
 "cells": [
  {
   "cell_type": "code",
   "execution_count": null,
   "metadata": {},
   "outputs": [],
   "source": [
    "# 执行用时 :152 ms, 在所有 Python 提交中击败了32.05% 的用户\n",
    "# 内存消耗 :16.6 MB, 在所有 Python 提交中击败了100.00%的用户\n",
    "class Solution(object):\n",
    "    def numIslands(self, grid):\n",
    "        # DFS\n",
    "        if len(grid) == 0 or len(grid[0]) == 0:\n",
    "            return 0\n",
    "        count = 0\n",
    "        visited = [[0]*len(grid[0]) for _ in range(len(grid))]\n",
    "        for col in range(len(grid[0])):\n",
    "            for row in range(len(grid)):\n",
    "                if grid[row][col] == \"1\" and not visited[row][col]:\n",
    "                    self.fun(grid, row, col, visited)\n",
    "                    count += 1\n",
    "        return count\n",
    "\n",
    "    def fun(self, grid, row, col, visited):\n",
    "        #print(row, col, grid[row][col])\n",
    "        if row < 0 or col < 0 or row >= len(grid) or col >= len(grid[0]) or grid[row][col] == \"0\":\n",
    "            return \n",
    "        if visited[row][col] == 0:\n",
    "            visited[row][col] = 1\n",
    "            self.fun(grid, row+1, col, visited)\n",
    "            self.fun(grid, row-1, col, visited)\n",
    "            self.fun(grid, row, col+1, visited)\n",
    "            self.fun(grid, row, col-1, visited)"
   ]
  }
 ],
 "metadata": {
  "kernelspec": {
   "display_name": "Python 3",
   "language": "python",
   "name": "python3"
  },
  "language_info": {
   "codemirror_mode": {
    "name": "ipython",
    "version": 3
   },
   "file_extension": ".py",
   "mimetype": "text/x-python",
   "name": "python",
   "nbconvert_exporter": "python",
   "pygments_lexer": "ipython3",
   "version": "3.6.5"
  }
 },
 "nbformat": 4,
 "nbformat_minor": 2
}
