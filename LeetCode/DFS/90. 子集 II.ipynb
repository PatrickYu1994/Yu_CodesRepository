{
 "cells": [
  {
   "cell_type": "code",
   "execution_count": 1,
   "metadata": {},
   "outputs": [],
   "source": [
    "# 执行用时 :32 ms, 在所有 Python 提交中击败了39.68% 的用户\n",
    "# 内存消耗 :12.1 MB, 在所有 Python 提交中击败了6.86%的用户\n",
    "class Solution(object):\n",
    "    def subsetsWithDup(self, nums):\n",
    "        \"\"\"\n",
    "        :type nums: List[int]\n",
    "        :rtype: List[List[int]]\n",
    "        \"\"\"\n",
    "        temp = []\n",
    "        res = []\n",
    "        visited = []\n",
    "        self.dfs(nums, 0, temp, res)\n",
    "        return res\n",
    "\n",
    "\n",
    "    def dfs(self, nums, pos, temp, res):\n",
    "        if pos == len(nums):\n",
    "            if sorted(temp) not in res:\n",
    "                res.append(sorted(temp))\n",
    "            return\n",
    "        self.dfs(nums, pos+1, temp+[nums[pos]], res)\n",
    "        self.dfs(nums, pos+1, temp, res)"
   ]
  },
  {
   "cell_type": "code",
   "execution_count": null,
   "metadata": {},
   "outputs": [],
   "source": []
  }
 ],
 "metadata": {
  "kernelspec": {
   "display_name": "Python 3",
   "language": "python",
   "name": "python3"
  },
  "language_info": {
   "codemirror_mode": {
    "name": "ipython",
    "version": 3
   },
   "file_extension": ".py",
   "mimetype": "text/x-python",
   "name": "python",
   "nbconvert_exporter": "python",
   "pygments_lexer": "ipython3",
   "version": "3.6.5"
  }
 },
 "nbformat": 4,
 "nbformat_minor": 2
}
