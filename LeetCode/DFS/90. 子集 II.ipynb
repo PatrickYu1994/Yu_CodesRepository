{
 "cells": [
  {
   "cell_type": "code",
   "execution_count": 1,
   "metadata": {},
   "outputs": [],
   "source": [
    "# 执行用时 :40 ms, 在所有 Python 提交中击败了19.27% 的用户\n",
    "# 内存消耗 :12.9 MB, 在所有 Python 提交中击败了5.88%的用户\n",
    "class Solution(object):\n",
    "    def subsetsWithDup(self, nums):\n",
    "        \"\"\"\n",
    "        :type nums: List[int]\n",
    "        :rtype: List[List[int]]\n",
    "        \"\"\"\n",
    "        nums.sort()\n",
    "        temp = []\n",
    "        res = []\n",
    "        visited = [0]*len(nums)\n",
    "        self.dfs(nums, 0, temp, res, visited)\n",
    "        return res\n",
    "\n",
    "\n",
    "    def dfs(self, nums, pos, temp, res, visited):\n",
    "        if pos == len(nums):\n",
    "            res.append(sorted(temp))\n",
    "            return\n",
    "        if pos > 0 and nums[pos] == nums[pos-1] and visited[pos-1] == 0: #如果前一个没选，并且前一个数字与当前数字相同，则当前数字不选\n",
    "            self.dfs(nums, pos+1, temp, res, visited)\n",
    "            return\n",
    "        visited[pos] = 1\n",
    "        self.dfs(nums, pos+1, temp+[nums[pos]], res, visited)\n",
    "        visited[pos] = 0\n",
    "        self.dfs(nums, pos+1, temp, res, visited)"
   ]
  },
  {
   "cell_type": "code",
   "execution_count": null,
   "metadata": {},
   "outputs": [],
   "source": [
    "# 执行用时 :32 ms, 在所有 Python 提交中击败了39.68% 的用户\n",
    "# 内存消耗 :12.1 MB, 在所有 Python 提交中击败了6.86%的用户\n",
    "class Solution(object):\n",
    "    def subsetsWithDup(self, nums):\n",
    "        \"\"\"\n",
    "        :type nums: List[int]\n",
    "        :rtype: List[List[int]]\n",
    "        \"\"\"\n",
    "        temp = []\n",
    "        res = []\n",
    "        visited = []\n",
    "        self.dfs(nums, 0, temp, res)\n",
    "        return res\n",
    "\n",
    "\n",
    "    def dfs(self, nums, pos, temp, res):\n",
    "        if pos == len(nums):\n",
    "            if sorted(temp) not in res:\n",
    "                res.append(sorted(temp))\n",
    "            return\n",
    "        self.dfs(nums, pos+1, temp+[nums[pos]], res)\n",
    "        self.dfs(nums, pos+1, temp, res)"
   ]
  }
 ],
 "metadata": {
  "kernelspec": {
   "display_name": "Python 3",
   "language": "python",
   "name": "python3"
  },
  "language_info": {
   "codemirror_mode": {
    "name": "ipython",
    "version": 3
   },
   "file_extension": ".py",
   "mimetype": "text/x-python",
   "name": "python",
   "nbconvert_exporter": "python",
   "pygments_lexer": "ipython3",
   "version": "3.6.5"
  }
 },
 "nbformat": 4,
 "nbformat_minor": 2
}
