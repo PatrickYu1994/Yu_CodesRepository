{
 "cells": [
  {
   "cell_type": "code",
   "execution_count": 54,
   "metadata": {},
   "outputs": [],
   "source": [
    "'''\n",
    "DP\n",
    "Runtime: 48 ms, faster than 45.76% of Python online submissions for Triangle.\n",
    "Memory Usage: 12.6 MB, less than 16.67% of Python online submissions for Triangle.\n",
    "'''\n",
    "\n",
    "class Solution(object):\n",
    "    def minimumTotal(self, triangle):\n",
    "        \"\"\"\n",
    "        :type triangle: List[List[int]]\n",
    "        :rtype: int\n",
    "        \"\"\"\n",
    "        arr = [[0]*len(triangle[row]) for row in range(len(triangle))]\n",
    "        arr[0][0] = triangle[0][0]\n",
    "        for row in range(1, len(arr)):\n",
    "            for col in range(len(arr[row])):\n",
    "                if col < 1:\n",
    "                    arr[row][col] = triangle[row][col] + arr[row-1][col]\n",
    "                elif col >= len(arr[row]) - 1:\n",
    "                    arr[row][col] = triangle[row][col] + arr[row-1][col-1]\n",
    "                else:\n",
    "                    arr[row][col] = triangle[row][col] + min(arr[row-1][col], arr[row-1][col-1])\n",
    "        return min(arr[-1])"
   ]
  },
  {
   "cell_type": "code",
   "execution_count": 55,
   "metadata": {},
   "outputs": [
    {
     "data": {
      "text/plain": [
       "-1"
      ]
     },
     "execution_count": 55,
     "metadata": {},
     "output_type": "execute_result"
    }
   ],
   "source": [
    "s = Solution()\n",
    "s.minimumTotal([[-1],[3,2],[1,-2,-1]])"
   ]
  },
  {
   "cell_type": "code",
   "execution_count": 19,
   "metadata": {},
   "outputs": [],
   "source": [
    "\"\"\"\n",
    "递归\n",
    "Time Limit Exceeded\n",
    "\"\"\"\n",
    "\n",
    "class Solution(object):\n",
    "    def minimumTotal(self, triangle):\n",
    "        \"\"\"\n",
    "        :type triangle: List[List[int]]\n",
    "        :rtype: int\n",
    "        \"\"\"\n",
    "        return self.helper(triangle, 0, 0, 0)\n",
    "        \n",
    "    def helper(self, triangle, row, col, res): # row -> number of rows in triangle, col -> number of elements in row\n",
    "        if row >= len(triangle)-1:\n",
    "            return res+triangle[row][col]\n",
    "        else:\n",
    "            return min(self.helper(triangle, row + 1, col, res+triangle[row][col]), self.helper(triangle, row + 1, col+1, res+triangle[row][col]))"
   ]
  },
  {
   "cell_type": "code",
   "execution_count": null,
   "metadata": {},
   "outputs": [],
   "source": []
  }
 ],
 "metadata": {
  "kernelspec": {
   "display_name": "Python 3",
   "language": "python",
   "name": "python3"
  },
  "language_info": {
   "codemirror_mode": {
    "name": "ipython",
    "version": 3
   },
   "file_extension": ".py",
   "mimetype": "text/x-python",
   "name": "python",
   "nbconvert_exporter": "python",
   "pygments_lexer": "ipython3",
   "version": "3.6.5"
  }
 },
 "nbformat": 4,
 "nbformat_minor": 2
}
