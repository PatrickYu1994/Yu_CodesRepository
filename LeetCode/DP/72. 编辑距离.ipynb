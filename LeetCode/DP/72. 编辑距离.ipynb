{
 "cells": [
  {
   "cell_type": "code",
   "execution_count": 2,
   "metadata": {},
   "outputs": [],
   "source": [
    "#执行用时 :124 ms, 在所有 Python 提交中击败了72.53% 的用户\n",
    "#内存消耗 :14.9 MB, 在所有 Python 提交中击败了86.36%的用户\n",
    "class Solution(object):\n",
    "    def minDistance(self, word1, word2):\n",
    "        \"\"\"\n",
    "        :type word1: str\n",
    "        :type word2: str\n",
    "        :rtype: int\n",
    "        \"\"\"\n",
    "        ## D[i][j]表示word1第i个字母到word2第j个字母的距离\n",
    "        D = [[max(len(word1), len(word2))]*(len(word2)+1) for _ in range(len(word1)+1)]\n",
    "\n",
    "        for i in range(len(D)):\n",
    "            D[i][0] = i\n",
    "        for i in range(len(D[0])):\n",
    "            D[0][i] = i\n",
    "        \n",
    "        for i in range(1,len(D)):\n",
    "            for j in range(1,len(D[0])):\n",
    "                if word1[i-1] == word2[j-1]:\n",
    "                    D[i][j] = D[i-1][j-1]\n",
    "                else:\n",
    "                    D[i][j] = 1+min(D[i-1][j], D[i-1][j-1], D[i][j-1])\n",
    "        return D[-1][-1]\n"
   ]
  },
  {
   "cell_type": "code",
   "execution_count": 3,
   "metadata": {},
   "outputs": [],
   "source": [
    "#递归 超时\n",
    "class Solution(object):\n",
    "    def minDistance(self, word1, word2):\n",
    "        \"\"\"\n",
    "        :type word1: str\n",
    "        :type word2: str\n",
    "        :rtype: int\n",
    "        \"\"\"\n",
    "        operations = []\n",
    "        self.fun(word1, word2, operations, 0)\n",
    "        return min(operations)\n",
    "\n",
    "    def fun(self, w1, w2, operations, count):\n",
    "        if not w1 and not w2:\n",
    "            operations.append(count)\n",
    "        elif not w1: \n",
    "            operations.append(count+len(w2))\n",
    "        elif not w2:\n",
    "            operations.append(count+len(w1))\n",
    "        else: # w1 and w2\n",
    "            if w1[0] == w2[0]:\n",
    "                self.fun(w1[1:], w2[1:], operations, count)\n",
    "            else:\n",
    "                self.fun(w1[1:], w2[1:], operations, count+1) #replace\n",
    "                self.fun(w1[1:], w2[:], operations, count+1) #remove\n",
    "                self.fun(w1[:], w2[1:], operations, count+1) #insert"
   ]
  },
  {
   "cell_type": "code",
   "execution_count": null,
   "metadata": {},
   "outputs": [],
   "source": []
  }
 ],
 "metadata": {
  "kernelspec": {
   "display_name": "Python 3",
   "language": "python",
   "name": "python3"
  },
  "language_info": {
   "codemirror_mode": {
    "name": "ipython",
    "version": 3
   },
   "file_extension": ".py",
   "mimetype": "text/x-python",
   "name": "python",
   "nbconvert_exporter": "python",
   "pygments_lexer": "ipython3",
   "version": "3.6.5"
  }
 },
 "nbformat": 4,
 "nbformat_minor": 2
}
