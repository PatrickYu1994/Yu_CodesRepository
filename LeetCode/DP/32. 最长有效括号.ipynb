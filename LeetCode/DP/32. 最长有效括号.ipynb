{
 "cells": [
  {
   "cell_type": "code",
   "execution_count": 41,
   "metadata": {},
   "outputs": [],
   "source": [
    "#执行用时 :32 ms, 在所有 Python 提交中击败了93.92% 的用户\n",
    "#内存消耗 :12.2 MB, 在所有 Python 提交中击败了84.58%的用户\n",
    "class Solution(object):\n",
    "    def longestValidParentheses(self, s):\n",
    "        \"\"\"\n",
    "        :type s: str\n",
    "        :rtype: int\n",
    "        \"\"\"\n",
    "        if not s:\n",
    "            return 0\n",
    "        res = [0]*len(s)\n",
    "        for i in range(1,len(s)):\n",
    "            if s[i] == \")\":\n",
    "                pre = i - res[i-1] -1\n",
    "                if pre >= 0 and s[pre] == \"(\":\n",
    "                    res[i] = res[i-1] + 2\n",
    "                    if pre > 0:\n",
    "                        res[i] += res[pre-1]\n",
    "        return max(res)"
   ]
  },
  {
   "cell_type": "code",
   "execution_count": null,
   "metadata": {},
   "outputs": [],
   "source": []
  }
 ],
 "metadata": {
  "kernelspec": {
   "display_name": "Python 3",
   "language": "python",
   "name": "python3"
  },
  "language_info": {
   "codemirror_mode": {
    "name": "ipython",
    "version": 3
   },
   "file_extension": ".py",
   "mimetype": "text/x-python",
   "name": "python",
   "nbconvert_exporter": "python",
   "pygments_lexer": "ipython3",
   "version": "3.6.5"
  }
 },
 "nbformat": 4,
 "nbformat_minor": 2
}
