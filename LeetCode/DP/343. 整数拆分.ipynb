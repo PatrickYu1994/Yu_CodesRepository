{
 "cells": [
  {
   "cell_type": "code",
   "execution_count": null,
   "metadata": {},
   "outputs": [],
   "source": [
    "执行用时 :32 ms, 在所有 Python 提交中击败了19.86% 的用户\n",
    "内存消耗 :12.7 MB, 在所有 Python 提交中击败了5.55%的用户"
   ]
  },
  {
   "cell_type": "code",
   "execution_count": null,
   "metadata": {},
   "outputs": [],
   "source": [
    "class Solution(object):\n",
    "    def integerBreak(self, n):\n",
    "        if n == 2:\n",
    "            return 1\n",
    "        res = [1]*(n+1)\n",
    "        res[2] = 1\n",
    "        res[3] = 2\n",
    "        for i in range(4, n+1):\n",
    "            for j in range(1, i):\n",
    "                res[i] = max(res[i], max(res[j], j)*max(res[i-j], i-j))\n",
    "        return res[-1]\n"
   ]
  }
 ],
 "metadata": {
  "kernelspec": {
   "display_name": "Python 3",
   "language": "python",
   "name": "python3"
  },
  "language_info": {
   "codemirror_mode": {
    "name": "ipython",
    "version": 3
   },
   "file_extension": ".py",
   "mimetype": "text/x-python",
   "name": "python",
   "nbconvert_exporter": "python",
   "pygments_lexer": "ipython3",
   "version": "3.6.5"
  }
 },
 "nbformat": 4,
 "nbformat_minor": 2
}
