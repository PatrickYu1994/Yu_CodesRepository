{
 "cells": [
  {
   "cell_type": "code",
   "execution_count": 1,
   "metadata": {},
   "outputs": [],
   "source": [
    "#执行用时 :24 ms, 在所有 Python 提交中击败了86.26% 的用户\n",
    "#内存消耗 :11.7 MB, 在所有 Python 提交中击败了77.96%的用户\n",
    "class Solution(object):\n",
    "    def uniquePathsWithObstacles(self, obstacleGrid):\n",
    "        \"\"\"\n",
    "        :type obstacleGrid: List[List[int]]\n",
    "        :rtype: int\n",
    "        \"\"\"\n",
    "        res = [[0]*len(obstacleGrid[0]) for _ in range(len(obstacleGrid))]\n",
    "        if obstacleGrid[0][0] == 1:\n",
    "            return 0\n",
    "        else:\n",
    "            res[0][0] = 1\n",
    "        for i in range(1,len(res)):\n",
    "            if obstacleGrid[i][0] == 0:\n",
    "                res[i][0] = res[i-1][0]\n",
    "        for i in range(1,len(res[0])):\n",
    "            if obstacleGrid[0][i] == 0:\n",
    "                res[0][i] = res[0][i-1]\n",
    "        for row in range(1, len(res)):\n",
    "            for col in range(1, len(res[0])):\n",
    "                if obstacleGrid[row][col] == 0:\n",
    "                    res[row][col] = res[row-1][col]+res[row][col-1]\n",
    "        return res[-1][-1]"
   ]
  },
  {
   "cell_type": "code",
   "execution_count": null,
   "metadata": {},
   "outputs": [],
   "source": []
  }
 ],
 "metadata": {
  "kernelspec": {
   "display_name": "Python 3",
   "language": "python",
   "name": "python3"
  },
  "language_info": {
   "codemirror_mode": {
    "name": "ipython",
    "version": 3
   },
   "file_extension": ".py",
   "mimetype": "text/x-python",
   "name": "python",
   "nbconvert_exporter": "python",
   "pygments_lexer": "ipython3",
   "version": "3.6.5"
  }
 },
 "nbformat": 4,
 "nbformat_minor": 2
}
