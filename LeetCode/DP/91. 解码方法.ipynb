{
 "cells": [
  {
   "cell_type": "code",
   "execution_count": 1,
   "metadata": {},
   "outputs": [],
   "source": [
    "#执行用时 :36 ms, 在所有 Python 提交中击败了17.95% 的用户\n",
    "#内存消耗 :11.7 MB, 在所有 Python 提交中击败了95.45%的用户\n",
    "class Solution(object):\n",
    "    def numDecodings(self, s):\n",
    "        \"\"\"\n",
    "        :type s: str\n",
    "        :rtype: int\n",
    "        \"\"\"\n",
    "        if (not s) or s[0] == \"0\":\n",
    "            return 0\n",
    "        s = list(s)\n",
    "        res = [0]*len(s)\n",
    "        res[0] = 1\n",
    "        for i in range(1,len(res)):\n",
    "            res[i] = res[i-1] #把第i个数字当作单独单词\n",
    "            if s[i] == \"0\":\n",
    "                if s[i-1] in [\"1\", \"2\"]:\n",
    "                    if i > 1:\n",
    "                        res[i] = res[i-2]\n",
    "                    continue\n",
    "                else:\n",
    "                    return 0\n",
    "            if s[i-1] == \"1\": #可以组合1+num, e.g.17\n",
    "                if i > 2:\n",
    "                    res[i] += res[i-2]\n",
    "                else:\n",
    "                    res[i] += 1\n",
    "            if s[i-1] == \"2\" and s[i] in [\"1\", \"2\", \"3\", \"4\", \"5\", \"6\"]: #可以组合2+num\n",
    "                if i > 2:\n",
    "                    res[i] += res[i-2]\n",
    "                else:\n",
    "                    res[i] += 1\n",
    "        return res[-1]"
   ]
  },
  {
   "cell_type": "code",
   "execution_count": null,
   "metadata": {},
   "outputs": [],
   "source": []
  }
 ],
 "metadata": {
  "kernelspec": {
   "display_name": "Python 3",
   "language": "python",
   "name": "python3"
  },
  "language_info": {
   "codemirror_mode": {
    "name": "ipython",
    "version": 3
   },
   "file_extension": ".py",
   "mimetype": "text/x-python",
   "name": "python",
   "nbconvert_exporter": "python",
   "pygments_lexer": "ipython3",
   "version": "3.6.5"
  }
 },
 "nbformat": 4,
 "nbformat_minor": 2
}
