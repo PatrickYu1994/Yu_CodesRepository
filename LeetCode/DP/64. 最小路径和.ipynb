{
 "cells": [
  {
   "cell_type": "code",
   "execution_count": null,
   "metadata": {},
   "outputs": [],
   "source": [
    "#执行用时 :52 ms, 在所有 Python 提交中击败了83.13% 的用户\n",
    "#内存消耗 :13 MB, 在所有 Python 提交中击败了35.69%的用户\n",
    "class Solution(object):\n",
    "    def minPathSum(self, grid):\n",
    "        \"\"\"\n",
    "        :type grid: List[List[int]]\n",
    "        :rtype: int\n",
    "        \"\"\"\n",
    "        res = [[0]*len(grid[0]) for _ in range(len(grid))]\n",
    "        res[0][0] = grid[0][0]\n",
    "        for i in range(1,len(grid)):\n",
    "            res[i][0] = res[i-1][0]+grid[i][0]\n",
    "        for i in range(1,len(grid[0])):\n",
    "            res[0][i] = res[0][i-1]+grid[0][i]\n",
    "        for row in range(1,len(grid)):\n",
    "            for col in range(1,len(grid[0])):\n",
    "                res[row][col] = min(res[row-1][col], res[row][col-1])+grid[row][col]\n",
    "        return res[-1][-1]"
   ]
  }
 ],
 "metadata": {
  "kernelspec": {
   "display_name": "Python 3",
   "language": "python",
   "name": "python3"
  },
  "language_info": {
   "codemirror_mode": {
    "name": "ipython",
    "version": 3
   },
   "file_extension": ".py",
   "mimetype": "text/x-python",
   "name": "python",
   "nbconvert_exporter": "python",
   "pygments_lexer": "ipython3",
   "version": "3.6.5"
  }
 },
 "nbformat": 4,
 "nbformat_minor": 2
}
