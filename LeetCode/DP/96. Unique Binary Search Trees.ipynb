{
 "cells": [
  {
   "cell_type": "code",
   "execution_count": 24,
   "metadata": {},
   "outputs": [],
   "source": [
    "'''\n",
    "Runtime: 8 ms, faster than 97.40% of Python online submissions for Unique Binary Search Trees.\n",
    "Memory Usage: 11.9 MB, less than 18.18% of Python online submissions for Unique Binary Search Trees.\n",
    "'''\n",
    "\n",
    "class Solution(object):\n",
    "    def numTrees(self, n):\n",
    "        \"\"\"\n",
    "        :type n: int\n",
    "        :rtype: int\n",
    "        \"\"\"\n",
    "        if n < 1:\n",
    "            return 1\n",
    "        \n",
    "        dp = [0]*(n+1) #dp store possible number of binary search trees from 1~n\n",
    "        \n",
    "        # dp[0] == 1\n",
    "        # dp[1] == 1\n",
    "        if n >= 1: \n",
    "            dp[0] = 1\n",
    "            dp[1] = 1 \n",
    "        \n",
    "        for dp_i in range(2, n+1): # dp_i visit dp from 1~n\n",
    "            for dp_j in range(1, dp_i+1): # dp_j visit from 1~dp_i\n",
    "                dp[dp_i] += dp[dp_j-1]*dp[dp_i-dp_j]\n",
    "        return dp[-1]"
   ]
  },
  {
   "cell_type": "code",
   "execution_count": 25,
   "metadata": {},
   "outputs": [
    {
     "data": {
      "text/plain": [
       "5"
      ]
     },
     "execution_count": 25,
     "metadata": {},
     "output_type": "execute_result"
    }
   ],
   "source": [
    "s = Solution()\n",
    "s.numTrees(3)"
   ]
  },
  {
   "cell_type": "code",
   "execution_count": null,
   "metadata": {},
   "outputs": [],
   "source": []
  }
 ],
 "metadata": {
  "kernelspec": {
   "display_name": "Python 3",
   "language": "python",
   "name": "python3"
  },
  "language_info": {
   "codemirror_mode": {
    "name": "ipython",
    "version": 3
   },
   "file_extension": ".py",
   "mimetype": "text/x-python",
   "name": "python",
   "nbconvert_exporter": "python",
   "pygments_lexer": "ipython3",
   "version": "3.6.5"
  }
 },
 "nbformat": 4,
 "nbformat_minor": 2
}
