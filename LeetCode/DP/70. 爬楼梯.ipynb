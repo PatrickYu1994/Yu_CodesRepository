{
 "cells": [
  {
   "cell_type": "code",
   "execution_count": null,
   "metadata": {},
   "outputs": [],
   "source": [
    "#执行用时 :20 ms, 在所有 Python 提交中击败了60.87% 的用户\n",
    "#内存消耗 :11.6 MB, 在所有 Python 提交中击败了97.01%的用户\n",
    "class Solution(object):\n",
    "    def climbStairs(self, n):\n",
    "        \"\"\"\n",
    "        :type n: int\n",
    "        :rtype: int\n",
    "        \"\"\"\n",
    "        if n < 1:\n",
    "            return 0\n",
    "        res = [0] * (n+1)\n",
    "        if n >= 1:\n",
    "            res[1] = 1\n",
    "        if n >= 2:\n",
    "            res[2] = 2\n",
    "        for i in range(3, n+1):\n",
    "            res[i] = res[i-1]+res[i-2]\n",
    "        return res[n]\n"
   ]
  }
 ],
 "metadata": {
  "kernelspec": {
   "display_name": "Python 3",
   "language": "python",
   "name": "python3"
  },
  "language_info": {
   "codemirror_mode": {
    "name": "ipython",
    "version": 3
   },
   "file_extension": ".py",
   "mimetype": "text/x-python",
   "name": "python",
   "nbconvert_exporter": "python",
   "pygments_lexer": "ipython3",
   "version": "3.6.5"
  }
 },
 "nbformat": 4,
 "nbformat_minor": 2
}
