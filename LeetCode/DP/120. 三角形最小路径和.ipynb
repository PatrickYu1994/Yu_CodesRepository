{
 "cells": [
  {
   "cell_type": "code",
   "execution_count": null,
   "metadata": {},
   "outputs": [],
   "source": [
    "执行用时 :64 ms, 在所有 Python 提交中击败了14.44% 的用户\n",
    "内存消耗 :13.4 MB, 在所有 Python 提交中击败了5.66%的用户"
   ]
  },
  {
   "cell_type": "code",
   "execution_count": null,
   "metadata": {},
   "outputs": [],
   "source": [
    "class Solution(object):\n",
    "    def minimumTotal(self, triangle):\n",
    "        if len(triangle) == 0:\n",
    "            return 0\n",
    "        rows = len(triangle)\n",
    "        for row in range(rows):\n",
    "            res = [[0]*(row+1) for row in range(rows)]\n",
    "        res[0][0] = triangle[0][0]\n",
    "        for row in range(1, rows):\n",
    "            cols = row+1\n",
    "            for col in range(cols):\n",
    "                if col == 0:\n",
    "                    res[row][col] = triangle[row][col]+res[row-1][col]\n",
    "                elif col == cols-1:\n",
    "                    res[row][col] = triangle[row][col]+res[row-1][col-1]\n",
    "                else:\n",
    "                    res[row][col] = triangle[row][col]+min(res[row-1][col-1], res[row-1][col])\n",
    "        return min(res[-1])\n",
    "        "
   ]
  }
 ],
 "metadata": {
  "kernelspec": {
   "display_name": "Python 3",
   "language": "python",
   "name": "python3"
  },
  "language_info": {
   "codemirror_mode": {
    "name": "ipython",
    "version": 3
   },
   "file_extension": ".py",
   "mimetype": "text/x-python",
   "name": "python",
   "nbconvert_exporter": "python",
   "pygments_lexer": "ipython3",
   "version": "3.6.5"
  }
 },
 "nbformat": 4,
 "nbformat_minor": 2
}
