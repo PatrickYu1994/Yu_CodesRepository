{
 "cells": [
  {
   "cell_type": "code",
   "execution_count": 49,
   "metadata": {},
   "outputs": [],
   "source": [
    "class Solution(object):\n",
    "    def decodeString(self, s):\n",
    "        \"\"\"\n",
    "        :type s: str\n",
    "        :rtype: str\n",
    "        \"\"\"\n",
    "        if not s:\n",
    "            return \"\"\n",
    "        s = list(s)\n",
    "        dp = [\"\"] * len(s)\n",
    "        label = 0\n",
    "        temp = []\n",
    "        if s[-1] == \"]\":\n",
    "            s.pop()\n",
    "            temp.insert(0, [\"]\"])\n",
    "            label+=1\n",
    "        else:\n",
    "            dp[-1] = s.pop()\n",
    "        num = \"\"\n",
    "        i = len(dp)-1\n",
    "        while s:\n",
    "            i-=1\n",
    "            char = s.pop()\n",
    "            #print(temp)\n",
    "            if char.isdigit():\n",
    "                num = char+num\n",
    "                if s and s[-1].isdigit():\n",
    "                    dp[i] = dp[i+1]\n",
    "                    continue\n",
    "                s_cur = \"\".join(temp.pop(0)).replace(\"]\", \"\")\n",
    "                if temp:\n",
    "                    temp[0] = [s_cur*int(num)]+temp[0]\n",
    "                    dp[i] = dp[i+1]\n",
    "                else:\n",
    "                    dp[i] = s_cur*int(num)+dp[i+1]\n",
    "                num = \"\"\n",
    "            if char.isalpha():\n",
    "                if temp:\n",
    "                    temp[0] = [char] + temp[0]\n",
    "                    dp[i] = dp[i+1]\n",
    "                    continue\n",
    "                dp[i] = char + dp[i+1]\n",
    "            if char == '[':\n",
    "                label -= 1\n",
    "                dp[i] = dp[i+1]\n",
    "            if char == ']':\n",
    "                label += 1\n",
    "                dp[i] = dp[i+1]\n",
    "                temp.insert(0, [\"]\"])\n",
    "        return dp[0]"
   ]
  },
  {
   "cell_type": "code",
   "execution_count": 50,
   "metadata": {},
   "outputs": [
    {
     "data": {
      "text/plain": [
       "'aaabFFFFcbFFFFc'"
      ]
     },
     "execution_count": 50,
     "metadata": {},
     "output_type": "execute_result"
    }
   ],
   "source": [
    "s = Solution()\n",
    "s.decodeString(\"3[a]2[b4[F]c]\")"
   ]
  },
  {
   "cell_type": "code",
   "execution_count": null,
   "metadata": {},
   "outputs": [],
   "source": []
  }
 ],
 "metadata": {
  "kernelspec": {
   "display_name": "Python 3",
   "language": "python",
   "name": "python3"
  },
  "language_info": {
   "codemirror_mode": {
    "name": "ipython",
    "version": 3
   },
   "file_extension": ".py",
   "mimetype": "text/x-python",
   "name": "python",
   "nbconvert_exporter": "python",
   "pygments_lexer": "ipython3",
   "version": "3.6.5"
  }
 },
 "nbformat": 4,
 "nbformat_minor": 2
}
