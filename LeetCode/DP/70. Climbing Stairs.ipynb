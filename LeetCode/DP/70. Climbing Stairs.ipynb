{
 "cells": [
  {
   "cell_type": "code",
   "execution_count": 1,
   "metadata": {},
   "outputs": [],
   "source": [
    "class Solution(object):\n",
    "    def climbStairs(self, n):\n",
    "        # 青蛙跳台阶 f(n) = f(n-1)+f(n-2)\n",
    "        if n == 0:\n",
    "            return 0\n",
    "        dp = [0]*n\n",
    "        if n > 0:\n",
    "            dp[0] = 1\n",
    "        if n > 1:\n",
    "            dp[1] = 2\n",
    "        for i in range(2,n):\n",
    "            dp[i] = dp[i-1]+dp[i-2]\n",
    "        return dp[-1]"
   ]
  },
  {
   "cell_type": "code",
   "execution_count": null,
   "metadata": {},
   "outputs": [],
   "source": []
  }
 ],
 "metadata": {
  "kernelspec": {
   "display_name": "Python 3",
   "language": "python",
   "name": "python3"
  },
  "language_info": {
   "codemirror_mode": {
    "name": "ipython",
    "version": 3
   },
   "file_extension": ".py",
   "mimetype": "text/x-python",
   "name": "python",
   "nbconvert_exporter": "python",
   "pygments_lexer": "ipython3",
   "version": "3.6.5"
  }
 },
 "nbformat": 4,
 "nbformat_minor": 2
}
