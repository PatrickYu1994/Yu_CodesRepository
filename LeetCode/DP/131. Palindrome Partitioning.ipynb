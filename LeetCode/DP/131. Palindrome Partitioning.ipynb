{
 "cells": [
  {
   "cell_type": "code",
   "execution_count": 1,
   "metadata": {},
   "outputs": [],
   "source": [
    "class Solution(object):\n",
    "    def partition(self, s):\n",
    "        \"\"\"\n",
    "        :type s: str\n",
    "        :rtype: List[List[str]]\n",
    "        \"\"\"\n",
    "        res = []\n",
    "        self.fun(s, res, [])\n",
    "        return res\n",
    "\n",
    "    def fun(self, s, res, path):\n",
    "        if not len(s):\n",
    "            res.append(path)\n",
    "        for i in range(len(s)):\n",
    "            if self.is_par(list(s[:i+1])):\n",
    "                temp = path[:]\n",
    "                temp.append(s[:i+1])\n",
    "                self.fun(s[i+1:], res, temp)\n",
    "\n",
    "    \n",
    "    def is_par(self, s):\n",
    "        while len(s) > 1:\n",
    "            head = s.pop(0)\n",
    "            tail = s.pop()\n",
    "            if head != tail:\n",
    "                return False\n",
    "        return True"
   ]
  },
  {
   "cell_type": "code",
   "execution_count": 2,
   "metadata": {},
   "outputs": [
    {
     "name": "stdout",
     "output_type": "stream",
     "text": [
      "[['c', 'a', 'a', 'b', 'a', 'a', 'd'], ['c', 'a', 'a', 'b', 'aa', 'd'], ['c', 'a', 'aba', 'a', 'd'], ['c', 'aa', 'b', 'a', 'a', 'd'], ['c', 'aa', 'b', 'aa', 'd'], ['c', 'aabaa', 'd']]\n"
     ]
    }
   ],
   "source": [
    "s = Solution()\n",
    "print(s.partition(\"caabaad\"))"
   ]
  },
  {
   "cell_type": "code",
   "execution_count": null,
   "metadata": {},
   "outputs": [],
   "source": [
    "a\n"
   ]
  }
 ],
 "metadata": {
  "kernelspec": {
   "display_name": "Python 3",
   "language": "python",
   "name": "python3"
  },
  "language_info": {
   "codemirror_mode": {
    "name": "ipython",
    "version": 3
   },
   "file_extension": ".py",
   "mimetype": "text/x-python",
   "name": "python",
   "nbconvert_exporter": "python",
   "pygments_lexer": "ipython3",
   "version": "3.6.5"
  }
 },
 "nbformat": 4,
 "nbformat_minor": 2
}
