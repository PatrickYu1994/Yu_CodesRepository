{
 "cells": [
  {
   "cell_type": "code",
   "execution_count": 5,
   "metadata": {},
   "outputs": [],
   "source": [
    "class Solution(object):\n",
    "    def partition(self, s):\n",
    "        \"\"\"\n",
    "        :type s: str\n",
    "        :rtype: List[List[str]]\n",
    "        \"\"\"\n",
    "        if len(s) == 0:\n",
    "            return [[]]\n",
    "        if len(s) == 1:\n",
    "            return [[s]]\n",
    "        tmp = []\n",
    "        for i in range(1,len(s)+1):\n",
    "            left = s[:i]\n",
    "            right = s[i:]\n",
    "            if left ==left[::-1]: #如果左侧不是回文的，则舍弃这种尝试\n",
    "                right = self.partition(right)\n",
    "                for i in range(len(right)):\n",
    "                    tmp.append([left]+right[i])\n",
    "        return tmp"
   ]
  },
  {
   "cell_type": "code",
   "execution_count": 4,
   "metadata": {},
   "outputs": [
    {
     "name": "stdout",
     "output_type": "stream",
     "text": [
      "[['c', 'a', 'a', 'b', 'a', 'a', 'd'], ['c', 'a', 'a', 'b', 'aa', 'd'], ['c', 'a', 'aba', 'a', 'd'], ['c', 'aa', 'b', 'a', 'a', 'd'], ['c', 'aa', 'b', 'aa', 'd'], ['c', 'aabaa', 'd']]\n"
     ]
    }
   ],
   "source": [
    "s = Solution()\n",
    "print(s.partition(\"caabaad\"))"
   ]
  },
  {
   "cell_type": "code",
   "execution_count": null,
   "metadata": {},
   "outputs": [],
   "source": [
    "a\n"
   ]
  }
 ],
 "metadata": {
  "kernelspec": {
   "display_name": "Python 3",
   "language": "python",
   "name": "python3"
  },
  "language_info": {
   "codemirror_mode": {
    "name": "ipython",
    "version": 3
   },
   "file_extension": ".py",
   "mimetype": "text/x-python",
   "name": "python",
   "nbconvert_exporter": "python",
   "pygments_lexer": "ipython3",
   "version": "3.6.5"
  }
 },
 "nbformat": 4,
 "nbformat_minor": 2
}
