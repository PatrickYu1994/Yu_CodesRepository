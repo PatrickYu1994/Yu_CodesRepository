{
 "cells": [
  {
   "cell_type": "code",
   "execution_count": null,
   "metadata": {},
   "outputs": [],
   "source": [
    "# 执行用时 :44 ms, 在所有 Python 提交中击败了34.63% 的用户\n",
    "# 内存消耗 :19 MB, 在所有 Python 提交中击败了5.77%的用户\n",
    "\n",
    "# Definition for a binary tree node.\n",
    "# class TreeNode(object):\n",
    "#     def __init__(self, x):\n",
    "#         self.val = x\n",
    "#         self.left = None\n",
    "#         self.right = None\n",
    "\n",
    "class Solution(object):\n",
    "    def pathSum(self, root, sum):\n",
    "        res = []\n",
    "        path = []\n",
    "        self.fun(root, sum, res, path)\n",
    "        return res\n",
    "        \n",
    "    def fun(self, root, tar, res, path):\n",
    "        if not root:\n",
    "            return \n",
    "        tar -= root.val\n",
    "        if not root.left and not root.right:\n",
    "            if tar == 0:\n",
    "                res.append(path+[root.val])\n",
    "        self.fun(root.left, tar, res, path+[root.val])\n",
    "        self.fun(root.right, tar, res, path+[root.val])\n"
   ]
  }
 ],
 "metadata": {
  "kernelspec": {
   "display_name": "Python 3",
   "language": "python",
   "name": "python3"
  },
  "language_info": {
   "codemirror_mode": {
    "name": "ipython",
    "version": 3
   },
   "file_extension": ".py",
   "mimetype": "text/x-python",
   "name": "python",
   "nbconvert_exporter": "python",
   "pygments_lexer": "ipython3",
   "version": "3.6.5"
  }
 },
 "nbformat": 4,
 "nbformat_minor": 2
}
