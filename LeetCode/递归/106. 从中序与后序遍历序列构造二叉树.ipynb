{
 "cells": [
  {
   "cell_type": "code",
   "execution_count": 1,
   "metadata": {},
   "outputs": [],
   "source": [
    "# 执行用时 :188 ms, 在所有 Python 提交中击败了35.63% 的用户\n",
    "# 内存消耗 :87.8 MB, 在所有 Python 提交中击败了5.21%的用户\n",
    "\n",
    "# Definition for a binary tree node.\n",
    "# class TreeNode(object):\n",
    "#     def __init__(self, x):\n",
    "#         self.val = x\n",
    "#         self.left = None\n",
    "#         self.right = None\n",
    "\n",
    "class Solution(object):\n",
    "    def buildTree(self, inorder, postorder):\n",
    "        if not postorder:\n",
    "            return None\n",
    "        root = TreeNode(postorder[-1])\n",
    "\n",
    "        root_ind = inorder.index(postorder[-1])\n",
    "\n",
    "        left_in = inorder[:root_ind]\n",
    "        right_in = inorder[root_ind+1:]\n",
    "\n",
    "        left_post = postorder[:len(left_in)]\n",
    "        right_post = postorder[len(left_in):-1]\n",
    "\n",
    "        root.left = self.buildTree(left_in, left_post)\n",
    "        root.right = self.buildTree(right_in, right_post)\n",
    "        return root"
   ]
  },
  {
   "cell_type": "code",
   "execution_count": null,
   "metadata": {},
   "outputs": [],
   "source": []
  }
 ],
 "metadata": {
  "kernelspec": {
   "display_name": "Python 3",
   "language": "python",
   "name": "python3"
  },
  "language_info": {
   "codemirror_mode": {
    "name": "ipython",
    "version": 3
   },
   "file_extension": ".py",
   "mimetype": "text/x-python",
   "name": "python",
   "nbconvert_exporter": "python",
   "pygments_lexer": "ipython3",
   "version": "3.6.5"
  }
 },
 "nbformat": 4,
 "nbformat_minor": 2
}
