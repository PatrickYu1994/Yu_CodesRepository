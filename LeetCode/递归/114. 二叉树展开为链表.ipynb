{
 "cells": [
  {
   "cell_type": "code",
   "execution_count": 1,
   "metadata": {},
   "outputs": [],
   "source": [
    "# 执行用时 :48 ms, 在所有 Python 提交中击败了7.17% 的用户\n",
    "# 内存消耗 :13.7 MB, 在所有 Python 提交中击败了5.44%的用户\n",
    "\n",
    "# Definition for a binary tree node.\n",
    "# class TreeNode(object):\n",
    "#     def __init__(self, x):\n",
    "#         self.val = x\n",
    "#         self.left = None\n",
    "#         self.right = None\n",
    "\n",
    "class Solution(object):\n",
    "    def flatten(self, root):\n",
    "        if not root:\n",
    "            return \n",
    "        if root.left:\n",
    "            root.right, root.left, temp = root.left, None, root.right\n",
    "            self.find_right(root.right).right = temp\n",
    "        self.flatten(root.right)\n",
    "        return root\n",
    "\n",
    "    def find_right(self, root):\n",
    "        if not root:\n",
    "            return root\n",
    "        while root.right:\n",
    "            root = root.right\n",
    "        return root"
   ]
  },
  {
   "cell_type": "code",
   "execution_count": null,
   "metadata": {},
   "outputs": [],
   "source": []
  }
 ],
 "metadata": {
  "kernelspec": {
   "display_name": "Python 3",
   "language": "python",
   "name": "python3"
  },
  "language_info": {
   "codemirror_mode": {
    "name": "ipython",
    "version": 3
   },
   "file_extension": ".py",
   "mimetype": "text/x-python",
   "name": "python",
   "nbconvert_exporter": "python",
   "pygments_lexer": "ipython3",
   "version": "3.6.5"
  }
 },
 "nbformat": 4,
 "nbformat_minor": 2
}
