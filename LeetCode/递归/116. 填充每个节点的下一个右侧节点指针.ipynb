{
 "cells": [
  {
   "cell_type": "code",
   "execution_count": null,
   "metadata": {},
   "outputs": [],
   "source": [
    "# 执行用时 :52 ms, 在所有 Python 提交中击败了77.57% 的用户\n",
    "# 内存消耗 :15.6 MB, 在所有 Python 提交中击败了5.26%的用户\n",
    "\n",
    "\"\"\"\n",
    "# Definition for a Node.\n",
    "class Node(object):\n",
    "    def __init__(self, val=0, left=None, right=None, next=None):\n",
    "        self.val = val\n",
    "        self.left = left\n",
    "        self.right = right\n",
    "        self.next = next\n",
    "\"\"\"\n",
    "class Solution(object):\n",
    "    def connect(self, root):\n",
    "        if not root:\n",
    "            return None\n",
    "        self.fun([root])\n",
    "        return root\n",
    "    \n",
    "    def fun(self, level):\n",
    "        if not level:\n",
    "            return \n",
    "        temp = None\n",
    "        new_level = []\n",
    "        for i in level:\n",
    "            if i.left:\n",
    "                if temp:\n",
    "                    temp.next = i.left\n",
    "                temp = i.left\n",
    "                new_level.append(i.left)\n",
    "            if i.right:\n",
    "                if temp:\n",
    "                    temp.next = i.right\n",
    "                temp = i.right\n",
    "                new_level.append(i.right)\n",
    "        self.fun(new_level)\n",
    "\n"
   ]
  }
 ],
 "metadata": {
  "kernelspec": {
   "display_name": "Python 3",
   "language": "python",
   "name": "python3"
  },
  "language_info": {
   "codemirror_mode": {
    "name": "ipython",
    "version": 3
   },
   "file_extension": ".py",
   "mimetype": "text/x-python",
   "name": "python",
   "nbconvert_exporter": "python",
   "pygments_lexer": "ipython3",
   "version": "3.6.5"
  }
 },
 "nbformat": 4,
 "nbformat_minor": 2
}
