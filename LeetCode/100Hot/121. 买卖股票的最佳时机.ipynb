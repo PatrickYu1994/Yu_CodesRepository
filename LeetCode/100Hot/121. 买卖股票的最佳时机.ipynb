{
 "cells": [
  {
   "cell_type": "markdown",
   "metadata": {},
   "source": [
    "执行用时 :52 ms, 在所有 Python 提交中击败了41.18% 的用户  \n",
    "内存消耗 :13.6 MB, 在所有 Python 提交中击败了5.13%的用户"
   ]
  },
  {
   "cell_type": "code",
   "execution_count": null,
   "metadata": {},
   "outputs": [],
   "source": [
    "class Solution(object):\n",
    "    def maxProfit(self, prices):\n",
    "        if not prices:\n",
    "            return 0\n",
    "        min_price = prices[0]\n",
    "        max_profit = 0\n",
    "        for i in range(1, len(prices)):\n",
    "            max_profit = max(max_profit, prices[i]-min_price)\n",
    "            min_price = min(min_price, prices[i])\n",
    "        return max_profit\n",
    "        "
   ]
  }
 ],
 "metadata": {
  "kernelspec": {
   "display_name": "Python 3",
   "language": "python",
   "name": "python3"
  },
  "language_info": {
   "codemirror_mode": {
    "name": "ipython",
    "version": 3
   },
   "file_extension": ".py",
   "mimetype": "text/x-python",
   "name": "python",
   "nbconvert_exporter": "python",
   "pygments_lexer": "ipython3",
   "version": "3.6.5"
  }
 },
 "nbformat": 4,
 "nbformat_minor": 2
}
