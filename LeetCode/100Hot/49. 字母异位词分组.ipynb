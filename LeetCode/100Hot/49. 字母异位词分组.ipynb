{
 "cells": [
  {
   "cell_type": "code",
   "execution_count": 2,
   "metadata": {},
   "outputs": [],
   "source": [
    "# 执行用时 :1976 ms, 在所有 Python 提交中击败了7.10% 的用户\n",
    "# 内存消耗 :16.5 MB, 在所有 Python 提交中击败了21.70%的用户\n",
    "\n",
    "class Solution(object):\n",
    "    def groupAnagrams(self, strs):\n",
    "        graph = {}\n",
    "        for ss in strs:\n",
    "            s = \"\".join(sorted(list(ss)))\n",
    "            if s in graph.keys():\n",
    "                graph[s].append(ss)\n",
    "            else:\n",
    "                graph[s] = [ss]\n",
    "        res = []\n",
    "        for i in graph.keys():\n",
    "            res.append(graph[i])\n",
    "        return res\n"
   ]
  },
  {
   "cell_type": "code",
   "execution_count": null,
   "metadata": {},
   "outputs": [],
   "source": []
  }
 ],
 "metadata": {
  "kernelspec": {
   "display_name": "Python 3",
   "language": "python",
   "name": "python3"
  },
  "language_info": {
   "codemirror_mode": {
    "name": "ipython",
    "version": 3
   },
   "file_extension": ".py",
   "mimetype": "text/x-python",
   "name": "python",
   "nbconvert_exporter": "python",
   "pygments_lexer": "ipython3",
   "version": "3.6.5"
  }
 },
 "nbformat": 4,
 "nbformat_minor": 2
}
