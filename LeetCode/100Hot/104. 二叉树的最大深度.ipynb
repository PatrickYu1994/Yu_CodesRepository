{
 "cells": [
  {
   "cell_type": "markdown",
   "metadata": {},
   "source": [
    "执行用时 :28 ms, 在所有 Python 提交中击败了83.49% 的用户  \n",
    "内存消耗 :15.4 MB, 在所有 Python 提交中击败了5.30%的用户"
   ]
  },
  {
   "cell_type": "code",
   "execution_count": null,
   "metadata": {},
   "outputs": [],
   "source": [
    "# Definition for a binary tree node.\n",
    "# class TreeNode(object):\n",
    "#     def __init__(self, x):\n",
    "#         self.val = x\n",
    "#         self.left = None\n",
    "#         self.right = None\n",
    "\n",
    "class Solution(object):\n",
    "    def __init__(self):\n",
    "        self.max_depth = 0\n",
    "\n",
    "    def maxDepth(self, root):\n",
    "        self.fun(root, 0)\n",
    "        return self.max_depth\n",
    "        \n",
    "    def fun(self, root, depth):\n",
    "        if not root:\n",
    "            if depth > self.max_depth:\n",
    "                self.max_depth = depth\n",
    "            return \n",
    "        self.fun(root.left, depth+1)\n",
    "        self.fun(root.right, depth+1)"
   ]
  }
 ],
 "metadata": {
  "kernelspec": {
   "display_name": "Python 3",
   "language": "python",
   "name": "python3"
  },
  "language_info": {
   "codemirror_mode": {
    "name": "ipython",
    "version": 3
   },
   "file_extension": ".py",
   "mimetype": "text/x-python",
   "name": "python",
   "nbconvert_exporter": "python",
   "pygments_lexer": "ipython3",
   "version": "3.6.5"
  }
 },
 "nbformat": 4,
 "nbformat_minor": 2
}
