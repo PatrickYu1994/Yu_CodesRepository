{
 "cells": [
  {
   "cell_type": "code",
   "execution_count": null,
   "metadata": {},
   "outputs": [],
   "source": [
    "# 执行用时 :28 ms, 在所有 Python 提交中击败了16.63% 的用户\n",
    "# 内存消耗 :12.5 MB, 在所有 Python 提交中击败了6.07%的用户\n",
    "class Solution(object):\n",
    "    def letterCombinations(self, digits):\n",
    "        if not digits:\n",
    "            return []\n",
    "        res = []\n",
    "        temp = []\n",
    "        map_relation = {2:\"abc\", 3:\"def\", 4:\"ghi\", 5:\"jkl\", 6:\"mno\", 7:\"pqrs\", 8:\"tuv\", 9:\"wxyz\"}\n",
    "        self.dfs(list(digits), 0, temp, res, map_relation)\n",
    "        r = list(map(\"\".join, res))\n",
    "        return r\n",
    "        \n",
    "    def dfs(self, nums, pos, temp, res, map_relation):\n",
    "        if pos == len(nums):\n",
    "            res.append(temp)\n",
    "            return\n",
    "        s = list(map_relation[int(nums[pos])])\n",
    "        for i in s:\n",
    "            self.dfs(nums, pos+1, temp+[i], res, map_relation)"
   ]
  }
 ],
 "metadata": {
  "kernelspec": {
   "display_name": "Python 3",
   "language": "python",
   "name": "python3"
  },
  "language_info": {
   "codemirror_mode": {
    "name": "ipython",
    "version": 3
   },
   "file_extension": ".py",
   "mimetype": "text/x-python",
   "name": "python",
   "nbconvert_exporter": "python",
   "pygments_lexer": "ipython3",
   "version": "3.6.5"
  }
 },
 "nbformat": 4,
 "nbformat_minor": 2
}
