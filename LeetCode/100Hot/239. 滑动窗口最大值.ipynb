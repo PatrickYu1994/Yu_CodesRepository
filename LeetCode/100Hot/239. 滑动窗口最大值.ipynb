{
 "cells": [
  {
   "cell_type": "code",
   "execution_count": null,
   "metadata": {},
   "outputs": [],
   "source": [
    "执行用时 :52 ms, 在所有 Python 提交中击败了90.82% 的用户\n",
    "内存消耗 :20.2 MB, 在所有 Python 提交中击败了6.58%的用户"
   ]
  },
  {
   "cell_type": "code",
   "execution_count": null,
   "metadata": {},
   "outputs": [],
   "source": [
    "# 算法时间复杂度 应该比 线性时间复杂度 要高\n",
    "class Solution(object):\n",
    "    def maxSlidingWindow(self, nums, k):\n",
    "        if not nums or k <= 1:\n",
    "            return nums\n",
    "        res = []\n",
    "        temp = nums[:k]\n",
    "        res.append(max(temp))\n",
    "        for i in range(k, len(nums)):\n",
    "            p = temp.pop(0)\n",
    "            if p == res[-1]:\n",
    "                res.append(max(max(temp), nums[i]))\n",
    "            else:\n",
    "                res.append(max(res[-1], nums[i]))\n",
    "            temp.append(nums[i])\n",
    "        return res"
   ]
  }
 ],
 "metadata": {
  "kernelspec": {
   "display_name": "Python 3",
   "language": "python",
   "name": "python3"
  },
  "language_info": {
   "codemirror_mode": {
    "name": "ipython",
    "version": 3
   },
   "file_extension": ".py",
   "mimetype": "text/x-python",
   "name": "python",
   "nbconvert_exporter": "python",
   "pygments_lexer": "ipython3",
   "version": "3.6.5"
  }
 },
 "nbformat": 4,
 "nbformat_minor": 2
}
