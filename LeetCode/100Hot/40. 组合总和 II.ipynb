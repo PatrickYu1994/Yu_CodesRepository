{
 "cells": [
  {
   "cell_type": "code",
   "execution_count": null,
   "metadata": {},
   "outputs": [],
   "source": [
    "# 执行用时 :28 ms, 在所有 Python 提交中击败了93.80% 的用户\n",
    "# 内存消耗 :12.9 MB, 在所有 Python 提交中击败了5.56%的用户\n",
    "\n",
    "class Solution(object):\n",
    "    def combinationSum2(self, candidates, target):\n",
    "        temp = []\n",
    "        res = []\n",
    "        visited = [0]*len(candidates)\n",
    "        candidates.sort()\n",
    "        self.dfs(candidates, 0, temp, res, target, visited)\n",
    "        return res\n",
    "    \n",
    "    def dfs(self, candidates, pos, temp, res, target, visited):\n",
    "        if target == 0:\n",
    "            res.append(temp)\n",
    "            return\n",
    "        if pos == len(candidates):\n",
    "            return\n",
    "        if candidates[pos] <= target:\n",
    "            if pos > 0 and candidates[pos] == candidates[pos-1] and visited[pos-1] == 0:\n",
    "                self.dfs(candidates, pos+1, temp, res, target, visited)\n",
    "            else:\n",
    "                visited[pos] = 1\n",
    "                self.dfs(candidates, pos+1, temp+[candidates[pos]], res, target-candidates[pos], visited)\n",
    "                visited[pos] = 0\n",
    "                self.dfs(candidates, pos+1, temp, res, target, visited)"
   ]
  }
 ],
 "metadata": {
  "kernelspec": {
   "display_name": "Python 3",
   "language": "python",
   "name": "python3"
  },
  "language_info": {
   "codemirror_mode": {
    "name": "ipython",
    "version": 3
   },
   "file_extension": ".py",
   "mimetype": "text/x-python",
   "name": "python",
   "nbconvert_exporter": "python",
   "pygments_lexer": "ipython3",
   "version": "3.6.5"
  }
 },
 "nbformat": 4,
 "nbformat_minor": 2
}
