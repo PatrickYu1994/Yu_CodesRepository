{
 "cells": [
  {
   "cell_type": "code",
   "execution_count": null,
   "metadata": {},
   "outputs": [],
   "source": [
    "执行用时 :68 ms, 在所有 Python 提交中击败了90.78% 的用户\n",
    "内存消耗 :13.7 MB, 在所有 Python 提交中击败了25.93%的用户"
   ]
  },
  {
   "cell_type": "code",
   "execution_count": null,
   "metadata": {},
   "outputs": [],
   "source": [
    "# Definition for a binary tree node.\n",
    "# class TreeNode(object):\n",
    "#     def __init__(self, x):\n",
    "#         self.val = x\n",
    "#         self.left = None\n",
    "#         self.right = None\n",
    "\n",
    "class Solution:\n",
    "    def pathSum(self, root, sum):\n",
    "        prefixSumTree = {0:1}\n",
    "        self.count = 0\n",
    "        \n",
    "        prefixSum = 0\n",
    "        self.dfs(root, sum, prefixSum, prefixSumTree)\n",
    "        \n",
    "        return self.count\n",
    "        \n",
    "        \n",
    "    def dfs(self, root, sum, prefixSum, prefixSumTree):\n",
    "        if not root:\n",
    "            return 0\n",
    "        prefixSum += root.val\n",
    "        oldSum = prefixSum - sum\n",
    "        if oldSum in prefixSumTree:\n",
    "            self.count += prefixSumTree[oldSum]\n",
    "        prefixSumTree[prefixSum] = prefixSumTree.get(prefixSum, 0) + 1\n",
    "        \n",
    "        self.dfs(root.left, sum, prefixSum, prefixSumTree)\n",
    "        self.dfs(root.right, sum, prefixSum, prefixSumTree)\n",
    "\n",
    "        prefixSumTree[prefixSum] -= 1\n"
   ]
  }
 ],
 "metadata": {
  "kernelspec": {
   "display_name": "Python 3",
   "language": "python",
   "name": "python3"
  },
  "language_info": {
   "codemirror_mode": {
    "name": "ipython",
    "version": 3
   },
   "file_extension": ".py",
   "mimetype": "text/x-python",
   "name": "python",
   "nbconvert_exporter": "python",
   "pygments_lexer": "ipython3",
   "version": "3.6.5"
  }
 },
 "nbformat": 4,
 "nbformat_minor": 2
}
