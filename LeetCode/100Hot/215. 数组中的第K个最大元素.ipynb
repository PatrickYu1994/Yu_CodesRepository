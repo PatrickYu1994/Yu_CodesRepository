{
 "cells": [
  {
   "cell_type": "code",
   "execution_count": null,
   "metadata": {},
   "outputs": [],
   "source": [
    "执行用时 :136 ms, 在所有 Python 提交中击败了35.00% 的用户\n",
    "内存消耗 :13.2 MB, 在所有 Python 提交中击败了13.57%的用户"
   ]
  },
  {
   "cell_type": "code",
   "execution_count": null,
   "metadata": {},
   "outputs": [],
   "source": [
    "class Solution(object):\n",
    "    def findKthLargest(self, nums, k):\n",
    "        self.heap_sort(nums)\n",
    "        return nums[k-1]\n",
    "\n",
    "    def heap_sort(self, heap):\n",
    "        heap_size = len(heap)\n",
    "        self.build_minHeap(heap)\n",
    "        for i in range(heap_size-1, -1, -1):\n",
    "            heap[0], heap[i] = heap[i], heap[0]\n",
    "            self.min_heapify(heap, i, 0)\n",
    "\n",
    "    def build_minHeap(self, heap):\n",
    "        heap_size = len(heap)\n",
    "        for i in range((heap_size-2)//2, -1, -1):\n",
    "            self.min_heapify(heap, heap_size, i)\n",
    "\n",
    "    def min_heapify(self, heap, heap_size, root):\n",
    "        # left 2*root+1\n",
    "        # right 2*root+2\n",
    "        left = 2*root+1\n",
    "        right = 2*root+2\n",
    "        largest = root\n",
    "        if left < heap_size and heap[left] < heap[largest]:\n",
    "            largest = left\n",
    "        if right < heap_size and heap[right] < heap[largest]:\n",
    "            largest = right\n",
    "        if largest != root:\n",
    "            heap[largest], heap[root] = heap[root], heap[largest]\n",
    "            self.min_heapify(heap, heap_size, largest)"
   ]
  }
 ],
 "metadata": {
  "kernelspec": {
   "display_name": "Python 3",
   "language": "python",
   "name": "python3"
  },
  "language_info": {
   "codemirror_mode": {
    "name": "ipython",
    "version": 3
   },
   "file_extension": ".py",
   "mimetype": "text/x-python",
   "name": "python",
   "nbconvert_exporter": "python",
   "pygments_lexer": "ipython3",
   "version": "3.6.5"
  }
 },
 "nbformat": 4,
 "nbformat_minor": 2
}
