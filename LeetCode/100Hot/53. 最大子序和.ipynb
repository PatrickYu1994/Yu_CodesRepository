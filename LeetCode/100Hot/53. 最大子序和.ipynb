{
 "cells": [
  {
   "cell_type": "code",
   "execution_count": null,
   "metadata": {},
   "outputs": [],
   "source": [
    "# 执行用时 :40 ms, 在所有 Python 提交中击败了68.19% 的用户\n",
    "# 内存消耗 :13.8 MB, 在所有 Python 提交中击败了5.24%的用户\n",
    "\n",
    "class Solution(object):\n",
    "    def maxSubArray(self, nums):\n",
    "        res = [min(nums)]*len(nums)\n",
    "        res[0] = nums[0]\n",
    "\n",
    "        for i in range(1, len(nums)):\n",
    "            res[i] = max(nums[i], res[i-1]+nums[i])\n",
    "\n",
    "        return max(res)\n",
    "\n"
   ]
  }
 ],
 "metadata": {
  "kernelspec": {
   "display_name": "Python 3",
   "language": "python",
   "name": "python3"
  },
  "language_info": {
   "codemirror_mode": {
    "name": "ipython",
    "version": 3
   },
   "file_extension": ".py",
   "mimetype": "text/x-python",
   "name": "python",
   "nbconvert_exporter": "python",
   "pygments_lexer": "ipython3",
   "version": "3.6.5"
  }
 },
 "nbformat": 4,
 "nbformat_minor": 2
}
