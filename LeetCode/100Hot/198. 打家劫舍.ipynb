{
 "cells": [
  {
   "cell_type": "code",
   "execution_count": null,
   "metadata": {},
   "outputs": [],
   "source": [
    "执行用时 :32 ms, 在所有 Python 提交中击败了10.81% 的用户\n",
    "内存消耗 :12.7 MB, 在所有 Python 提交中击败了5.59%的用户"
   ]
  },
  {
   "cell_type": "code",
   "execution_count": null,
   "metadata": {},
   "outputs": [],
   "source": [
    "class Solution(object):\n",
    "    def rob(self, nums):\n",
    "        res = [0]*len(nums)\n",
    "        if not nums:\n",
    "            return 0\n",
    "        if len(nums) == 1:\n",
    "            return nums[0]\n",
    "        if len(nums) == 2:\n",
    "            return max(nums[0], nums[1])\n",
    "        if len(nums) == 3:\n",
    "            return max(nums[0]+nums[2], nums[1])\n",
    "        res[0] = nums[0]\n",
    "        res[1] = nums[1] \n",
    "        res[2] = nums[0]+nums[2]\n",
    "        for i in range(3, len(nums)):\n",
    "            res[i] = max(res[i-2], res[i-3])+nums[i]\n",
    "        return max(res)"
   ]
  },
  {
   "cell_type": "code",
   "execution_count": null,
   "metadata": {},
   "outputs": [],
   "source": [
    "# TLE\n",
    "class Solution(object):\n",
    "    def rob(self, nums):\n",
    "        temp = []\n",
    "        res = []\n",
    "        self.fun(nums, 0, temp, res)\n",
    "        return max(res)\n",
    "        \n",
    "    def fun(self, nums, pos, temp, res):\n",
    "        if pos >= len(nums):\n",
    "            res.append(sum(temp))\n",
    "            return \n",
    "        self.fun(nums, pos+1, temp, res)\n",
    "        self.fun(nums, pos+2, temp+[nums[pos]], res)\n",
    "            "
   ]
  }
 ],
 "metadata": {
  "kernelspec": {
   "display_name": "Python 3",
   "language": "python",
   "name": "python3"
  },
  "language_info": {
   "codemirror_mode": {
    "name": "ipython",
    "version": 3
   },
   "file_extension": ".py",
   "mimetype": "text/x-python",
   "name": "python",
   "nbconvert_exporter": "python",
   "pygments_lexer": "ipython3",
   "version": "3.6.5"
  }
 },
 "nbformat": 4,
 "nbformat_minor": 2
}
