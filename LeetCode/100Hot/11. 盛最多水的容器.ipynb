{
 "cells": [
  {
   "cell_type": "code",
   "execution_count": null,
   "metadata": {},
   "outputs": [],
   "source": [
    "# 执行用时 :80 ms, 在所有 Python 提交中击败了60.51% 的用户\n",
    "# 内存消耗 :13.4 MB, 在所有 Python 提交中击败了5.44%的用户\n",
    "\n",
    "class Solution(object):\n",
    "    def maxArea(self, height):\n",
    "        left = 0\n",
    "        right = len(height)-1\n",
    "        max_area = 0\n",
    "        while left < right:\n",
    "            temp = (right-left)*min(height[left], height[right])\n",
    "            if temp > max_area:\n",
    "                max_area = temp\n",
    "            if height[left] == min(height[left], height[right]):\n",
    "                left+=1\n",
    "                continue\n",
    "            right-=1\n",
    "        return max_area"
   ]
  },
  {
   "cell_type": "code",
   "execution_count": null,
   "metadata": {},
   "outputs": [],
   "source": [
    "# 暴力 超时\n",
    "class Solution(object):\n",
    "    def maxArea(self, height):\n",
    "        max_val = 0\n",
    "        for i in range(len(height)-1):\n",
    "            for j in range(i+1, len(height)):\n",
    "                temp = (j-i)*min(height[i], height[j])\n",
    "                if max_val < temp:\n",
    "                    max_val = temp\n",
    "        return max_val"
   ]
  }
 ],
 "metadata": {
  "kernelspec": {
   "display_name": "Python 3",
   "language": "python",
   "name": "python3"
  },
  "language_info": {
   "codemirror_mode": {
    "name": "ipython",
    "version": 3
   },
   "file_extension": ".py",
   "mimetype": "text/x-python",
   "name": "python",
   "nbconvert_exporter": "python",
   "pygments_lexer": "ipython3",
   "version": "3.6.5"
  }
 },
 "nbformat": 4,
 "nbformat_minor": 2
}
