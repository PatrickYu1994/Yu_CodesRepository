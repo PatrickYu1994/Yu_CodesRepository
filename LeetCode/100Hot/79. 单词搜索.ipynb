{
 "cells": [
  {
   "cell_type": "code",
   "execution_count": null,
   "metadata": {},
   "outputs": [],
   "source": []
  },
  {
   "cell_type": "code",
   "execution_count": null,
   "metadata": {},
   "outputs": [],
   "source": [
    "# 超时\n",
    "\n",
    "class Solution(object):\n",
    "    def __init__(self):\n",
    "        self.res = False\n",
    "\n",
    "    def exist(self, board, word):\n",
    "        if not word:\n",
    "            return True\n",
    "        if len(board) == 0 or len(board[0]) == 0:\n",
    "            return False\n",
    "        rows = len(board)\n",
    "        cols = len(board[0])\n",
    "        visited = [[0]*cols for _ in range(rows)]\n",
    "        for row in range(rows):\n",
    "            for col in range(cols):\n",
    "                if word[0] == board[row][col]:\n",
    "                    self.dfs(board, word[1:], row, col, visited[:])\n",
    "                    if self.res:\n",
    "                        return True\n",
    "        return False\n",
    "\n",
    "    def dfs(self, board, word, row, col, visited):\n",
    "        if len(word) == 0:\n",
    "            self.res = True\n",
    "            return\n",
    "        rows = len(board)\n",
    "        cols = len(board[0])\n",
    "        visited[row][col] = 1\n",
    "        if row > 0 and visited[row-1][col] == 0 and board[row-1][col] == word[0]:\n",
    "            self.dfs(board, word[1:], row-1, col, visited)\n",
    "        if row < rows - 1 and visited[row+1][col] == 0 and board[row+1][col] == word[0]:\n",
    "            self.dfs(board, word[1:], row+1, col, visited)\n",
    "        if col > 0 and visited[row][col-1] == 0 and board[row][col-1] == word[0]:\n",
    "            self.dfs(board, word[1:], row, col-1, visited)\n",
    "        if col < cols - 1 and visited[row][col+1] == 0 and board[row][col+1] == word[0]:\n",
    "            self.dfs(board, word[1:], row, col+1, visited)"
   ]
  }
 ],
 "metadata": {
  "kernelspec": {
   "display_name": "Python 3",
   "language": "python",
   "name": "python3"
  },
  "language_info": {
   "codemirror_mode": {
    "name": "ipython",
    "version": 3
   },
   "file_extension": ".py",
   "mimetype": "text/x-python",
   "name": "python",
   "nbconvert_exporter": "python",
   "pygments_lexer": "ipython3",
   "version": "3.6.5"
  }
 },
 "nbformat": 4,
 "nbformat_minor": 2
}
