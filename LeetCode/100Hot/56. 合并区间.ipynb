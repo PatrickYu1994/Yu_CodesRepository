{
 "cells": [
  {
   "cell_type": "code",
   "execution_count": null,
   "metadata": {},
   "outputs": [],
   "source": [
    "# 执行用时 :52 ms, 在所有 Python 提交中击败了66.38% 的用户\n",
    "# 内存消耗 :14.1 MB, 在所有 Python 提交中击败了68.11%的用户\n",
    "class Solution(object):\n",
    "    def merge(self, intervals):\n",
    "        intervals.sort(key=lambda x: x[0])\n",
    "        res = []\n",
    "        for interval in intervals:\n",
    "            if not res or res[-1][1] < interval[0]:\n",
    "                res.append(interval)\n",
    "            else:\n",
    "                res[-1][1] = max(interval[1], res[-1][1])\n",
    "        return res\n"
   ]
  }
 ],
 "metadata": {
  "kernelspec": {
   "display_name": "Python 3",
   "language": "python",
   "name": "python3"
  },
  "language_info": {
   "codemirror_mode": {
    "name": "ipython",
    "version": 3
   },
   "file_extension": ".py",
   "mimetype": "text/x-python",
   "name": "python",
   "nbconvert_exporter": "python",
   "pygments_lexer": "ipython3",
   "version": "3.6.5"
  }
 },
 "nbformat": 4,
 "nbformat_minor": 2
}
