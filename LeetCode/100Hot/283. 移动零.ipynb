{
 "cells": [
  {
   "cell_type": "code",
   "execution_count": null,
   "metadata": {},
   "outputs": [],
   "source": [
    "执行用时 :32 ms, 在所有 Python 提交中击败了69.68% 的用户\n",
    "内存消耗 :13.5 MB, 在所有 Python 提交中击败了5.40%的用户"
   ]
  },
  {
   "cell_type": "code",
   "execution_count": null,
   "metadata": {},
   "outputs": [],
   "source": [
    "class Solution(object):\n",
    "    def moveZeroes(self, nums):\n",
    "        ind_zero = 0\n",
    "        ind_other = 0\n",
    "        while ind_other < len(nums):\n",
    "            while ind_zero < len(nums) and nums[ind_zero] != 0:\n",
    "                ind_zero+=1 #找到第一个数值为零的index\n",
    "            if ind_other < ind_zero:\n",
    "                ind_other = ind_zero\n",
    "            while ind_other < len(nums) and nums[ind_other] == 0:\n",
    "                ind_other+=1 #找到第一个被发现的0之后的非零元素的index\n",
    "            if ind_other < len(nums):\n",
    "                nums[ind_other], nums[ind_zero] = nums[ind_zero], nums[ind_other]\n",
    "            ind_other+=1\n",
    "            ind_zero+=1\n",
    "        return nums\n",
    "            \n",
    "            "
   ]
  }
 ],
 "metadata": {
  "kernelspec": {
   "display_name": "Python 3",
   "language": "python",
   "name": "python3"
  },
  "language_info": {
   "codemirror_mode": {
    "name": "ipython",
    "version": 3
   },
   "file_extension": ".py",
   "mimetype": "text/x-python",
   "name": "python",
   "nbconvert_exporter": "python",
   "pygments_lexer": "ipython3",
   "version": "3.6.5"
  }
 },
 "nbformat": 4,
 "nbformat_minor": 2
}
