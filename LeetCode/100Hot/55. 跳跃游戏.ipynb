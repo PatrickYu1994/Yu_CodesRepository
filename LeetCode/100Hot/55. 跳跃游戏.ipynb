{
 "cells": [
  {
   "cell_type": "code",
   "execution_count": null,
   "metadata": {},
   "outputs": [],
   "source": [
    "# 执行用时 :20 ms, 在所有 Python 提交中击败了97.98% 的用户\n",
    "# 内存消耗 :13.5 MB, 在所有 Python 提交中击败了11.40%的用户\n",
    "class Solution(object):\n",
    "    def canJump(self, nums):\n",
    "        res = [0]*len(nums)\n",
    "        max_pos = 0 #记录能够到达的最远的距离\n",
    "        for i, dis in enumerate(nums):\n",
    "            if i+dis > max_pos and max_pos >= i:\n",
    "                max_pos = i+dis\n",
    "        return max_pos >= len(nums)-1"
   ]
  }
 ],
 "metadata": {
  "kernelspec": {
   "display_name": "Python 3",
   "language": "python",
   "name": "python3"
  },
  "language_info": {
   "codemirror_mode": {
    "name": "ipython",
    "version": 3
   },
   "file_extension": ".py",
   "mimetype": "text/x-python",
   "name": "python",
   "nbconvert_exporter": "python",
   "pygments_lexer": "ipython3",
   "version": "3.6.5"
  }
 },
 "nbformat": 4,
 "nbformat_minor": 2
}
