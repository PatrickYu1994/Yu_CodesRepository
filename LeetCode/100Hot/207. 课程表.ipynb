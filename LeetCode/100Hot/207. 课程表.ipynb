{
 "cells": [
  {
   "cell_type": "code",
   "execution_count": null,
   "metadata": {},
   "outputs": [],
   "source": [
    "执行用时 :196 ms, 在所有 Python 提交中击败了15.95% 的用户\n",
    "内存消耗 :13.7 MB, 在所有 Python 提交中击败了36.84%的用户"
   ]
  },
  {
   "cell_type": "code",
   "execution_count": null,
   "metadata": {},
   "outputs": [],
   "source": [
    "class Solution(object):\n",
    "    def canFinish(self, numCourses, prerequisites):\n",
    "        graph = {}\n",
    "        degree = [0]*numCourses\n",
    "        for post, pre in prerequisites:\n",
    "            degree[post]+=1\n",
    "            if pre in graph.keys():\n",
    "                graph[pre].append(post)\n",
    "            else:\n",
    "                graph[pre] = [post]\n",
    "        queue = []\n",
    "        for i in range(len(degree)):\n",
    "            if degree[i] == 0:\n",
    "                queue.append(i)\n",
    "        count = 0\n",
    "        while queue:\n",
    "            cur = queue.pop()\n",
    "            count += 1\n",
    "            if cur in graph.keys():\n",
    "                for post in graph[cur]:\n",
    "                    degree[post] -= 1\n",
    "                    if degree[post] == 0:\n",
    "                        queue.append(post)\n",
    "        return count == numCourses\n",
    "        \n"
   ]
  }
 ],
 "metadata": {
  "kernelspec": {
   "display_name": "Python 3",
   "language": "python",
   "name": "python3"
  },
  "language_info": {
   "codemirror_mode": {
    "name": "ipython",
    "version": 3
   },
   "file_extension": ".py",
   "mimetype": "text/x-python",
   "name": "python",
   "nbconvert_exporter": "python",
   "pygments_lexer": "ipython3",
   "version": "3.6.5"
  }
 },
 "nbformat": 4,
 "nbformat_minor": 2
}
