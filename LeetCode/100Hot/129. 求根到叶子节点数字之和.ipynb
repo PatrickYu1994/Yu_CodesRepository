{
 "cells": [
  {
   "cell_type": "code",
   "execution_count": null,
   "metadata": {},
   "outputs": [],
   "source": [
    "执行用时 :28 ms, 在所有 Python 提交中击败了39.31% 的用户\n",
    "内存消耗 :12.8 MB, 在所有 Python 提交中击败了5.55%的用户"
   ]
  },
  {
   "cell_type": "code",
   "execution_count": null,
   "metadata": {},
   "outputs": [],
   "source": [
    "# Definition for a binary tree node.\n",
    "# class TreeNode(object):\n",
    "#     def __init__(self, x):\n",
    "#         self.val = x\n",
    "#         self.left = None\n",
    "#         self.right = None\n",
    "\n",
    "class Solution(object):\n",
    "    def sumNumbers(self, root):\n",
    "        temp = []\n",
    "        res = []\n",
    "        self.fun(root, temp, res)\n",
    "        return sum(res)\n",
    "        \n",
    "    def fun(self, root, temp, res):\n",
    "        if not root:\n",
    "            return\n",
    "        temp+=[str(root.val)]\n",
    "        if not root.left and not root.right:\n",
    "            res.append(int(\"\".join(temp)))\n",
    "            return \n",
    "        if root.left:\n",
    "            self.fun(root.left, temp[:], res)\n",
    "        if root.right:\n",
    "            self.fun(root.right, temp[:], res)"
   ]
  }
 ],
 "metadata": {
  "kernelspec": {
   "display_name": "Python 3",
   "language": "python",
   "name": "python3"
  },
  "language_info": {
   "codemirror_mode": {
    "name": "ipython",
    "version": 3
   },
   "file_extension": ".py",
   "mimetype": "text/x-python",
   "name": "python",
   "nbconvert_exporter": "python",
   "pygments_lexer": "ipython3",
   "version": "3.6.5"
  }
 },
 "nbformat": 4,
 "nbformat_minor": 2
}
