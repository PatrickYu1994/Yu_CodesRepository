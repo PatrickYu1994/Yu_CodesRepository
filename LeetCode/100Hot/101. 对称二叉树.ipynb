{
 "cells": [
  {
   "cell_type": "code",
   "execution_count": null,
   "metadata": {},
   "outputs": [],
   "source": [
    "# 执行用时 :32 ms, 在所有 Python 提交中击败了27.01% 的用户\n",
    "# 内存消耗 :12.9 MB, 在所有 Python 提交中击败了5.53%的用户\n",
    "\n",
    "# Definition for a binary tree node.\n",
    "# class TreeNode(object):\n",
    "#     def __init__(self, x):\n",
    "#         self.val = x\n",
    "#         self.left = None\n",
    "#         self.right = None\n",
    "\n",
    "class Solution(object):\n",
    "    def isSymmetric(self, root):\n",
    "        if not root:\n",
    "            return True\n",
    "        return self.fun(root.left, root.right)\n",
    "        \n",
    "    def fun(self, left, right):\n",
    "        if left and right:\n",
    "            return left.val == right.val and self.fun(left.left, right.right) and self.fun(left.right, right.left)\n",
    "        elif not left and not right:\n",
    "            return True\n",
    "        return False\n",
    "        \n",
    "        \n"
   ]
  }
 ],
 "metadata": {
  "kernelspec": {
   "display_name": "Python 3",
   "language": "python",
   "name": "python3"
  },
  "language_info": {
   "codemirror_mode": {
    "name": "ipython",
    "version": 3
   },
   "file_extension": ".py",
   "mimetype": "text/x-python",
   "name": "python",
   "nbconvert_exporter": "python",
   "pygments_lexer": "ipython3",
   "version": "3.6.5"
  }
 },
 "nbformat": 4,
 "nbformat_minor": 2
}
