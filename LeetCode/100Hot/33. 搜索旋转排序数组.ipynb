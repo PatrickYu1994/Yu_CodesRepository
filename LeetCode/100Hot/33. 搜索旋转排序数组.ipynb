{
 "cells": [
  {
   "cell_type": "code",
   "execution_count": null,
   "metadata": {},
   "outputs": [],
   "source": [
    "# 执行用时 :24 ms, 在所有 Python 提交中击败了82.75% 的用户\n",
    "# 内存消耗 :12.8 MB, 在所有 Python 提交中击败了5.62%的用户\n",
    "    \n",
    "class Solution(object):\n",
    "    def search(self, nums, target):\n",
    "        left = 0\n",
    "        right = len(nums)-1\n",
    "        res = []\n",
    "        self.fun(nums, target, left, right, res)\n",
    "        if not res:\n",
    "            return -1\n",
    "        else:\n",
    "            return res[0]\n",
    "\n",
    "    def fun(self, nums, target, left, right, res):\n",
    "        if left > right:\n",
    "            return \n",
    "        mid = (left+right)//2\n",
    "        if nums[mid] == target:\n",
    "            res.append(mid)\n",
    "            return\n",
    "        if nums[mid] > target:\n",
    "            self.fun(nums, target, left, mid-1, res)\n",
    "            if nums[left] > nums[right]:\n",
    "                self.fun(nums, target, mid+1, right, res)\n",
    "        else:\n",
    "            self.fun(nums, target, mid+1, right, res)\n",
    "            if nums[left] > nums[right]:\n",
    "                self.fun(nums, target, left, mid-1, res)\n",
    "            \n"
   ]
  }
 ],
 "metadata": {
  "kernelspec": {
   "display_name": "Python 3",
   "language": "python",
   "name": "python3"
  },
  "language_info": {
   "codemirror_mode": {
    "name": "ipython",
    "version": 3
   },
   "file_extension": ".py",
   "mimetype": "text/x-python",
   "name": "python",
   "nbconvert_exporter": "python",
   "pygments_lexer": "ipython3",
   "version": "3.6.5"
  }
 },
 "nbformat": 4,
 "nbformat_minor": 2
}
