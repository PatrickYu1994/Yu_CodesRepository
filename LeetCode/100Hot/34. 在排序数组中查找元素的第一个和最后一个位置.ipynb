{
 "cells": [
  {
   "cell_type": "code",
   "execution_count": null,
   "metadata": {},
   "outputs": [],
   "source": [
    "# 执行用时 :24 ms, 在所有 Python 提交中击败了86.41% 的用户\n",
    "#内存消耗 :13.1 MB, 在所有 Python 提交中击败了23.04%的用户\n",
    "\n",
    "class Solution(object):\n",
    "    def searchRange(self, nums, target):\n",
    "        left = 0\n",
    "        right = len(nums)-1\n",
    "        res = []\n",
    "        self.fun(nums, target, left, right, res)\n",
    "        if res:\n",
    "            return res[0]\n",
    "        else:\n",
    "            return [-1, -1]\n",
    "\n",
    "    def fun(self, nums, target, left, right, res):\n",
    "        if left > right:\n",
    "            return \n",
    "        mid = (left+right)//2\n",
    "        if nums[mid] == target:\n",
    "            l = mid - 1\n",
    "            r = mid + 1\n",
    "            while l >= 0:\n",
    "                if nums[l] == target:\n",
    "                    l-=1\n",
    "                    continue\n",
    "                break\n",
    "            while r < len(nums):\n",
    "                if nums[r] == target:\n",
    "                    r+=1\n",
    "                    continue\n",
    "                break\n",
    "            res.append([l+1, r-1])\n",
    "            return \n",
    "        elif nums[mid] > target:\n",
    "            self.fun(nums, target, left, mid-1, res)\n",
    "        else:\n",
    "            self.fun(nums, target, mid+1, right, res)"
   ]
  }
 ],
 "metadata": {
  "kernelspec": {
   "display_name": "Python 3",
   "language": "python",
   "name": "python3"
  },
  "language_info": {
   "codemirror_mode": {
    "name": "ipython",
    "version": 3
   },
   "file_extension": ".py",
   "mimetype": "text/x-python",
   "name": "python",
   "nbconvert_exporter": "python",
   "pygments_lexer": "ipython3",
   "version": "3.6.5"
  }
 },
 "nbformat": 4,
 "nbformat_minor": 2
}
