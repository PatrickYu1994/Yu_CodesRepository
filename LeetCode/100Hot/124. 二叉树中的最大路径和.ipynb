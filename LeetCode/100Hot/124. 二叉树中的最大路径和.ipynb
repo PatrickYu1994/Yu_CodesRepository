{
 "cells": [
  {
   "cell_type": "code",
   "execution_count": null,
   "metadata": {},
   "outputs": [],
   "source": [
    "执行用时 :92 ms, 在所有 Python 提交中击败了36.30% 的用户\n",
    "内存消耗 :25 MB, 在所有 Python 提交中击败了9.09%的用户"
   ]
  },
  {
   "cell_type": "code",
   "execution_count": 16,
   "metadata": {},
   "outputs": [],
   "source": [
    "# Definition for a binary tree node.\n",
    "# class TreeNode(object):\n",
    "#     def __init__(self, x):\n",
    "#         self.val = x\n",
    "#         self.left = None\n",
    "#         self.right = None\n",
    "\n",
    "class Solution(object):\n",
    "    def maxPathSum(self, root):\n",
    "        self.ans = root.val\n",
    "        self.fun(root)\n",
    "        return self.ans\n",
    "\n",
    "    def fun(self, root):\n",
    "        # dfs\n",
    "        if not root:\n",
    "            return 0\n",
    "        sum_left = max(0, self.fun(root.left))\n",
    "        sum_right = max(0, self.fun(root.right))\n",
    "        self.ans = max(self.ans, root.val+sum_left+sum_right)\n",
    "        return max(sum_left, sum_right)+root.val"
   ]
  }
 ],
 "metadata": {
  "kernelspec": {
   "display_name": "Python 3",
   "language": "python",
   "name": "python3"
  },
  "language_info": {
   "codemirror_mode": {
    "name": "ipython",
    "version": 3
   },
   "file_extension": ".py",
   "mimetype": "text/x-python",
   "name": "python",
   "nbconvert_exporter": "python",
   "pygments_lexer": "ipython3",
   "version": "3.6.5"
  }
 },
 "nbformat": 4,
 "nbformat_minor": 2
}
