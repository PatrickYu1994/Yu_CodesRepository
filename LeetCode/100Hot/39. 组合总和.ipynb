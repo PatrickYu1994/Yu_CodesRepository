{
 "cells": [
  {
   "cell_type": "code",
   "execution_count": null,
   "metadata": {},
   "outputs": [],
   "source": [
    "# 执行用时 :40 ms, 在所有 Python 提交中击败了83.43% 的用户\n",
    "# 内存消耗 :12.7 MB, 在所有 Python 提交中击败了5.31%的用户\n",
    "\n",
    "# 与下面的代码 不同的地方在于，每次不会从index=0开始遍历，而是从当前index开始遍历\n",
    "\n",
    "class Solution(object):\n",
    "    def combinationSum(self, candidates, target):\n",
    "        temp = []\n",
    "        res = []\n",
    "        self.dfs(list(set(candidates)), target, temp, res)\n",
    "        return res\n",
    "        \n",
    "    def dfs(self, candidates, target, temp,  res):\n",
    "        if target == 0:\n",
    "            res.append(temp)\n",
    "            return \n",
    "        for i in range(len(candidates)):\n",
    "            if candidates[i] <= target:\n",
    "                self.dfs(candidates[i:], target-candidates[i], temp+[candidates[i]], res)"
   ]
  },
  {
   "cell_type": "code",
   "execution_count": null,
   "metadata": {},
   "outputs": [],
   "source": [
    "# 执行用时 :144 ms, 在所有 Python 提交中击败了15.44% 的用户\n",
    "# 内存消耗 :12.6 MB, 在所有 Python 提交中击败了5.31%的用户\n",
    "class Solution(object):\n",
    "    def combinationSum(self, candidates, target):\n",
    "        temp = []\n",
    "        res = []\n",
    "        self.dfs(list(set(candidates)), target, temp, res)\n",
    "        return res\n",
    "        \n",
    "    def dfs(self, candidates, target, temp,  res):\n",
    "        if target == 0:\n",
    "            temp.sort()\n",
    "            if temp not in res:\n",
    "                res.append(temp)\n",
    "            return \n",
    "        for i in candidates:\n",
    "            if i <= target:\n",
    "                self.dfs(candidates, target-i, temp+[i], res)"
   ]
  }
 ],
 "metadata": {
  "kernelspec": {
   "display_name": "Python 3",
   "language": "python",
   "name": "python3"
  },
  "language_info": {
   "codemirror_mode": {
    "name": "ipython",
    "version": 3
   },
   "file_extension": ".py",
   "mimetype": "text/x-python",
   "name": "python",
   "nbconvert_exporter": "python",
   "pygments_lexer": "ipython3",
   "version": "3.6.5"
  }
 },
 "nbformat": 4,
 "nbformat_minor": 2
}
