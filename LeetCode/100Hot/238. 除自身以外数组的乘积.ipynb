{
 "cells": [
  {
   "cell_type": "code",
   "execution_count": null,
   "metadata": {},
   "outputs": [],
   "source": [
    "执行用时 :32 ms, 在所有 Python 提交中击败了96.01% 的用户\n",
    "内存消耗 :20 MB, 在所有 Python 提交中击败了25.92%的用户"
   ]
  },
  {
   "cell_type": "code",
   "execution_count": null,
   "metadata": {},
   "outputs": [],
   "source": [
    "class Solution(object):\n",
    "    def productExceptSelf(self, nums):\n",
    "        if not nums:\n",
    "            return []\n",
    "        res = [0]*len(nums)\n",
    "        temp = 1\n",
    "        if nums.count(0) == 1:\n",
    "            ind = nums.index(0)\n",
    "            for i in range(len(nums)):\n",
    "                if i != ind:\n",
    "                    temp*=nums[i]\n",
    "            res[ind] = temp\n",
    "        elif nums.count(0) == 0:\n",
    "            for i in range(1, len(nums)):\n",
    "                temp *= nums[i]\n",
    "            res[0] = temp\n",
    "            for i in range(1, len(res)):\n",
    "                res[i] = res[i-1]/nums[i]*nums[i-1]\n",
    "        return res"
   ]
  }
 ],
 "metadata": {
  "kernelspec": {
   "display_name": "Python 3",
   "language": "python",
   "name": "python3"
  },
  "language_info": {
   "codemirror_mode": {
    "name": "ipython",
    "version": 3
   },
   "file_extension": ".py",
   "mimetype": "text/x-python",
   "name": "python",
   "nbconvert_exporter": "python",
   "pygments_lexer": "ipython3",
   "version": "3.6.5"
  }
 },
 "nbformat": 4,
 "nbformat_minor": 2
}
