{
 "cells": [
  {
   "cell_type": "code",
   "execution_count": null,
   "metadata": {},
   "outputs": [],
   "source": [
    "执行用时 :616 ms, 在所有 Python 提交中击败了23.76% 的用户\n",
    "内存消耗 :16.6 MB, 在所有 Python 提交中击败了5.56%的用户"
   ]
  },
  {
   "cell_type": "code",
   "execution_count": null,
   "metadata": {},
   "outputs": [],
   "source": [
    "class MinStack(object):\n",
    "\n",
    "    def __init__(self):\n",
    "        self.stack = []\n",
    "        self.min_arr = []\n",
    "\n",
    "    def push(self, x):\n",
    "        self.stack.append(x)\n",
    "        if not self.min_arr or max(self.min_arr) < x:\n",
    "            self.min_arr.append(x)\n",
    "        else:\n",
    "            for i in range(len(self.min_arr)):\n",
    "                if self.min_arr[i] >= x:\n",
    "                    self.min_arr.insert(i, x)\n",
    "                    break\n",
    "\n",
    "    def pop(self):\n",
    "        cur = self.stack.pop()\n",
    "        for i in range(len(self.min_arr)):\n",
    "            if self.min_arr[i] == cur:\n",
    "                self.min_arr.pop(i)\n",
    "                break\n",
    "        return cur\n",
    "\n",
    "\n",
    "    def top(self):\n",
    "        return self.stack[-1]\n",
    "\n",
    "\n",
    "    def getMin(self):\n",
    "        if self.min_arr:\n",
    "            return self.min_arr[0]\n",
    "        return None\n",
    "\n",
    "\n",
    "\n",
    "# Your MinStack object will be instantiated and called as such:\n",
    "# obj = MinStack()\n",
    "# obj.push(x)\n",
    "# obj.pop()\n",
    "# param_3 = obj.top()\n",
    "# param_4 = obj.getMin()"
   ]
  }
 ],
 "metadata": {
  "kernelspec": {
   "display_name": "Python 3",
   "language": "python",
   "name": "python3"
  },
  "language_info": {
   "codemirror_mode": {
    "name": "ipython",
    "version": 3
   },
   "file_extension": ".py",
   "mimetype": "text/x-python",
   "name": "python",
   "nbconvert_exporter": "python",
   "pygments_lexer": "ipython3",
   "version": "3.6.5"
  }
 },
 "nbformat": 4,
 "nbformat_minor": 2
}
