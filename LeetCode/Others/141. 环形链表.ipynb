{
 "cells": [
  {
   "cell_type": "code",
   "execution_count": null,
   "metadata": {},
   "outputs": [],
   "source": [
    "# Definition for singly-linked list.\n",
    "# class ListNode(object):\n",
    "#     def __init__(self, x):\n",
    "#         self.val = x\n",
    "#         self.next = None\n",
    "\n",
    "class Solution(object):\n",
    "    def hasCycle(self, head):\n",
    "        \n",
    "        # 两种方法：第一种 -- hash表  第二种 -- 快慢指针\n",
    "\n",
    "        # 1.\n",
    "        '''\n",
    "        graph = []\n",
    "        while head:\n",
    "            if not head:\n",
    "                break\n",
    "            if head not in graph:\n",
    "                graph.append(head)\n",
    "                head = head.next\n",
    "                continue\n",
    "            return True\n",
    "        return False\n",
    "        '''\n",
    "\n",
    "        # 2.\n",
    "        fast = head\n",
    "        slow = head\n",
    "        while True:\n",
    "            if not fast:\n",
    "                return False\n",
    "            slow = slow.next\n",
    "            if fast.next:\n",
    "                fast = fast.next.next\n",
    "            else:\n",
    "                return False\n",
    "            if fast == slow:\n",
    "                return True\n"
   ]
  }
 ],
 "metadata": {
  "kernelspec": {
   "display_name": "Python 3",
   "language": "python",
   "name": "python3"
  },
  "language_info": {
   "codemirror_mode": {
    "name": "ipython",
    "version": 3
   },
   "file_extension": ".py",
   "mimetype": "text/x-python",
   "name": "python",
   "nbconvert_exporter": "python",
   "pygments_lexer": "ipython3",
   "version": "3.6.5"
  }
 },
 "nbformat": 4,
 "nbformat_minor": 2
}
