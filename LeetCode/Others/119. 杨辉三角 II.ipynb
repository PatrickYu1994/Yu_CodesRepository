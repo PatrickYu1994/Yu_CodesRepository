{
 "cells": [
  {
   "cell_type": "code",
   "execution_count": null,
   "metadata": {},
   "outputs": [],
   "source": [
    "#执行用时 :24 ms, 在所有 Python 提交中击败了38.22% 的用户\n",
    "#内存消耗 :11.7 MB, 在所有 Python 提交中击败了80.00%的用户\n",
    "class Solution(object):\n",
    "    def getRow(self, rowIndex):\n",
    "        \"\"\"\n",
    "        :type rowIndex: int\n",
    "        :rtype: List[int]\n",
    "        \"\"\"\n",
    "        res = [[1]]\n",
    "        for i in range(1, rowIndex+1):\n",
    "            res.append([1] * (i+1))\n",
    "            for j in range(1, len(res[i])-1):\n",
    "                res[i][j] = res[i-1][j-1]+res[i-1][j]\n",
    "        return res[-1]"
   ]
  }
 ],
 "metadata": {
  "kernelspec": {
   "display_name": "Python 3",
   "language": "python",
   "name": "python3"
  },
  "language_info": {
   "codemirror_mode": {
    "name": "ipython",
    "version": 3
   },
   "file_extension": ".py",
   "mimetype": "text/x-python",
   "name": "python",
   "nbconvert_exporter": "python",
   "pygments_lexer": "ipython3",
   "version": "3.6.5"
  }
 },
 "nbformat": 4,
 "nbformat_minor": 2
}
