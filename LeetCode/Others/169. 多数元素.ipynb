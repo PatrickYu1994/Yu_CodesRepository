{
 "cells": [
  {
   "cell_type": "code",
   "execution_count": null,
   "metadata": {},
   "outputs": [],
   "source": [
    "执行用时 :92 ms, 在所有 Python 提交中击败了42.40% 的用户\n",
    "内存消耗 :13.9 MB, 在所有 Python 提交中击败了15.94%的用户"
   ]
  },
  {
   "cell_type": "code",
   "execution_count": null,
   "metadata": {},
   "outputs": [],
   "source": [
    "class Solution(object):\n",
    "    def majorityElement(self, nums):\n",
    "        graph = {}\n",
    "        half_len = len(nums)//2\n",
    "        for i in nums:\n",
    "            if i in graph.keys():\n",
    "                graph[i]+=1\n",
    "            else:\n",
    "                graph[i]=1\n",
    "\n",
    "            if graph[i] > half_len:\n",
    "                return i\n",
    "            "
   ]
  }
 ],
 "metadata": {
  "kernelspec": {
   "display_name": "Python 3",
   "language": "python",
   "name": "python3"
  },
  "language_info": {
   "codemirror_mode": {
    "name": "ipython",
    "version": 3
   },
   "file_extension": ".py",
   "mimetype": "text/x-python",
   "name": "python",
   "nbconvert_exporter": "python",
   "pygments_lexer": "ipython3",
   "version": "3.6.5"
  }
 },
 "nbformat": 4,
 "nbformat_minor": 2
}
