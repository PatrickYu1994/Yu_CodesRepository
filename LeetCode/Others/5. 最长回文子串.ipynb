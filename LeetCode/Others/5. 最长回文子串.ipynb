{
 "cells": [
  {
   "cell_type": "code",
   "execution_count": null,
   "metadata": {},
   "outputs": [],
   "source": [
    "执行用时 :4372 ms, 在所有 Python 提交中击败了21.64% 的用户\n",
    "内存消耗 :14.6 MB, 在所有 Python 提交中击败了34.82%的用户"
   ]
  },
  {
   "cell_type": "code",
   "execution_count": null,
   "metadata": {},
   "outputs": [],
   "source": [
    "class Solution(object):\n",
    "    def longestPalindrome(self, s):\n",
    "        self.max_str = \"\"\n",
    "        for i in range(len(s)):\n",
    "            self.find(s, i, i, \"\")\n",
    "        return self.max_str\n",
    "\n",
    "    def find(self, s, left, right, string):\n",
    "        if len(string) > len(self.max_str):\n",
    "            self.max_str = string\n",
    "        if left >= 0 and right < len(s) and s[left] == s[right]:\n",
    "            if left == right:\n",
    "                self.find(s, left-1, right+1, s[left])\n",
    "                self.find(s, left-1, right, string)\n",
    "            else:\n",
    "                self.find(s, left-1, right+1, s[left]+string+s[right])\n",
    "\n",
    "\n",
    "            \n"
   ]
  }
 ],
 "metadata": {
  "kernelspec": {
   "display_name": "Python 3",
   "language": "python",
   "name": "python3"
  },
  "language_info": {
   "codemirror_mode": {
    "name": "ipython",
    "version": 3
   },
   "file_extension": ".py",
   "mimetype": "text/x-python",
   "name": "python",
   "nbconvert_exporter": "python",
   "pygments_lexer": "ipython3",
   "version": "3.6.5"
  }
 },
 "nbformat": 4,
 "nbformat_minor": 2
}
