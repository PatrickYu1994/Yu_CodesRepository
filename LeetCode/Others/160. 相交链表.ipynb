{
 "cells": [
  {
   "cell_type": "code",
   "execution_count": null,
   "metadata": {},
   "outputs": [],
   "source": [
    "执行用时 :284 ms, 在所有 Python 提交中击败了11.02% 的用户\n",
    "内存消耗 :42.7 MB, 在所有 Python 提交中击败了5.00%的用户"
   ]
  },
  {
   "cell_type": "code",
   "execution_count": null,
   "metadata": {},
   "outputs": [],
   "source": [
    "# Definition for singly-linked list.\n",
    "# class ListNode(object):\n",
    "#     def __init__(self, x):\n",
    "#         self.val = x\n",
    "#         self.next = None\n",
    "\n",
    "class Solution(object):\n",
    "    def getIntersectionNode(self, headA, headB):\n",
    "        ha, hb = headA, headB\n",
    "        ca = cb = 0\n",
    "        while ha:\n",
    "            ha = ha.next\n",
    "            ca += 1\n",
    "        while hb:\n",
    "            hb = hb.next\n",
    "            cb += 1\n",
    "        if ca > cb:\n",
    "            t = ca-cb\n",
    "            while t > 0:\n",
    "                headA = headA.next\n",
    "                t-=1\n",
    "        else:\n",
    "            t = cb-ca\n",
    "            while t > 0:\n",
    "                headB = headB.next\n",
    "                t-=1\n",
    "        while headA!=headB:\n",
    "            headA = headA.next\n",
    "            headB = headB.next\n",
    "        return headB\n",
    "        "
   ]
  }
 ],
 "metadata": {
  "kernelspec": {
   "display_name": "Python 3",
   "language": "python",
   "name": "python3"
  },
  "language_info": {
   "codemirror_mode": {
    "name": "ipython",
    "version": 3
   },
   "file_extension": ".py",
   "mimetype": "text/x-python",
   "name": "python",
   "nbconvert_exporter": "python",
   "pygments_lexer": "ipython3",
   "version": "3.6.5"
  }
 },
 "nbformat": 4,
 "nbformat_minor": 2
}
