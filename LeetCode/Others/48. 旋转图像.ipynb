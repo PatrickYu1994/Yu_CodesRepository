{
 "cells": [
  {
   "cell_type": "code",
   "execution_count": null,
   "metadata": {},
   "outputs": [],
   "source": [
    "# 执行用时 :28 ms, 在所有 Python 提交中击败了37.04% 的用户\n",
    "# 内存消耗 :12.8 MB, 在所有 Python 提交中击败了5.59%的用户\n",
    "class Solution(object):\n",
    "    def rotate(self, matrix):\n",
    "        if len(matrix) == 0:\n",
    "            return matrix\n",
    "        n = len(matrix)\n",
    "        for row in range(n//2):\n",
    "            for col in range(row, n-1-row):\n",
    "                temp = matrix[row][col]\n",
    "                matrix[row][col] = matrix[n-1-col][row]\n",
    "                matrix[n-1-col][row] = matrix[n-row-1][n-col-1]\n",
    "                matrix[n-row-1][n-col-1] = matrix[col][n-row-1]\n",
    "                matrix[col][n-row-1] = temp\n",
    "        return matrix\n",
    "\n"
   ]
  }
 ],
 "metadata": {
  "kernelspec": {
   "display_name": "Python 3",
   "language": "python",
   "name": "python3"
  },
  "language_info": {
   "codemirror_mode": {
    "name": "ipython",
    "version": 3
   },
   "file_extension": ".py",
   "mimetype": "text/x-python",
   "name": "python",
   "nbconvert_exporter": "python",
   "pygments_lexer": "ipython3",
   "version": "3.6.5"
  }
 },
 "nbformat": 4,
 "nbformat_minor": 2
}
