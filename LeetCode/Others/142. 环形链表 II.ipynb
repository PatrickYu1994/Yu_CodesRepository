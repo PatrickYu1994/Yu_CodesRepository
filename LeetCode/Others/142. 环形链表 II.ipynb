{
 "cells": [
  {
   "cell_type": "code",
   "execution_count": null,
   "metadata": {},
   "outputs": [],
   "source": [
    "# Definition for singly-linked list.\n",
    "# class ListNode(object):\n",
    "#     def __init__(self, x):\n",
    "#         self.val = x\n",
    "#         self.next = None\n",
    "\n",
    "class Solution(object):\n",
    "    def detectCycle(self, head):\n",
    "        '''\n",
    "        res = []\n",
    "        while True:\n",
    "            if not head:\n",
    "                return head\n",
    "            if head not in res:\n",
    "                res.append(head)\n",
    "            else:\n",
    "                return head\n",
    "            head = head.next\n",
    "        '''\n",
    "\n",
    "        # 不用额外空间 \n",
    "        slow = head\n",
    "        fast = head\n",
    "        while True:\n",
    "            if not fast or not fast.next:\n",
    "                return \n",
    "            fast = fast.next.next\n",
    "            slow = slow.next\n",
    "            if fast == slow:\n",
    "                break\n",
    "        fast = head\n",
    "        while fast != slow:\n",
    "            fast, slow = fast.next, slow.next\n",
    "        return fast\n",
    "            "
   ]
  }
 ],
 "metadata": {
  "kernelspec": {
   "display_name": "Python 3",
   "language": "python",
   "name": "python3"
  },
  "language_info": {
   "codemirror_mode": {
    "name": "ipython",
    "version": 3
   },
   "file_extension": ".py",
   "mimetype": "text/x-python",
   "name": "python",
   "nbconvert_exporter": "python",
   "pygments_lexer": "ipython3",
   "version": "3.6.5"
  }
 },
 "nbformat": 4,
 "nbformat_minor": 2
}
