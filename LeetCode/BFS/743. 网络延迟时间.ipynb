{
 "cells": [
  {
   "cell_type": "code",
   "execution_count": 57,
   "metadata": {},
   "outputs": [],
   "source": [
    "import heapq\n",
    "class Solution(object):\n",
    "    def networkDelayTime(self, times, N, K):\n",
    "        graph = {}\n",
    "        for time in times:\n",
    "            # time[0] -> start, time[1] -> des, time[2] -> weight\n",
    "            if time[0] in graph.keys():\n",
    "                graph[time[0]].append([time[1], time[2]])\n",
    "            else:\n",
    "                graph[time[0]] = [[time[1], time[2]]]\n",
    "        queue = []\n",
    "        heapq.heappush(queue, [0, K])\n",
    "        visited = []\n",
    "        res = 0\n",
    "        while queue:\n",
    "            cur = heapq.heappop(queue)\n",
    "            # cur[0]->weight cur[1]->start\n",
    "            res = max(res, cur[0])\n",
    "            if cur[1] not in visited:\n",
    "                visited.append(cur[1])\n",
    "                if cur[1] in graph.keys():\n",
    "                    for des in graph[cur[1]]:\n",
    "                        # des[0]->destination des[1]->weight\n",
    "                        if des[0] not in visited:\n",
    "                            heapq.heappush(queue,[cur[0]+des[1], des[0]])\n",
    "            \n",
    "        return res"
   ]
  },
  {
   "cell_type": "code",
   "execution_count": 58,
   "metadata": {},
   "outputs": [
    {
     "data": {
      "text/plain": [
       "2"
      ]
     },
     "execution_count": 58,
     "metadata": {},
     "output_type": "execute_result"
    }
   ],
   "source": [
    "s = Solution()\n",
    "s.networkDelayTime([[2,1,1],[2,3,1],[3,4,1]], 4, 2)"
   ]
  },
  {
   "cell_type": "code",
   "execution_count": null,
   "metadata": {},
   "outputs": [],
   "source": []
  },
  {
   "cell_type": "code",
   "execution_count": 40,
   "metadata": {},
   "outputs": [],
   "source": [
    "# queue版本\n",
    "import queue \n",
    "class Solution(object):\n",
    "    def networkDelayTime(self, times, N, K):\n",
    "        # 先建立graph\n",
    "        graph = {}\n",
    "        for time in times:\n",
    "            if time[0] in graph.keys():\n",
    "                graph[time[0]].append([time[1], time[2]])\n",
    "            else:\n",
    "                graph[time[0]] = [[time[1], time[2]]]\n",
    "        visited = []\n",
    "        q = queue.PriorityQueue()\n",
    "        q.put([0, K]) #把起始点放进priority queue中\n",
    "        res = 0\n",
    "        while not q.empty():\n",
    "            cur = q.get()\n",
    "            res = max(res, cur[0])\n",
    "            if cur[1] not in visited:\n",
    "                visited.append(cur[1])\n",
    "                if cur[1] in graph.keys():\n",
    "                    for tar in graph[cur[1]]:\n",
    "                        if tar[0] not in visited:\n",
    "                            q.put([cur[0]+tar[1], tar[0]])\n",
    "        return res   "
   ]
  },
  {
   "cell_type": "code",
   "execution_count": 41,
   "metadata": {},
   "outputs": [
    {
     "data": {
      "text/plain": [
       "3"
      ]
     },
     "execution_count": 41,
     "metadata": {},
     "output_type": "execute_result"
    }
   ],
   "source": [
    "s = Solution()\n",
    "s.networkDelayTime([[2,1,1],[2,3,1],[3,4,2]], 4, 2)"
   ]
  },
  {
   "cell_type": "code",
   "execution_count": null,
   "metadata": {},
   "outputs": [],
   "source": []
  }
 ],
 "metadata": {
  "kernelspec": {
   "display_name": "Python 3",
   "language": "python",
   "name": "python3"
  },
  "language_info": {
   "codemirror_mode": {
    "name": "ipython",
    "version": 3
   },
   "file_extension": ".py",
   "mimetype": "text/x-python",
   "name": "python",
   "nbconvert_exporter": "python",
   "pygments_lexer": "ipython3",
   "version": "3.6.5"
  }
 },
 "nbformat": 4,
 "nbformat_minor": 2
}
