{
 "cells": [
  {
   "cell_type": "code",
   "execution_count": null,
   "metadata": {},
   "outputs": [],
   "source": [
    "# 执行用时 :904 ms, 在所有 Python3 提交中击败了28.17% 的用户\n",
    "# 内存消耗 :15.2 MB, 在所有 Python3 提交中击败了22.73%的用户\n",
    "\n",
    "import queue\n",
    "class Solution:\n",
    "    def networkDelayTime(self, times: List[List[int]], N: int, K: int) -> int:\n",
    "        graph = {}\n",
    "        for start, des, weight in times:\n",
    "            if start in graph:\n",
    "                graph[start].append([des, weight])\n",
    "            else:\n",
    "                graph[start] = [[des, weight]]\n",
    "        \n",
    "        q = queue.PriorityQueue()\n",
    "        q.put([0, K])\n",
    "        visited = []\n",
    "        res = 0\n",
    "        while not q.empty():\n",
    "            w, cur = q.get()\n",
    "            if cur not in visited:\n",
    "                visited.append(cur)\n",
    "                res = max(res, w)\n",
    "                if cur in graph.keys():\n",
    "                    for des, weight in graph[cur]:\n",
    "                        if des not in visited:\n",
    "                            q.put([w+weight, des])\n",
    "        if N == len(visited):\n",
    "            return res\n",
    "        else:\n",
    "            return -1"
   ]
  }
 ],
 "metadata": {
  "kernelspec": {
   "display_name": "Python 3",
   "language": "python",
   "name": "python3"
  },
  "language_info": {
   "codemirror_mode": {
    "name": "ipython",
    "version": 3
   },
   "file_extension": ".py",
   "mimetype": "text/x-python",
   "name": "python",
   "nbconvert_exporter": "python",
   "pygments_lexer": "ipython3",
   "version": "3.6.5"
  }
 },
 "nbformat": 4,
 "nbformat_minor": 2
}
