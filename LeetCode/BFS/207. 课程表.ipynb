{
 "cells": [
  {
   "cell_type": "code",
   "execution_count": 17,
   "metadata": {},
   "outputs": [],
   "source": [
    "# 执行用时 :236 ms, 在所有 Python 提交中击败了15.61% 的用户\n",
    "# 内存消耗 :13.6 MB, 在所有 Python 提交中击败了39.19%的用户\n",
    "\n",
    "# 拓扑排序\n",
    "class Solution(object):\n",
    "    def canFinish(self, numCourses, prerequisites):\n",
    "        # 如果给的输入是数组，首先把数组抽象成图\n",
    "        unordered_map = {}\n",
    "        degree = [0]*numCourses #入度\n",
    "        for prerequisite in prerequisites:\n",
    "            if prerequisite[1] in unordered_map.keys():\n",
    "                unordered_map[prerequisite[1]]+=[prerequisite[0]]\n",
    "            else:\n",
    "                unordered_map[prerequisite[1]] = [prerequisite[0]]\n",
    "            degree[prerequisite[0]] += 1\n",
    "        #print(unordered_map)    \n",
    "        count = 0\n",
    "        # 拓扑排序模板主主体\n",
    "        queue = []\n",
    "        # 先找哪门课的入度是 0（没有前置课）\n",
    "        for i in range(len(degree)):\n",
    "            if degree[i] == 0:\n",
    "                queue.append(i)\n",
    "        while queue:\n",
    "            cur = queue.pop(0)\n",
    "            count+=1\n",
    "            if cur in unordered_map.keys():\n",
    "                for i in unordered_map[cur]:\n",
    "                    degree[i]-=1\n",
    "                    if degree[i] == 0:\n",
    "                        queue.append(i)\n",
    "        return count == numCourses"
   ]
  },
  {
   "cell_type": "code",
   "execution_count": 18,
   "metadata": {},
   "outputs": [
    {
     "data": {
      "text/plain": [
       "True"
      ]
     },
     "execution_count": 18,
     "metadata": {},
     "output_type": "execute_result"
    }
   ],
   "source": [
    "s = Solution()\n",
    "s.canFinish(2, [[1,0]] )"
   ]
  },
  {
   "cell_type": "code",
   "execution_count": null,
   "metadata": {},
   "outputs": [],
   "source": []
  },
  {
   "cell_type": "code",
   "execution_count": null,
   "metadata": {},
   "outputs": [],
   "source": []
  },
  {
   "cell_type": "code",
   "execution_count": null,
   "metadata": {},
   "outputs": [],
   "source": []
  },
  {
   "cell_type": "code",
   "execution_count": null,
   "metadata": {},
   "outputs": [],
   "source": []
  }
 ],
 "metadata": {
  "kernelspec": {
   "display_name": "Python 3",
   "language": "python",
   "name": "python3"
  },
  "language_info": {
   "codemirror_mode": {
    "name": "ipython",
    "version": 3
   },
   "file_extension": ".py",
   "mimetype": "text/x-python",
   "name": "python",
   "nbconvert_exporter": "python",
   "pygments_lexer": "ipython3",
   "version": "3.6.5"
  }
 },
 "nbformat": 4,
 "nbformat_minor": 2
}
