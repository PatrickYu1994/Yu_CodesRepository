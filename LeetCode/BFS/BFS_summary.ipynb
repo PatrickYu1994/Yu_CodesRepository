{
 "cells": [
  {
   "cell_type": "markdown",
   "metadata": {},
   "source": [
    "https://www.bilibili.com/video/av95356786\n",
    "# BFS都可以抽象成 图 的问题\n",
    "## BFS能解决什么样的问题：（有没有路/最短的路）  \n",
    "### 1.解决 A 到 B 是否有通路（A能不能到B)\n",
    "### 2.A 到 B 的最短路径  \n",
    "\n",
    "一般BFS适合解决最短路径的问题，因为BFS有逐层遍历的概念  \n",
    "一般BFS会用 队列 放在一起来用  \n",
    "\n",
    "\n",
    "一般搜索的问题，都会用到BFS,DFS,DP"
   ]
  },
  {
   "cell_type": "code",
   "execution_count": null,
   "metadata": {},
   "outputs": [],
   "source": []
  }
 ],
 "metadata": {
  "kernelspec": {
   "display_name": "Python 3",
   "language": "python",
   "name": "python3"
  },
  "language_info": {
   "codemirror_mode": {
    "name": "ipython",
    "version": 3
   },
   "file_extension": ".py",
   "mimetype": "text/x-python",
   "name": "python",
   "nbconvert_exporter": "python",
   "pygments_lexer": "ipython3",
   "version": "3.6.5"
  }
 },
 "nbformat": 4,
 "nbformat_minor": 2
}
