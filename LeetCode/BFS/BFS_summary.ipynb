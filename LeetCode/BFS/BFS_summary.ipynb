{
 "cells": [
  {
   "cell_type": "markdown",
   "metadata": {},
   "source": [
    "https://www.bilibili.com/video/av95356786\n",
    "# BFS都可以抽象成 图 的问题\n",
    "## BFS能解决什么样的问题：（有没有路/最短的路）  \n",
    "### 1.解决 A 到 B 是否有通路（A能不能到B)\n",
    "### 2.A 到 B 的最短路径  \n",
    "\n",
    "一般BFS适合解决最短路径的问题，因为BFS有逐层遍历的概念  \n",
    "一般BFS会用 队列 放在一起来用  \n",
    "\n",
    "\n",
    "一般搜索的问题，都会用到BFS,DFS,DP  \n",
    "\n",
    "抽象成图的问题 -> 有向图，无向图\n",
    "\n",
    "如果带权的话，会用到 Priority queue\n"
   ]
  },
  {
   "cell_type": "markdown",
   "metadata": {},
   "source": [
    "# BFS 模板  \n"
   ]
  },
  {
   "cell_type": "code",
   "execution_count": 1,
   "metadata": {},
   "outputs": [],
   "source": [
    "# 102. 二叉树的层次遍历\n",
    "\n",
    "#执行用时 :20 ms, 在所有 Python 提交中击败了86.99% 的用户\n",
    "#内存消耗 :13.1 MB, 在所有 Python 提交中击败了5.32%的用户\n",
    "\n",
    "# Definition for a binary tree node.\n",
    "# class TreeNode(object):\n",
    "#     def __init__(self, x):\n",
    "#         self.val = x\n",
    "#         self.left = None\n",
    "#         self.right = None\n",
    "\n",
    "class Solution(object):\n",
    "    def levelOrder(self, root):\n",
    "        res  = []\n",
    "        if not root:\n",
    "            return res\n",
    "        queue = [] #用来存节点\n",
    "        queue.append(root)\n",
    "        while queue:\n",
    "            q_size = len(queue)  # 记录size, 以保证每次处理的都是一层的节点\n",
    "            temp = []\n",
    "            for _ in range(q_size):\n",
    "                curr_node = queue.pop(0)\n",
    "                temp.append(curr_node.val)\n",
    "                if curr_node.left:\n",
    "                    queue.append(curr_node.left)\n",
    "                if curr_node.right:\n",
    "                    queue.append(curr_node.right)\n",
    "            res.append(temp)\n",
    "        return res\n",
    "        "
   ]
  },
  {
   "cell_type": "code",
   "execution_count": null,
   "metadata": {},
   "outputs": [],
   "source": []
  }
 ],
 "metadata": {
  "kernelspec": {
   "display_name": "Python 3",
   "language": "python",
   "name": "python3"
  },
  "language_info": {
   "codemirror_mode": {
    "name": "ipython",
    "version": 3
   },
   "file_extension": ".py",
   "mimetype": "text/x-python",
   "name": "python",
   "nbconvert_exporter": "python",
   "pygments_lexer": "ipython3",
   "version": "3.6.5"
  }
 },
 "nbformat": 4,
 "nbformat_minor": 2
}
