{
 "cells": [
  {
   "cell_type": "code",
   "execution_count": null,
   "metadata": {},
   "outputs": [],
   "source": [
    "# 执行用时 :116 ms, 在所有 Python 提交中击败了22.67% 的用户\n",
    "# 内存消耗 :13.7 MB, 在所有 Python 提交中击败了13.64%的用户\n",
    "\n",
    "class Solution(object):\n",
    "    def findOrder(self, numCourses, prerequisites):\n",
    "        course_relation = {}\n",
    "        degree = [0]*numCourses\n",
    "        for pre in prerequisites:\n",
    "            if pre[1] in course_relation:\n",
    "                course_relation[pre[1]].append(pre[0])\n",
    "            else:\n",
    "                course_relation[pre[1]] = [pre[0]]\n",
    "            degree[pre[0]] += 1\n",
    "\n",
    "        queue = []\n",
    "        for c in range(len(degree)):\n",
    "            if degree[c] == 0:\n",
    "                queue.append(c)\n",
    "\n",
    "        res = []\n",
    "        count = 0\n",
    "        while queue:\n",
    "            cur = queue.pop(0)\n",
    "            count+=1\n",
    "            res.append(cur)\n",
    "            if cur in course_relation.keys():\n",
    "                for post in course_relation[cur]:\n",
    "                    degree[post]-=1\n",
    "                    if degree[post] == 0:\n",
    "                        queue.append(post)\n",
    "        if count == numCourses:\n",
    "            return res\n",
    "        else:\n",
    "            return []"
   ]
  }
 ],
 "metadata": {
  "kernelspec": {
   "display_name": "Python 3",
   "language": "python",
   "name": "python3"
  },
  "language_info": {
   "codemirror_mode": {
    "name": "ipython",
    "version": 3
   },
   "file_extension": ".py",
   "mimetype": "text/x-python",
   "name": "python",
   "nbconvert_exporter": "python",
   "pygments_lexer": "ipython3",
   "version": "3.6.5"
  }
 },
 "nbformat": 4,
 "nbformat_minor": 2
}
