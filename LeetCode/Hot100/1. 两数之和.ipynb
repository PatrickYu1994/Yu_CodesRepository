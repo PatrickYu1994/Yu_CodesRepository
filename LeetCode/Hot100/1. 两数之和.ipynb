{
 "cells": [
  {
   "cell_type": "code",
   "execution_count": null,
   "metadata": {},
   "outputs": [],
   "source": [
    "# 执行用时 :620 ms, 在所有 Python 提交中击败了49.67% 的用户\n",
    "# 内存消耗 :13.5 MB, 在所有 Python 提交中击败了5.14%的用户\n",
    "    \n",
    "class Solution(object):\n",
    "    def twoSum(self, nums, target):\n",
    "        dic = {}\n",
    "        for i, num in enumerate(nums):\n",
    "            if target-num in dic.keys():\n",
    "                return [i, dic[target-num]]\n",
    "            dic[num]=i"
   ]
  }
 ],
 "metadata": {
  "kernelspec": {
   "display_name": "Python 3",
   "language": "python",
   "name": "python3"
  },
  "language_info": {
   "codemirror_mode": {
    "name": "ipython",
    "version": 3
   },
   "file_extension": ".py",
   "mimetype": "text/x-python",
   "name": "python",
   "nbconvert_exporter": "python",
   "pygments_lexer": "ipython3",
   "version": "3.6.5"
  }
 },
 "nbformat": 4,
 "nbformat_minor": 2
}
