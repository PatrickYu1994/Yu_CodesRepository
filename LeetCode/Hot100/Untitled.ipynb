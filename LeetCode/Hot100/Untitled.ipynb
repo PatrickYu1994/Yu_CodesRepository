{
 "cells": [
  {
   "cell_type": "code",
   "execution_count": null,
   "metadata": {},
   "outputs": [],
   "source": [
    "# Definition for singly-linked list.\n",
    "# class ListNode(object):\n",
    "#     def __init__(self, x):\n",
    "#         self.val = x\n",
    "#         self.next = None\n",
    "\n",
    "class Solution(object):\n",
    "    def addTwoNumbers(self, l1, l2):\n",
    "        start = ListNode(0)\n",
    "        head = start\n",
    "        pre = 0\n",
    "        while l1 or l2:\n",
    "            if l1 and l2:\n",
    "                temp = l1.val+l2.val\n",
    "            elif l1:\n",
    "                temp = l1.val\n",
    "            else:\n",
    "                temp = l2.val\n",
    "\n",
    "            if pre == 1:\n",
    "                temp+=1\n",
    "                pre=0\n",
    "            if temp < 10:\n",
    "                head.next = ListNode(temp)\n",
    "            else:\n",
    "                pre=1\n",
    "                head.next = ListNode(temp-10)\n",
    "            head = head.next\n",
    "            if l1:\n",
    "                l1=l1.next\n",
    "            if l2:\n",
    "                l2=l2.next\n",
    "        if pre:\n",
    "            head.next = ListNode(1)\n",
    "        return start.next\n"
   ]
  }
 ],
 "metadata": {
  "kernelspec": {
   "display_name": "Python 3",
   "language": "python",
   "name": "python3"
  },
  "language_info": {
   "codemirror_mode": {
    "name": "ipython",
    "version": 3
   },
   "file_extension": ".py",
   "mimetype": "text/x-python",
   "name": "python",
   "nbconvert_exporter": "python",
   "pygments_lexer": "ipython3",
   "version": "3.6.5"
  }
 },
 "nbformat": 4,
 "nbformat_minor": 2
}
