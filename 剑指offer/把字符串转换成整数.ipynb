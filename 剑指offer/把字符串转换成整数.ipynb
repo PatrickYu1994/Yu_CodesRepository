{
 "cells": [
  {
   "cell_type": "markdown",
   "metadata": {},
   "source": [
    "85.71% \n",
    "\n",
    "用例:\n",
    "-2147483649\n",
    "\n",
    "对应输出应该为:\n",
    "\n",
    "0\n",
    "\n",
    "你的输出为:\n",
    "\n",
    "-2147483649"
   ]
  },
  {
   "cell_type": "code",
   "execution_count": 18,
   "metadata": {},
   "outputs": [],
   "source": [
    "# -*- coding:utf-8 -*-\n",
    "class Solution:\n",
    "    def StrToInt(self, s):\n",
    "        # write code here\n",
    "        res = 0\n",
    "        label = 1\n",
    "        for char in list(s):\n",
    "            if char == \"+\":\n",
    "                continue\n",
    "            if char == \"-\":\n",
    "                label = -1\n",
    "                continue\n",
    "            if char >= \"0\" and char <= \"9\":\n",
    "                res = res * 10 + ord(char) - ord(\"0\")\n",
    "                continue\n",
    "            return 0\n",
    "        return label*res"
   ]
  },
  {
   "cell_type": "code",
   "execution_count": 19,
   "metadata": {},
   "outputs": [
    {
     "data": {
      "text/plain": [
       "123"
      ]
     },
     "execution_count": 19,
     "metadata": {},
     "output_type": "execute_result"
    }
   ],
   "source": [
    "s = Solution()\n",
    "s.StrToInt(\"+123\")"
   ]
  },
  {
   "cell_type": "code",
   "execution_count": null,
   "metadata": {},
   "outputs": [],
   "source": []
  }
 ],
 "metadata": {
  "kernelspec": {
   "display_name": "Python 3",
   "language": "python",
   "name": "python3"
  },
  "language_info": {
   "codemirror_mode": {
    "name": "ipython",
    "version": 3
   },
   "file_extension": ".py",
   "mimetype": "text/x-python",
   "name": "python",
   "nbconvert_exporter": "python",
   "pygments_lexer": "ipython3",
   "version": "3.6.5"
  }
 },
 "nbformat": 4,
 "nbformat_minor": 2
}
