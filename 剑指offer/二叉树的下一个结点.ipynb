{
 "cells": [
  {
   "cell_type": "code",
   "execution_count": 3,
   "metadata": {},
   "outputs": [],
   "source": [
    "# -*- coding:utf-8 -*-\n",
    "# class TreeLinkNode:\n",
    "#     def __init__(self, x):\n",
    "#         self.val = x\n",
    "#         self.left = None\n",
    "#         self.right = None\n",
    "#         self.next = None\n",
    "class Solution:\n",
    "    def __init__(self):\n",
    "        self.nodes = []\n",
    "    \n",
    "    def GetNext(self, pNode):\n",
    "        # write code here\n",
    "        # 首先，找到root节点\n",
    "        root = pNode\n",
    "        while root.next:\n",
    "            root = root.next\n",
    "        \n",
    "        #中序遍历\n",
    "        self.dfs(root)\n",
    "        \n",
    "        # 找到下一个节点\n",
    "        if self.nodes[-1] != pNode:\n",
    "            return self.nodes[self.nodes.index(pNode)+1]\n",
    "        return None\n",
    "        \n",
    "    def dfs(self, root):\n",
    "        if root.left:\n",
    "            self.dfs(root.left)\n",
    "        self.nodes.append(root)\n",
    "        if root.right:\n",
    "            self.dfs(root.right)"
   ]
  },
  {
   "cell_type": "code",
   "execution_count": null,
   "metadata": {},
   "outputs": [],
   "source": []
  }
 ],
 "metadata": {
  "kernelspec": {
   "display_name": "Python 3",
   "language": "python",
   "name": "python3"
  },
  "language_info": {
   "codemirror_mode": {
    "name": "ipython",
    "version": 3
   },
   "file_extension": ".py",
   "mimetype": "text/x-python",
   "name": "python",
   "nbconvert_exporter": "python",
   "pygments_lexer": "ipython3",
   "version": "3.6.5"
  }
 },
 "nbformat": 4,
 "nbformat_minor": 2
}
