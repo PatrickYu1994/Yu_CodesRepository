{
 "cells": [
  {
   "cell_type": "code",
   "execution_count": 31,
   "metadata": {},
   "outputs": [],
   "source": [
    "# -*- coding:utf-8 -*-\n",
    "class Solution:\n",
    "    # s字符串\n",
    "    def isNumeric(self, s):\n",
    "        # write code here\n",
    "        s = list(s)\n",
    "        return self.helper(s)\n",
    "        \n",
    "    def helper(self, s):\n",
    "        matched_arr = []\n",
    "        while s:\n",
    "            num = s.pop(0)\n",
    "            if num >= \"0\" and num <= \"9\": # 数字\n",
    "                matched_arr.append(num)\n",
    "                continue\n",
    "            if num == \"e\" or num == \"E\": # e or E\n",
    "                if \"e\" in matched_arr or \"E\" in matched_arr: # e or E 已经出现了一遍\n",
    "                    return False\n",
    "                matched_arr.append(num)\n",
    "                continue\n",
    "            if num == \"+\" or num == \"-\":\n",
    "                if not matched_arr or matched_arr[-1] == \"e\" or matched_arr[-1] == \"E\":\n",
    "                    matched_arr.append(num)\n",
    "                    continue\n",
    "                else:\n",
    "                    return False\n",
    "            if num == \".\":\n",
    "                if not matched_arr or (num in matched_arr) or (\"e\" in matched_arr) or (\"E\" in matched_arr):\n",
    "                    return False\n",
    "                matched_arr.append(num)\n",
    "                continue\n",
    "            return False\n",
    "        if matched_arr[-1] == \"e\" or matched_arr[-1] == \"E\":\n",
    "            return False\n",
    "        return True"
   ]
  },
  {
   "cell_type": "code",
   "execution_count": 32,
   "metadata": {},
   "outputs": [
    {
     "data": {
      "text/plain": [
       "False"
      ]
     },
     "execution_count": 32,
     "metadata": {},
     "output_type": "execute_result"
    }
   ],
   "source": [
    "s = Solution()\n",
    "s.isNumeric(\"12e+4.3\")"
   ]
  },
  {
   "cell_type": "code",
   "execution_count": null,
   "metadata": {},
   "outputs": [],
   "source": []
  }
 ],
 "metadata": {
  "kernelspec": {
   "display_name": "Python 3",
   "language": "python",
   "name": "python3"
  },
  "language_info": {
   "codemirror_mode": {
    "name": "ipython",
    "version": 3
   },
   "file_extension": ".py",
   "mimetype": "text/x-python",
   "name": "python",
   "nbconvert_exporter": "python",
   "pygments_lexer": "ipython3",
   "version": "3.6.5"
  }
 },
 "nbformat": 4,
 "nbformat_minor": 2
}
