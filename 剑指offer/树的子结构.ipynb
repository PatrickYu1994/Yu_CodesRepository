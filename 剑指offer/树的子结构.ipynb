{
 "cells": [
  {
   "cell_type": "code",
   "execution_count": 3,
   "metadata": {},
   "outputs": [],
   "source": [
    "# -*- coding:utf-8 -*-\n",
    "# class TreeNode:\n",
    "#     def __init__(self, x):\n",
    "#         self.val = x\n",
    "#         self.left = None\n",
    "#         self.right = None\n",
    "class Solution:\n",
    "    def HasSubtree(self, pRoot1, pRoot2):\n",
    "        # write code here\n",
    "        if pRoot2 is None:\n",
    "            return False\n",
    "        # 首先遍历树 pRoot1\n",
    "        # 之后根据每个树的结点判断是不是子树 -> self.isSubTree\n",
    "        if pRoot1 is None:\n",
    "            return False\n",
    "        if self.isSubTree(pRoot1, pRoot2):\n",
    "            return True\n",
    "        return self.HasSubtree(pRoot1.left, pRoot2) or self.HasSubtree(pRoot1.right, pRoot2)\n",
    "        \n",
    "    def isSubTree(self, pRoot1, pRoot2):\n",
    "        if pRoot2 is None:\n",
    "            return True\n",
    "        if pRoot1 is None:\n",
    "            return False\n",
    "        if pRoot1.val == pRoot2.val:\n",
    "            return self.isSubTree(pRoot1.left, pRoot2.left) and self.isSubTree(pRoot1.right, pRoot2.right)\n",
    "        return False"
   ]
  },
  {
   "cell_type": "code",
   "execution_count": null,
   "metadata": {},
   "outputs": [],
   "source": []
  }
 ],
 "metadata": {
  "kernelspec": {
   "display_name": "Python 3",
   "language": "python",
   "name": "python3"
  },
  "language_info": {
   "codemirror_mode": {
    "name": "ipython",
    "version": 3
   },
   "file_extension": ".py",
   "mimetype": "text/x-python",
   "name": "python",
   "nbconvert_exporter": "python",
   "pygments_lexer": "ipython3",
   "version": "3.6.5"
  }
 },
 "nbformat": 4,
 "nbformat_minor": 2
}
