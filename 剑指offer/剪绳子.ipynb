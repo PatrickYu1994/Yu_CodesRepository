{
 "cells": [
  {
   "cell_type": "code",
   "execution_count": 26,
   "metadata": {},
   "outputs": [],
   "source": [
    "# -*- coding:utf-8 -*-\n",
    "class Solution:\n",
    "    def cutRope(self, number):\n",
    "        # write code here\n",
    "        if number <= 1:\n",
    "            return 0\n",
    "        if number <= 2:\n",
    "            return 1\n",
    "        if number <= 3:\n",
    "            return 2\n",
    "        # 2 <= number <= 60\n",
    "        # arr -> 每一个长度对应的最大的乘积\n",
    "        arr = [0]*(number+1)\n",
    "        arr[1] = 1\n",
    "        arr[2] = 2\n",
    "        if number > 2:\n",
    "            arr[3] = 3\n",
    "        for i in range(4, number+1):\n",
    "            temp = []\n",
    "            for j in range(1,i//2+1):\n",
    "                temp.append(arr[i-j]*arr[j])\n",
    "            arr[i] = max(temp)\n",
    "        return arr[-1]"
   ]
  },
  {
   "cell_type": "code",
   "execution_count": 27,
   "metadata": {},
   "outputs": [
    {
     "data": {
      "text/plain": [
       "1"
      ]
     },
     "execution_count": 27,
     "metadata": {},
     "output_type": "execute_result"
    }
   ],
   "source": [
    "s = Solution()\n",
    "s.cutRope(2)"
   ]
  },
  {
   "cell_type": "code",
   "execution_count": null,
   "metadata": {},
   "outputs": [],
   "source": []
  }
 ],
 "metadata": {
  "kernelspec": {
   "display_name": "Python 3",
   "language": "python",
   "name": "python3"
  },
  "language_info": {
   "codemirror_mode": {
    "name": "ipython",
    "version": 3
   },
   "file_extension": ".py",
   "mimetype": "text/x-python",
   "name": "python",
   "nbconvert_exporter": "python",
   "pygments_lexer": "ipython3",
   "version": "3.6.5"
  }
 },
 "nbformat": 4,
 "nbformat_minor": 2
}
