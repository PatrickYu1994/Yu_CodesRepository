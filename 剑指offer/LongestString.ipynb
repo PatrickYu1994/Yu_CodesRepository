{
 "cells": [
  {
   "cell_type": "code",
   "execution_count": 2,
   "metadata": {},
   "outputs": [],
   "source": [
    "def longestStr(str):\n",
    "    s = list(str)\n",
    "    if not s:\n",
    "        return []\n",
    "    \n",
    "    res = []\n",
    "    res_len = 0\n",
    "    \n",
    "    temp_s = \"\"\n",
    "    for i in s:\n",
    "        if i in temp_s:\n",
    "            while i in temp_s: #当 i 还在temp_s中时\n",
    "                temp_s = temp_s[1:] # pop 第一个元素，直到没重复\n",
    "                \n",
    "        temp_s += i\n",
    "        \n",
    "        if len(temp_s) > res_len:\n",
    "            res = [temp_s]\n",
    "            res_len = len(temp_s)\n",
    "        elif len(temp_s) == res_len:\n",
    "            res.append(temp_s)\n",
    "            \n",
    "    return res"
   ]
  },
  {
   "cell_type": "code",
   "execution_count": null,
   "metadata": {},
   "outputs": [],
   "source": []
  }
 ],
 "metadata": {
  "kernelspec": {
   "display_name": "Python 3",
   "language": "python",
   "name": "python3"
  },
  "language_info": {
   "codemirror_mode": {
    "name": "ipython",
    "version": 3
   },
   "file_extension": ".py",
   "mimetype": "text/x-python",
   "name": "python",
   "nbconvert_exporter": "python",
   "pygments_lexer": "ipython3",
   "version": "3.6.5"
  }
 },
 "nbformat": 4,
 "nbformat_minor": 2
}
