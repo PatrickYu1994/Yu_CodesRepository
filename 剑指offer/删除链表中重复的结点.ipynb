{
 "cells": [
  {
   "cell_type": "code",
   "execution_count": 70,
   "metadata": {},
   "outputs": [],
   "source": [
    "class ListNode:\n",
    "    def __init__(self, x):\n",
    "        self.val = x\n",
    "        self.next = None\n",
    "class Solution:\n",
    "    def deleteDuplication(self, pHead):\n",
    "        # write code here\n",
    "        first = ListNode(-1)\n",
    "        first.next = pHead\n",
    "        pre = first\n",
    "        curr = pHead\n",
    "        \n",
    "        while curr and curr.next:\n",
    "            if curr.next.val != curr.val:\n",
    "                curr = curr.next\n",
    "                pre = pre.next\n",
    "            else:\n",
    "                val = curr.val\n",
    "                while curr and curr.val == val:\n",
    "                    curr = curr.next\n",
    "                pre.next = curr\n",
    "\n",
    "        return first.next"
   ]
  },
  {
   "cell_type": "code",
   "execution_count": 71,
   "metadata": {},
   "outputs": [],
   "source": [
    "pHead = ListNode(1)\n",
    "start = pHead\n",
    "for i in [2,3,3,4,4,5]:\n",
    "    pHead.next = ListNode(i)\n",
    "    pHead = pHead.next"
   ]
  },
  {
   "cell_type": "code",
   "execution_count": 72,
   "metadata": {},
   "outputs": [
    {
     "name": "stdout",
     "output_type": "stream",
     "text": [
      "1\n",
      "2\n",
      "5\n"
     ]
    }
   ],
   "source": [
    "s = Solution()\n",
    "ss = s.deleteDuplication(start)\n",
    "while ss is not None:\n",
    "    print(ss.val)\n",
    "    ss = ss.next"
   ]
  },
  {
   "cell_type": "code",
   "execution_count": null,
   "metadata": {},
   "outputs": [],
   "source": []
  }
 ],
 "metadata": {
  "kernelspec": {
   "display_name": "Python 3",
   "language": "python",
   "name": "python3"
  },
  "language_info": {
   "codemirror_mode": {
    "name": "ipython",
    "version": 3
   },
   "file_extension": ".py",
   "mimetype": "text/x-python",
   "name": "python",
   "nbconvert_exporter": "python",
   "pygments_lexer": "ipython3",
   "version": "3.6.5"
  }
 },
 "nbformat": 4,
 "nbformat_minor": 2
}
