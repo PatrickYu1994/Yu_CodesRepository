{
 "cells": [
  {
   "cell_type": "code",
   "execution_count": null,
   "metadata": {},
   "outputs": [],
   "source": [
    "# -*- coding:utf-8 -*-\n",
    "# class ListNode:\n",
    "#     def __init__(self, x):\n",
    "#         self.val = x\n",
    "#         self.next = None\n",
    "class Solution:\n",
    "    def FindFirstCommonNode(self, pHead1, pHead2):\n",
    "        # write code here\n",
    "        if not pHead1 or not pHead2:\n",
    "            return None\n",
    "        arr1 = []\n",
    "        arr2 = []\n",
    "        while pHead1:\n",
    "            arr1.append(pHead1)\n",
    "            pHead1 = pHead1.next\n",
    "        while pHead2:\n",
    "            arr2.append(pHead2)\n",
    "            pHead2 = pHead2.next\n",
    "        for i in arr1:\n",
    "            if i in arr2:\n",
    "                return i\n",
    "        return None"
   ]
  }
 ],
 "metadata": {
  "kernelspec": {
   "display_name": "Python 3",
   "language": "python",
   "name": "python3"
  },
  "language_info": {
   "codemirror_mode": {
    "name": "ipython",
    "version": 3
   },
   "file_extension": ".py",
   "mimetype": "text/x-python",
   "name": "python",
   "nbconvert_exporter": "python",
   "pygments_lexer": "ipython3",
   "version": "3.6.5"
  }
 },
 "nbformat": 4,
 "nbformat_minor": 2
}
