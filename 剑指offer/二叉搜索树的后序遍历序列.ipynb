{
 "cells": [
  {
   "cell_type": "code",
   "execution_count": 38,
   "metadata": {},
   "outputs": [],
   "source": [
    "# -*- coding:utf-8 -*-\n",
    "class Solution:\n",
    "    def VerifySquenceOfBST(self, sequence):\n",
    "        # write code here\n",
    "        if not sequence:\n",
    "            return False\n",
    "        if len(sequence) <= 1:\n",
    "            return True\n",
    "        root = sequence.pop()\n",
    "        ind = self.help(sequence, root)\n",
    "        left, right = sequence[:ind], sequence[ind:]\n",
    "        #print(\"left:\", left, \" right:\", right, \" root:\", sequence[-1], \"ind:\", ind)\n",
    "        if (left and max(left) > root) or (right and min(right) < root):\n",
    "            return False\n",
    "        if left and right:\n",
    "            return self.VerifySquenceOfBST(left) and self.VerifySquenceOfBST(right)\n",
    "        if left:\n",
    "            return self.VerifySquenceOfBST(left)\n",
    "        if right:\n",
    "            return self.VerifySquenceOfBST(right)\n",
    "        \n",
    "    def help(self, s, root):\n",
    "        for i in range(len(s)):\n",
    "            if s[i] > root:\n",
    "                return i\n",
    "        return len(s)\n",
    "        "
   ]
  },
  {
   "cell_type": "code",
   "execution_count": 39,
   "metadata": {},
   "outputs": [
    {
     "data": {
      "text/plain": [
       "True"
      ]
     },
     "execution_count": 39,
     "metadata": {},
     "output_type": "execute_result"
    }
   ],
   "source": [
    "s = Solution()\n",
    "s.VerifySquenceOfBST([4,6,7,5])"
   ]
  },
  {
   "cell_type": "code",
   "execution_count": null,
   "metadata": {},
   "outputs": [],
   "source": []
  }
 ],
 "metadata": {
  "kernelspec": {
   "display_name": "Python 3",
   "language": "python",
   "name": "python3"
  },
  "language_info": {
   "codemirror_mode": {
    "name": "ipython",
    "version": 3
   },
   "file_extension": ".py",
   "mimetype": "text/x-python",
   "name": "python",
   "nbconvert_exporter": "python",
   "pygments_lexer": "ipython3",
   "version": "3.6.5"
  }
 },
 "nbformat": 4,
 "nbformat_minor": 2
}
