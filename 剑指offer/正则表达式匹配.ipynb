{
 "cells": [
  {
   "cell_type": "code",
   "execution_count": 43,
   "metadata": {},
   "outputs": [],
   "source": [
    "# -*- coding:utf-8 -*-\n",
    "class Solution:\n",
    "    # s, pattern都是字符串\n",
    "    def match(self, s, pattern):\n",
    "        # write code here\n",
    "        if len(s) == 0 and len(pattern) == 0:\n",
    "            return True\n",
    "        elif len(s) != 0 and len(pattern) == 0:\n",
    "            return False\n",
    "        elif len(s) == 0 and len(pattern) != 0:\n",
    "            if len(pattern) > 1 and pattern[1] == \"*\":\n",
    "                return self.match(s, pattern[2:])\n",
    "            return False\n",
    "        else:\n",
    "            if len(pattern) > 1 and pattern[1] == \"*\":\n",
    "                if s[0] != pattern[0] and pattern[0] != \".\":\n",
    "                    return self.match(s, pattern[2:])\n",
    "                return self.match(s, pattern[2:]) or self.match(s[1:], pattern[2:]) or self.match(s[1:], pattern)\n",
    "            else:\n",
    "                if s[0] == pattern[0] or pattern[0] == '.':\n",
    "                    return self.match(s[1:], pattern[1:])\n",
    "                else:\n",
    "                    return False"
   ]
  },
  {
   "cell_type": "code",
   "execution_count": 44,
   "metadata": {},
   "outputs": [
    {
     "data": {
      "text/plain": [
       "True"
      ]
     },
     "execution_count": 44,
     "metadata": {},
     "output_type": "execute_result"
    }
   ],
   "source": [
    "s = Solution()\n",
    "s.match(\"ab\",\".*\")"
   ]
  },
  {
   "cell_type": "code",
   "execution_count": null,
   "metadata": {},
   "outputs": [],
   "source": []
  }
 ],
 "metadata": {
  "kernelspec": {
   "display_name": "Python 3",
   "language": "python",
   "name": "python3"
  },
  "language_info": {
   "codemirror_mode": {
    "name": "ipython",
    "version": 3
   },
   "file_extension": ".py",
   "mimetype": "text/x-python",
   "name": "python",
   "nbconvert_exporter": "python",
   "pygments_lexer": "ipython3",
   "version": "3.6.5"
  }
 },
 "nbformat": 4,
 "nbformat_minor": 2
}
