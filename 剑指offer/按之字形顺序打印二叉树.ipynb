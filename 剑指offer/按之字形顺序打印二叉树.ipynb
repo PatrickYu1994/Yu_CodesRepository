{
 "cells": [
  {
   "cell_type": "code",
   "execution_count": 42,
   "metadata": {},
   "outputs": [],
   "source": [
    "# -*- coding:utf-8 -*-\n",
    "class TreeNode:\n",
    "    def __init__(self, x):\n",
    "        self.val = x\n",
    "        self.left = None\n",
    "        self.right = None\n",
    "class Solution:\n",
    "    def Print(self, pRoot):\n",
    "        # write code here\n",
    "        if not pRoot:\n",
    "            return []\n",
    "        stack = []\n",
    "        stack.append(pRoot)\n",
    "        flag = True\n",
    "        res = []\n",
    "        while stack:\n",
    "            # if flag == True, left to right\n",
    "            temp = []\n",
    "            while stack:\n",
    "                temp.append(stack.pop())\n",
    "            #print([i.val for i in temp])\n",
    "            res.append([i.val for i in temp])\n",
    "            if flag:\n",
    "                for i in reversed(temp):\n",
    "                    # store as right to left\n",
    "                    if i.right:\n",
    "                        stack.insert(0, i.right)\n",
    "                    if i.left:\n",
    "                        stack.insert(0, i.left)\n",
    "                flag = (not flag)\n",
    "\n",
    "            # if flag == False, right to left\n",
    "            else:\n",
    "                for i in reversed(temp):\n",
    "                    # store as left to right\n",
    "                    if i.left:\n",
    "                        stack.insert(0, i.left)\n",
    "                    if i.right:\n",
    "                        stack.insert(0, i.right)\n",
    "                flag = (not flag)\n",
    "            print([i.val for i in stack])\n",
    "        return res"
   ]
  },
  {
   "cell_type": "code",
   "execution_count": 43,
   "metadata": {},
   "outputs": [
    {
     "name": "stdout",
     "output_type": "stream",
     "text": [
      "[3, 2]\n",
      "[7, 6, 5, 4]\n",
      "[11, 10, 9, 8]\n",
      "[]\n"
     ]
    },
    {
     "data": {
      "text/plain": [
       "[[1], [2, 3], [4, 5, 6, 7], [8, 9, 10, 11]]"
      ]
     },
     "execution_count": 43,
     "metadata": {},
     "output_type": "execute_result"
    }
   ],
   "source": [
    "pRoot = TreeNode(1)\n",
    "pRoot.right = TreeNode(2)\n",
    "pRoot.left = TreeNode(3)\n",
    "pRoot.left.left = TreeNode(4)\n",
    "pRoot.left.right = TreeNode(5)\n",
    "pRoot.right.left = TreeNode(6)\n",
    "pRoot.right.right = TreeNode(7)\n",
    "\n",
    "\n",
    "pRoot.right.right.right = TreeNode(8)\n",
    "pRoot.right.right.left = TreeNode(9)\n",
    "pRoot.right.left.right = TreeNode(10)\n",
    "pRoot.right.left.left = TreeNode(11)\n",
    "\n",
    "\n",
    "\n",
    "s = Solution()\n",
    "s.Print(pRoot)"
   ]
  },
  {
   "cell_type": "code",
   "execution_count": null,
   "metadata": {},
   "outputs": [],
   "source": []
  }
 ],
 "metadata": {
  "kernelspec": {
   "display_name": "Python 3",
   "language": "python",
   "name": "python3"
  },
  "language_info": {
   "codemirror_mode": {
    "name": "ipython",
    "version": 3
   },
   "file_extension": ".py",
   "mimetype": "text/x-python",
   "name": "python",
   "nbconvert_exporter": "python",
   "pygments_lexer": "ipython3",
   "version": "3.6.5"
  }
 },
 "nbformat": 4,
 "nbformat_minor": 2
}
