{
 "cells": [
  {
   "cell_type": "code",
   "execution_count": 7,
   "metadata": {},
   "outputs": [],
   "source": [
    "# -*- coding:utf-8 -*-\n",
    "class Solution:\n",
    "    # 返回对应char\n",
    "    def __init__(self):\n",
    "        self.stack = {}\n",
    "        self.arr = []\n",
    "    \n",
    "    def FirstAppearingOnce(self):\n",
    "        # write code here\n",
    "        if self.stack is None:\n",
    "            return \"#\"\n",
    "        else:\n",
    "            for i in self.arr:\n",
    "                if self.stack[i] == 1:\n",
    "                    return i\n",
    "        return \"#\"\n",
    "        \n",
    "    def Insert(self, char):\n",
    "        # write code here\n",
    "        self.arr.append(char)\n",
    "        if char in self.stack.keys():\n",
    "            self.stack[char]+=1\n",
    "        else:\n",
    "            self.stack[char]=1"
   ]
  },
  {
   "cell_type": "code",
   "execution_count": 8,
   "metadata": {},
   "outputs": [
    {
     "data": {
      "text/plain": [
       "'#'"
      ]
     },
     "execution_count": 8,
     "metadata": {},
     "output_type": "execute_result"
    }
   ],
   "source": [
    "s = Solution()\n",
    "for i in \"goog\":\n",
    "    s.Insert(i)\n",
    "s.FirstAppearingOnce()"
   ]
  },
  {
   "cell_type": "code",
   "execution_count": null,
   "metadata": {},
   "outputs": [],
   "source": []
  }
 ],
 "metadata": {
  "kernelspec": {
   "display_name": "Python 3",
   "language": "python",
   "name": "python3"
  },
  "language_info": {
   "codemirror_mode": {
    "name": "ipython",
    "version": 3
   },
   "file_extension": ".py",
   "mimetype": "text/x-python",
   "name": "python",
   "nbconvert_exporter": "python",
   "pygments_lexer": "ipython3",
   "version": "3.6.5"
  }
 },
 "nbformat": 4,
 "nbformat_minor": 2
}
