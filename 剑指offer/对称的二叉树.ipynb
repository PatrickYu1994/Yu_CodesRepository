{
 "cells": [
  {
   "cell_type": "code",
   "execution_count": 13,
   "metadata": {},
   "outputs": [],
   "source": [
    "# -*- coding:utf-8 -*-\n",
    "class TreeNode:\n",
    "    def __init__(self, x):\n",
    "        self.val = x\n",
    "        self.left = None\n",
    "        self.right = None\n",
    "class Solution:\n",
    "    def isSymmetrical(self, pRoot):\n",
    "        if not pRoot:\n",
    "            return True\n",
    "        # write code here\n",
    "        return self.compare(pRoot.left, pRoot.right)\n",
    "        \n",
    "        \n",
    "    def compare(self, left, right):\n",
    "        if not left and not right:\n",
    "            return True\n",
    "        if not left or not right:\n",
    "            return False\n",
    "        if left.val == right.val:\n",
    "            return self.compare(left.left, right.right) and self.compare(right.left, left.right)\n",
    "        return False\n",
    "        \n",
    "        \n",
    "        \"\"\"\n",
    "        if pRoot.left and pRoot.right:\n",
    "            if pRoot.left.val == pRoot.right.val:\n",
    "                return self.isSymmetrical(pRoot.left) and self.isSymmetrical(pRoot.right)\n",
    "            return False\n",
    "        elif pRoot.left or pRoot.right:\n",
    "            return False\n",
    "        return True\n",
    "        \"\"\""
   ]
  },
  {
   "cell_type": "code",
   "execution_count": 14,
   "metadata": {},
   "outputs": [
    {
     "data": {
      "text/plain": [
       "True"
      ]
     },
     "execution_count": 14,
     "metadata": {},
     "output_type": "execute_result"
    }
   ],
   "source": [
    "pRoot = TreeNode(1)\n",
    "pRoot.right = TreeNode(2)\n",
    "pRoot.left = TreeNode(2)\n",
    "\n",
    "s = Solution()\n",
    "s.isSymmetrical(pRoot)"
   ]
  },
  {
   "cell_type": "code",
   "execution_count": null,
   "metadata": {},
   "outputs": [],
   "source": []
  },
  {
   "cell_type": "code",
   "execution_count": null,
   "metadata": {},
   "outputs": [],
   "source": []
  }
 ],
 "metadata": {
  "kernelspec": {
   "display_name": "Python 3",
   "language": "python",
   "name": "python3"
  },
  "language_info": {
   "codemirror_mode": {
    "name": "ipython",
    "version": 3
   },
   "file_extension": ".py",
   "mimetype": "text/x-python",
   "name": "python",
   "nbconvert_exporter": "python",
   "pygments_lexer": "ipython3",
   "version": "3.6.5"
  }
 },
 "nbformat": 4,
 "nbformat_minor": 2
}
