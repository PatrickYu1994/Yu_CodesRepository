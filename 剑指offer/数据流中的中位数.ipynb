{
 "cells": [
  {
   "cell_type": "code",
   "execution_count": 16,
   "metadata": {},
   "outputs": [],
   "source": [
    "# -*- coding:utf-8 -*-\n",
    "class Solution:\n",
    "    def __init__(self):\n",
    "        self.arr = []\n",
    "    \n",
    "    def Insert(self, num):\n",
    "        # write code here\n",
    "        self.arr.append(num)\n",
    "        \n",
    "    def GetMedian(self, fuck):\n",
    "        # write code here\n",
    "        self.arr = sorted(self.arr)\n",
    "        if len(self.arr) % 2 == 0: # even number\n",
    "            return (self.arr[len(self.arr) // 2 - 1] + self.arr[len(self.arr) // 2]) / 2\n",
    "        return self.arr[len(self.arr) // 2]"
   ]
  },
  {
   "cell_type": "code",
   "execution_count": null,
   "metadata": {},
   "outputs": [],
   "source": []
  }
 ],
 "metadata": {
  "kernelspec": {
   "display_name": "Python 3",
   "language": "python",
   "name": "python3"
  },
  "language_info": {
   "codemirror_mode": {
    "name": "ipython",
    "version": 3
   },
   "file_extension": ".py",
   "mimetype": "text/x-python",
   "name": "python",
   "nbconvert_exporter": "python",
   "pygments_lexer": "ipython3",
   "version": "3.6.5"
  }
 },
 "nbformat": 4,
 "nbformat_minor": 2
}
