{
 "cells": [
  {
   "cell_type": "code",
   "execution_count": 1,
   "metadata": {},
   "outputs": [],
   "source": [
    "# -*- coding:utf-8 -*-\n",
    "# class ListNode:\n",
    "#     def __init__(self, x):\n",
    "#         self.val = x\n",
    "#         self.next = None\n",
    "class Solution:\n",
    "    # 返回合并后列表\n",
    "    def Merge(self, pHead1, pHead2):\n",
    "        # write code here\n",
    "        start = None\n",
    "        if pHead1 is None:\n",
    "            return pHead2\n",
    "        elif pHead2 is None:\n",
    "            return pHead1\n",
    "        elif pHead1.val < pHead2.val:\n",
    "            start = pHead1\n",
    "            pHead1 = pHead1.next\n",
    "            start.next = self.Merge(pHead1, pHead2)\n",
    "            \n",
    "        else:\n",
    "            start = pHead2\n",
    "            pHead2 = pHead2.next\n",
    "            start.next = self.Merge(pHead1, pHead2)\n",
    "        return start\n",
    "        "
   ]
  },
  {
   "cell_type": "code",
   "execution_count": null,
   "metadata": {},
   "outputs": [],
   "source": []
  }
 ],
 "metadata": {
  "kernelspec": {
   "display_name": "Python 3",
   "language": "python",
   "name": "python3"
  },
  "language_info": {
   "codemirror_mode": {
    "name": "ipython",
    "version": 3
   },
   "file_extension": ".py",
   "mimetype": "text/x-python",
   "name": "python",
   "nbconvert_exporter": "python",
   "pygments_lexer": "ipython3",
   "version": "3.6.5"
  }
 },
 "nbformat": 4,
 "nbformat_minor": 2
}
