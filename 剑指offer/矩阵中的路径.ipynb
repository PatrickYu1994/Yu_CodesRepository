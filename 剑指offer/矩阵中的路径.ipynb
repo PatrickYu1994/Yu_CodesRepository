{
 "cells": [
  {
   "cell_type": "code",
   "execution_count": 108,
   "metadata": {},
   "outputs": [],
   "source": [
    "# -*- coding:utf-8 -*-\n",
    "class Solution:\n",
    "    def hasPath(self, matrix, rows, cols, path):\n",
    "        # write code here\n",
    "        if not matrix:\n",
    "            return False\n",
    "        path = list(path)\n",
    "        temp = []\n",
    "        temp_path = []\n",
    "        for i in range(rows):\n",
    "            temp.append(matrix[i*cols:(i+1)*cols])\n",
    "            temp_path.append([0]*cols)\n",
    "        for i in range(len(temp)): # row\n",
    "            for j in range(len(temp[i])): # col\n",
    "                if temp[i][j] == path[0]:\n",
    "                    for tt in range(rows):\n",
    "                        temp_path[tt] = [0]*cols\n",
    "                    if self.helper(temp[:], temp_path[:], path[1:], i, j):\n",
    "                        return True\n",
    "        return False\n",
    "    \n",
    "    def helper(self, temp, temp_path, path, i, j):\n",
    "        if not path:\n",
    "            return True\n",
    "        temp_path[i][j] = 1\n",
    "        char = path[0]\n",
    "        b1 = False\n",
    "        b2 = False\n",
    "        b3 = False\n",
    "        b4 = False\n",
    "        # up\n",
    "        #print(\"i:\", i, \"j:\", j, \"temp:\", temp, \"char:\", char, \"temp_path\", temp_path)\n",
    "        if i > 0 and temp[i-1][j] == char and temp_path[i-1][j] == 0:\n",
    "            temp_path[i-1][j] = 1\n",
    "            #print(\"上，当前：\",temp_path)\n",
    "            b1 = self.helper(temp[:][:], temp_path[:][:], path[1:], i-1, j)\n",
    "        #down\n",
    "        if i < len(temp) - 1 and temp[i+1][j] == char and temp_path[i+1][j] == 0:\n",
    "            temp_path[i+1][j] = 1\n",
    "            #print(\"下，当前：\",temp_path)\n",
    "            b2 = self.helper(temp[:][:], temp_path[:][:], path[1:], i+1, j)\n",
    "        #left\n",
    "        if j > 0 and temp[i][j-1] == char and temp_path[i][j-1] == 0:\n",
    "            temp_path[i][j-1] = 1\n",
    "            #print(\"左，当前：\",temp_path)\n",
    "            b3 = self.helper(temp[:][:], temp_path[:][:], path[1:], i, j-1)\n",
    "        #right\n",
    "        if j < len(temp[i]) - 1 and temp[i][j+1] == char and temp_path[i][j+1] == 0:\n",
    "            temp_path[i][j+1] = 1\n",
    "            #print(\"右，当前：\",temp_path)\n",
    "            b4 = self.helper(temp[:][:], temp_path[:][:], path[1:], i, j+1)\n",
    "        return b1 or b2 or b3 or b4"
   ]
  },
  {
   "cell_type": "code",
   "execution_count": 109,
   "metadata": {},
   "outputs": [
    {
     "data": {
      "text/plain": [
       "True"
      ]
     },
     "execution_count": 109,
     "metadata": {},
     "output_type": "execute_result"
    }
   ],
   "source": [
    "s = Solution()\n",
    "s.hasPath(\"ABCESFCSADEE\",3,4,\"ABCCED\")"
   ]
  }
 ],
 "metadata": {
  "kernelspec": {
   "display_name": "Python 3",
   "language": "python",
   "name": "python3"
  },
  "language_info": {
   "codemirror_mode": {
    "name": "ipython",
    "version": 3
   },
   "file_extension": ".py",
   "mimetype": "text/x-python",
   "name": "python",
   "nbconvert_exporter": "python",
   "pygments_lexer": "ipython3",
   "version": "3.6.5"
  }
 },
 "nbformat": 4,
 "nbformat_minor": 2
}
