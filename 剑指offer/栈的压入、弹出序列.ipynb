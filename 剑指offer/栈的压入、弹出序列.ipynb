{
 "cells": [
  {
   "cell_type": "code",
   "execution_count": 36,
   "metadata": {},
   "outputs": [],
   "source": [
    "# -*- coding:utf-8 -*-\n",
    "class Solution:\n",
    "    def IsPopOrder(self, pushV, popV):\n",
    "        # write code here\n",
    "        stack = []\n",
    "        while popV:\n",
    "            if (not pushV) and stack[-1] != popV[0]:\n",
    "                return False\n",
    "            if pushV and pushV[0] == popV[0]:\n",
    "                pushV.pop(0)\n",
    "                popV.pop(0)\n",
    "                \n",
    "                continue\n",
    "            if stack and stack[-1] == popV[0]:\n",
    "                stack.pop()\n",
    "                popV.pop(0)\n",
    "                continue\n",
    "            stack.append(pushV.pop(0))\n",
    "            #print(\"pushV:\", pushV, \" popV:\", popV, \" stack:\", stack)\n",
    "        return True"
   ]
  },
  {
   "cell_type": "code",
   "execution_count": 37,
   "metadata": {},
   "outputs": [
    {
     "data": {
      "text/plain": [
       "True"
      ]
     },
     "execution_count": 37,
     "metadata": {},
     "output_type": "execute_result"
    }
   ],
   "source": [
    "s = Solution()\n",
    "s.IsPopOrder([1,2,3,4,5], [4,5,3,2,1])"
   ]
  },
  {
   "cell_type": "code",
   "execution_count": null,
   "metadata": {},
   "outputs": [],
   "source": []
  }
 ],
 "metadata": {
  "kernelspec": {
   "display_name": "Python 3",
   "language": "python",
   "name": "python3"
  },
  "language_info": {
   "codemirror_mode": {
    "name": "ipython",
    "version": 3
   },
   "file_extension": ".py",
   "mimetype": "text/x-python",
   "name": "python",
   "nbconvert_exporter": "python",
   "pygments_lexer": "ipython3",
   "version": "3.6.5"
  }
 },
 "nbformat": 4,
 "nbformat_minor": 2
}
