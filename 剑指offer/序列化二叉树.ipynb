{
 "cells": [
  {
   "cell_type": "code",
   "execution_count": 2,
   "metadata": {},
   "outputs": [],
   "source": [
    "# -*- coding:utf-8 -*-\n",
    "# class TreeNode:\n",
    "#     def __init__(self, x):\n",
    "#         self.val = x\n",
    "#         self.left = None\n",
    "#         self.right = None\n",
    "class Solution:\n",
    "    def __init__(self):\n",
    "        self.res = []\n",
    "        \n",
    "    def Serialize(self, root):\n",
    "        # write code here\n",
    "        #先序 -> 根, 左, 右\n",
    "        self.dfs(root)\n",
    "        return \" \".join(self.res)\n",
    "        \n",
    "    def dfs(self, root):\n",
    "        if not root:\n",
    "            self.res.append(\"#\")\n",
    "        else:\n",
    "            self.res.append(str(root.val))\n",
    "            self.dfs(root.left)\n",
    "            self.dfs(root.right)\n",
    "        \n",
    "    def Deserialize(self, s):\n",
    "        # write code here\n",
    "        vals = s.split()\n",
    "        def build():\n",
    "            if vals:\n",
    "                val = vals.pop(0)\n",
    "                if val == \"#\":\n",
    "                    return None\n",
    "                root = TreeNode(int(val))\n",
    "                root.left = build()\n",
    "                root.right = build()\n",
    "                return root\n",
    "        return build()"
   ]
  },
  {
   "cell_type": "code",
   "execution_count": null,
   "metadata": {},
   "outputs": [],
   "source": []
  }
 ],
 "metadata": {
  "kernelspec": {
   "display_name": "Python 3",
   "language": "python",
   "name": "python3"
  },
  "language_info": {
   "codemirror_mode": {
    "name": "ipython",
    "version": 3
   },
   "file_extension": ".py",
   "mimetype": "text/x-python",
   "name": "python",
   "nbconvert_exporter": "python",
   "pygments_lexer": "ipython3",
   "version": "3.6.5"
  }
 },
 "nbformat": 4,
 "nbformat_minor": 2
}
