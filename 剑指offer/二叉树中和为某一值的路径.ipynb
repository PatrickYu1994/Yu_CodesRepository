{
 "cells": [
  {
   "cell_type": "code",
   "execution_count": 1,
   "metadata": {},
   "outputs": [],
   "source": [
    "# -*- coding:utf-8 -*-\n",
    "class TreeNode:\n",
    "    def __init__(self, x):\n",
    "        self.val = x\n",
    "        self.left = None\n",
    "        self.right = None\n",
    "        \n",
    "class Solution:\n",
    "    # 返回二维列表，内部每个列表表示找到的路径\n",
    "    def __init__(self):\n",
    "        self.res = []\n",
    "        \n",
    "    def FindPath(self, root, expectNumber):\n",
    "        # write code here\n",
    "        if not root:\n",
    "            return []\n",
    "        self.help(root, expectNumber, [])\n",
    "        return sorted(self.res, key=len, reverse=True)\n",
    "        \n",
    "    def help(self, root, expectNumber, arr):\n",
    "        arr.append(root.val)\n",
    "        if expectNumber == root.val and not root.left and not root.right:\n",
    "            self.res.append(arr)\n",
    "        elif expectNumber > root.val:\n",
    "            if root.left:\n",
    "                self.help(root.left, expectNumber-root.val, arr[:])\n",
    "            if root.right:\n",
    "                self.help(root.right, expectNumber-root.val, arr[:])"
   ]
  },
  {
   "cell_type": "code",
   "execution_count": 34,
   "metadata": {},
   "outputs": [
    {
     "data": {
      "text/plain": [
       "[[10, 5, 7], [10, 12]]"
      ]
     },
     "execution_count": 34,
     "metadata": {},
     "output_type": "execute_result"
    }
   ],
   "source": [
    "root = TreeNode(10)\n",
    "root.left = TreeNode(5)\n",
    "root.right = TreeNode(12)\n",
    "root.left.left = TreeNode(4)\n",
    "root.left.right = TreeNode(7)\n",
    "s =Solution()\n",
    "s.FindPath(root, 22)"
   ]
  },
  {
   "cell_type": "code",
   "execution_count": null,
   "metadata": {},
   "outputs": [],
   "source": []
  }
 ],
 "metadata": {
  "kernelspec": {
   "display_name": "Python 3",
   "language": "python",
   "name": "python3"
  },
  "language_info": {
   "codemirror_mode": {
    "name": "ipython",
    "version": 3
   },
   "file_extension": ".py",
   "mimetype": "text/x-python",
   "name": "python",
   "nbconvert_exporter": "python",
   "pygments_lexer": "ipython3",
   "version": "3.6.5"
  }
 },
 "nbformat": 4,
 "nbformat_minor": 2
}
