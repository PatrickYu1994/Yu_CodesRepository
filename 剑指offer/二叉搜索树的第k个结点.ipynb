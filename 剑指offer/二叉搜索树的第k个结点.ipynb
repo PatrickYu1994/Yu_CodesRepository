{
 "cells": [
  {
   "cell_type": "code",
   "execution_count": 2,
   "metadata": {},
   "outputs": [],
   "source": [
    "# -*- coding:utf-8 -*-\n",
    "# class TreeNode:\n",
    "#     def __init__(self, x):\n",
    "#         self.val = x\n",
    "#         self.left = None\n",
    "#         self.right = None\n",
    "class Solution:\n",
    "    def __init__(self):\n",
    "        self.k_nodes = []\n",
    "    \n",
    "    # 返回对应节点TreeNode\n",
    "    def KthNode(self, pRoot, k):\n",
    "        # write code here\n",
    "        self.dfs(pRoot)\n",
    "        if k <= 0 or k > len(self.k_nodes):\n",
    "            return None\n",
    "        return sorted(self.k_nodes)[k-1]\n",
    "        \n",
    "    def dfs(self, root):\n",
    "        if root is None:\n",
    "            return\n",
    "        self.dfs(root.left)\n",
    "        self.k_nodes.append(root.val)\n",
    "        self.dfs(root.right)"
   ]
  },
  {
   "cell_type": "code",
   "execution_count": 3,
   "metadata": {},
   "outputs": [],
   "source": [
    "pRoot = TreeNode(5)\n",
    "pRoot.left = TreeNode(3)\n",
    "pRoot.left.left = TreeNode(2)\n",
    "pRoot.left.right = TreeNode(4)\n",
    "pRoot.right = TreeNode(7)"
   ]
  },
  {
   "cell_type": "code",
   "execution_count": 9,
   "metadata": {},
   "outputs": [
    {
     "data": {
      "text/plain": [
       "7"
      ]
     },
     "execution_count": 9,
     "metadata": {},
     "output_type": "execute_result"
    }
   ],
   "source": [
    "s = Solution()\n",
    "s.KthNode(pRoot, 5)"
   ]
  },
  {
   "cell_type": "code",
   "execution_count": null,
   "metadata": {},
   "outputs": [],
   "source": []
  }
 ],
 "metadata": {
  "kernelspec": {
   "display_name": "Python 3",
   "language": "python",
   "name": "python3"
  },
  "language_info": {
   "codemirror_mode": {
    "name": "ipython",
    "version": 3
   },
   "file_extension": ".py",
   "mimetype": "text/x-python",
   "name": "python",
   "nbconvert_exporter": "python",
   "pygments_lexer": "ipython3",
   "version": "3.6.5"
  }
 },
 "nbformat": 4,
 "nbformat_minor": 2
}
