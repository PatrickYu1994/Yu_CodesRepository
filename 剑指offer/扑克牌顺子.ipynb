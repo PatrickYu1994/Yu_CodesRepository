{
 "cells": [
  {
   "cell_type": "code",
   "execution_count": 15,
   "metadata": {},
   "outputs": [],
   "source": [
    "# -*- coding:utf-8 -*-\n",
    "class Solution:\n",
    "    def IsContinuous(self, numbers):\n",
    "        # write code here\n",
    "        if not numbers:\n",
    "            return False\n",
    "        \n",
    "        #首先确定大小王数量\n",
    "        jokers_num = 0\n",
    "        while numbers.count(0) > 0:\n",
    "            jokers_num += 1\n",
    "            numbers.pop(numbers.index(0))\n",
    "            \n",
    "        #如果剩下的数不能构成顺子\n",
    "        if len(set(numbers)) != len(numbers):\n",
    "            return False\n",
    "        \n",
    "        numbers = sorted(numbers)\n",
    "        \n",
    "        while numbers:\n",
    "            if len(numbers) == 1:\n",
    "                break \n",
    "            pop_num = numbers.pop(0)\n",
    "            jokers_num -= (numbers[0] - pop_num - 1)\n",
    "        \n",
    "        if jokers_num >= 0:\n",
    "            return True\n",
    "        return False"
   ]
  },
  {
   "cell_type": "code",
   "execution_count": 16,
   "metadata": {},
   "outputs": [
    {
     "data": {
      "text/plain": [
       "False"
      ]
     },
     "execution_count": 16,
     "metadata": {},
     "output_type": "execute_result"
    }
   ],
   "source": [
    "s = Solution()\n",
    "s.IsContinuous([0,6,1,3,5])"
   ]
  },
  {
   "cell_type": "code",
   "execution_count": null,
   "metadata": {},
   "outputs": [],
   "source": []
  }
 ],
 "metadata": {
  "kernelspec": {
   "display_name": "Python 3",
   "language": "python",
   "name": "python3"
  },
  "language_info": {
   "codemirror_mode": {
    "name": "ipython",
    "version": 3
   },
   "file_extension": ".py",
   "mimetype": "text/x-python",
   "name": "python",
   "nbconvert_exporter": "python",
   "pygments_lexer": "ipython3",
   "version": "3.6.5"
  }
 },
 "nbformat": 4,
 "nbformat_minor": 2
}
