{
 "cells": [
  {
   "cell_type": "code",
   "execution_count": 3,
   "metadata": {},
   "outputs": [],
   "source": [
    "# -*- coding:utf-8 -*-\n",
    "# class TreeNode:\n",
    "#     def __init__(self, x):\n",
    "#         self.val = x\n",
    "#         self.left = None\n",
    "#         self.right = None\n",
    "class Solution:\n",
    "    # 返回镜像树的根节点\n",
    "    def Mirror(self, root):\n",
    "        # write code \n",
    "        if not root:\n",
    "            return None\n",
    "        root = self.reverseTree(root)\n",
    "        if root.left:\n",
    "            root.left = self.Mirror(root.left)\n",
    "        if root.right:\n",
    "            root.right = self.Mirror(root.right)\n",
    "        return root\n",
    "        \n",
    "    def reverseTree(self, root):\n",
    "        root.right, root.left = root.left, root.right\n",
    "        return root"
   ]
  },
  {
   "cell_type": "code",
   "execution_count": null,
   "metadata": {},
   "outputs": [],
   "source": []
  }
 ],
 "metadata": {
  "kernelspec": {
   "display_name": "Python 3",
   "language": "python",
   "name": "python3"
  },
  "language_info": {
   "codemirror_mode": {
    "name": "ipython",
    "version": 3
   },
   "file_extension": ".py",
   "mimetype": "text/x-python",
   "name": "python",
   "nbconvert_exporter": "python",
   "pygments_lexer": "ipython3",
   "version": "3.6.5"
  }
 },
 "nbformat": 4,
 "nbformat_minor": 2
}
