{
 "cells": [
  {
   "cell_type": "code",
   "execution_count": 3,
   "metadata": {},
   "outputs": [],
   "source": [
    "# -*- coding:utf-8 -*-\n",
    "class TreeNode:\n",
    "    def __init__(self, x):\n",
    "        self.val = x\n",
    "        self.left = None\n",
    "        self.right = None\n",
    "class Solution:\n",
    "    def IsBalanced_Solution(self, pRoot):\n",
    "        # write code here\n",
    "        if not pRoot:\n",
    "            return True\n",
    "        return abs(self.get_depth(pRoot.left, 0) - self.get_depth(pRoot.right, 0)) <= 1\n",
    "    \n",
    "    def get_depth(self, pRoot, depth):\n",
    "        if not pRoot:\n",
    "            return depth\n",
    "        return max(self.get_depth(pRoot.left, depth+1), self.get_depth(pRoot.right, depth+1))"
   ]
  },
  {
   "cell_type": "code",
   "execution_count": 5,
   "metadata": {},
   "outputs": [
    {
     "data": {
      "text/plain": [
       "False"
      ]
     },
     "execution_count": 5,
     "metadata": {},
     "output_type": "execute_result"
    }
   ],
   "source": [
    "s = Solution()\n",
    "root = TreeNode(0)\n",
    "root.left = TreeNode(1)\n",
    "#root.right = TreeNode(2)\n",
    "root.left.right = TreeNode(2)\n",
    "\n",
    "s.IsBalanced_Solution(root)"
   ]
  },
  {
   "cell_type": "code",
   "execution_count": null,
   "metadata": {},
   "outputs": [],
   "source": []
  }
 ],
 "metadata": {
  "kernelspec": {
   "display_name": "Python 3",
   "language": "python",
   "name": "python3"
  },
  "language_info": {
   "codemirror_mode": {
    "name": "ipython",
    "version": 3
   },
   "file_extension": ".py",
   "mimetype": "text/x-python",
   "name": "python",
   "nbconvert_exporter": "python",
   "pygments_lexer": "ipython3",
   "version": "3.6.5"
  }
 },
 "nbformat": 4,
 "nbformat_minor": 2
}
