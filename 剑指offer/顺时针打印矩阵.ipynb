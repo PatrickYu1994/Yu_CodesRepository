{
 "cells": [
  {
   "cell_type": "code",
   "execution_count": 56,
   "metadata": {},
   "outputs": [],
   "source": [
    "# -*- coding:utf-8 -*-\n",
    "class Solution:\n",
    "    # matrix类型为二维列表，需要返回列表\n",
    "    def printMatrix(self, matrix):\n",
    "        # write code here\n",
    "        printed_row = [] # store the row numbers which have been printed\n",
    "        printed_column = [] # store the column numbers which have been printed\n",
    "        row = 0\n",
    "        column = 0\n",
    "        flag = 1 # 1: left to right; 2: top to bottom; 3: right to left; 4: botom to top\n",
    "        res = []\n",
    "        while True:\n",
    "            if flag == 1:\n",
    "                for col in range(len(matrix[row])):\n",
    "                    if col not in printed_column:\n",
    "                        res.append(matrix[row][col])\n",
    "                        column = col\n",
    "                printed_row.append(row)\n",
    "                if row < len(matrix) - 1:\n",
    "                    row += 1 # next row\n",
    "                flag = 2 # change to top to bottom\n",
    "                \n",
    "            elif flag == 2:\n",
    "                for r in range(len(matrix)):\n",
    "                    if r not in printed_row:\n",
    "                        res.append(matrix[r][column])\n",
    "                        row = r\n",
    "                printed_column.append(column)\n",
    "                if column > 0:\n",
    "                    column -= 1\n",
    "                flag = 3\n",
    "                \n",
    "            elif flag == 3:\n",
    "                for col in range(len(matrix[row])-1,-1,-1):\n",
    "                    if col not in printed_column:\n",
    "                        res.append(matrix[row][col])\n",
    "                        column = col\n",
    "                printed_row.append(row)\n",
    "                if row > 0:\n",
    "                    row -= 1 \n",
    "                flag = 4 \n",
    "                \n",
    "            elif flag == 4:\n",
    "                for r in range(len(matrix)-1,-1,-1):\n",
    "                    if r not in printed_row:\n",
    "                        res.append(matrix[r][column])\n",
    "                        row = r\n",
    "                printed_column.append(column)\n",
    "                if column < len(matrix[row]) - 1:\n",
    "                    column += 1\n",
    "                flag = 1\n",
    "            \n",
    "            if row in printed_row and column in printed_column:\n",
    "                break\n",
    "            \n",
    "            if len(printed_column) == len(matrix[0]) or len(printed_row) == len(matrix):\n",
    "                break\n",
    "        return res"
   ]
  },
  {
   "cell_type": "code",
   "execution_count": 57,
   "metadata": {},
   "outputs": [
    {
     "data": {
      "text/plain": [
       "[1, 2, 3, 4, 5]"
      ]
     },
     "execution_count": 57,
     "metadata": {},
     "output_type": "execute_result"
    }
   ],
   "source": [
    "s = Solution()\n",
    "m=[[1], [2], [3], [4], [5]]\n",
    "s.printMatrix(m)"
   ]
  },
  {
   "cell_type": "code",
   "execution_count": null,
   "metadata": {},
   "outputs": [],
   "source": []
  }
 ],
 "metadata": {
  "kernelspec": {
   "display_name": "Python 3",
   "language": "python",
   "name": "python3"
  },
  "language_info": {
   "codemirror_mode": {
    "name": "ipython",
    "version": 3
   },
   "file_extension": ".py",
   "mimetype": "text/x-python",
   "name": "python",
   "nbconvert_exporter": "python",
   "pygments_lexer": "ipython3",
   "version": "3.6.5"
  }
 },
 "nbformat": 4,
 "nbformat_minor": 2
}
