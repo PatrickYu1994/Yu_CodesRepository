{
 "cells": [
  {
   "cell_type": "code",
   "execution_count": 70,
   "metadata": {},
   "outputs": [],
   "source": [
    "# -*- coding:utf-8 -*-\n",
    "class Solution:\n",
    "    def LastRemaining_Solution(self, n, m):\n",
    "        # write code here\n",
    "        count = 0\n",
    "        index = count\n",
    "        children = []\n",
    "        for i in range(n):\n",
    "            children.append(i)\n",
    "        while len(children) > 1: # 直到剩下最后一个\n",
    "            if count == m-1:\n",
    "                children.pop(index)\n",
    "                # 第 m 个孩子成为打头\n",
    "                children = (children[index:]+children[:index])\n",
    "                count = 0\n",
    "                index = 0\n",
    "                continue\n",
    "            count += 1     \n",
    "            index += 1\n",
    "            if index >= len(children):\n",
    "                index = 0\n",
    "        if len(children) > 0:\n",
    "            return children[0]\n",
    "        return -1"
   ]
  },
  {
   "cell_type": "code",
   "execution_count": 71,
   "metadata": {},
   "outputs": [
    {
     "data": {
      "text/plain": [
       "4"
      ]
     },
     "execution_count": 71,
     "metadata": {},
     "output_type": "execute_result"
    }
   ],
   "source": [
    "s = Solution()\n",
    "s.LastRemaining_Solution(6,7)"
   ]
  },
  {
   "cell_type": "code",
   "execution_count": null,
   "metadata": {},
   "outputs": [],
   "source": []
  }
 ],
 "metadata": {
  "kernelspec": {
   "display_name": "Python 3",
   "language": "python",
   "name": "python3"
  },
  "language_info": {
   "codemirror_mode": {
    "name": "ipython",
    "version": 3
   },
   "file_extension": ".py",
   "mimetype": "text/x-python",
   "name": "python",
   "nbconvert_exporter": "python",
   "pygments_lexer": "ipython3",
   "version": "3.6.5"
  }
 },
 "nbformat": 4,
 "nbformat_minor": 2
}
