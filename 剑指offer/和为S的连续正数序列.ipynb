{
 "cells": [
  {
   "cell_type": "code",
   "execution_count": 22,
   "metadata": {},
   "outputs": [],
   "source": [
    "# -*- coding:utf-8 -*-\n",
    "class Solution:\n",
    "    def __init__(self):\n",
    "        self.res = []\n",
    "    \n",
    "    def FindContinuousSequence(self, tsum):\n",
    "        # write code here\n",
    "        if tsum <= 0:\n",
    "            return []\n",
    "        for i in range(1, tsum//2+1):\n",
    "            self.helper(tsum, i, [])\n",
    "        return self.res\n",
    "            \n",
    "    def helper(self, tsum, curr, res):\n",
    "        if tsum - curr < 0:\n",
    "            return\n",
    "        elif tsum - curr == 0:\n",
    "            self.res.append(res)\n",
    "        res.append(curr)\n",
    "        return self.helper(tsum-curr, curr+1, res[:])"
   ]
  },
  {
   "cell_type": "code",
   "execution_count": 23,
   "metadata": {},
   "outputs": [
    {
     "data": {
      "text/plain": [
       "[[1, 2]]"
      ]
     },
     "execution_count": 23,
     "metadata": {},
     "output_type": "execute_result"
    }
   ],
   "source": [
    "s = Solution()\n",
    "s.FindContinuousSequence(3)"
   ]
  },
  {
   "cell_type": "code",
   "execution_count": null,
   "metadata": {},
   "outputs": [],
   "source": []
  }
 ],
 "metadata": {
  "kernelspec": {
   "display_name": "Python 3",
   "language": "python",
   "name": "python3"
  },
  "language_info": {
   "codemirror_mode": {
    "name": "ipython",
    "version": 3
   },
   "file_extension": ".py",
   "mimetype": "text/x-python",
   "name": "python",
   "nbconvert_exporter": "python",
   "pygments_lexer": "ipython3",
   "version": "3.6.5"
  }
 },
 "nbformat": 4,
 "nbformat_minor": 2
}
