{
 "cells": [
  {
   "cell_type": "code",
   "execution_count": 5,
   "metadata": {},
   "outputs": [],
   "source": [
    "# -*- coding:utf-8 -*-\n",
    "class Solution:\n",
    "    def __init__(self):\n",
    "        self.stack = []\n",
    "        self.min_val = None\n",
    "    \n",
    "    def push(self, node):\n",
    "        # write code here\n",
    "        if not self.min_val:\n",
    "            self.min_val = node\n",
    "        elif self.min_val > node:\n",
    "            self.min_val = node\n",
    "        self.stack.append(node)\n",
    "        \n",
    "    def pop(self):\n",
    "        # write code here\n",
    "        if self.stack:\n",
    "            node = self.stack.pop()\n",
    "            self.min_val = min(self.stack)\n",
    "            return node\n",
    "        \n",
    "    def top(self):\n",
    "        # write code here\n",
    "        if self.stack:\n",
    "            return self.stack[-1]\n",
    "        \n",
    "    def min(self):\n",
    "        # write code here\n",
    "        return self.min_val"
   ]
  },
  {
   "cell_type": "code",
   "execution_count": 6,
   "metadata": {},
   "outputs": [
    {
     "name": "stdout",
     "output_type": "stream",
     "text": [
      "1\n",
      "3\n",
      "2\n"
     ]
    }
   ],
   "source": [
    "s = Solution()\n",
    "s.push(1)\n",
    "s.push(2)\n",
    "s.push(3)\n",
    "print(s.min())\n",
    "print(s.pop())\n",
    "print(s.pop())"
   ]
  },
  {
   "cell_type": "code",
   "execution_count": null,
   "metadata": {},
   "outputs": [],
   "source": []
  }
 ],
 "metadata": {
  "kernelspec": {
   "display_name": "Python 3",
   "language": "python",
   "name": "python3"
  },
  "language_info": {
   "codemirror_mode": {
    "name": "ipython",
    "version": 3
   },
   "file_extension": ".py",
   "mimetype": "text/x-python",
   "name": "python",
   "nbconvert_exporter": "python",
   "pygments_lexer": "ipython3",
   "version": "3.6.5"
  }
 },
 "nbformat": 4,
 "nbformat_minor": 2
}
