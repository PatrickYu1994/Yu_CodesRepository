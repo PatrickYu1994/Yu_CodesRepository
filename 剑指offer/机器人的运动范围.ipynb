{
 "cells": [
  {
   "cell_type": "code",
   "execution_count": 17,
   "metadata": {},
   "outputs": [],
   "source": [
    "# -*- coding:utf-8 -*-\n",
    "class Solution:\n",
    "    def __init__(self):\n",
    "        self.count = 0\n",
    "    \n",
    "    def movingCount(self, threshold, rows, cols):\n",
    "        # write code here\n",
    "        self.helper(threshold, rows, cols, 0, 0, [[0 for i in range(cols)] for j in range(rows)])\n",
    "        return self.count\n",
    "    \n",
    "    def helper(self, threshold, rows, cols, row, col, arr):\n",
    "        if row < 0 or row >= rows or col < 0 or col >= cols or arr[row][col] == 1 or self.cal_sum(row, col) > threshold:\n",
    "            return\n",
    "        arr[row][col] = 1\n",
    "        self.count += 1\n",
    "        self.helper(threshold, rows, cols, row+1, col, arr)\n",
    "        self.helper(threshold, rows, cols, row-1, col, arr)\n",
    "        self.helper(threshold, rows, cols, row, col+1, arr)\n",
    "        self.helper(threshold, rows, cols, row, col-1, arr)\n",
    "    \n",
    "    def cal_sum(self, row, col):\n",
    "        return sum(list(map(int, list(str(row)))))+sum(list(map(int, list(str(col)))))"
   ]
  },
  {
   "cell_type": "code",
   "execution_count": 18,
   "metadata": {},
   "outputs": [
    {
     "data": {
      "text/plain": [
       "21"
      ]
     },
     "execution_count": 18,
     "metadata": {},
     "output_type": "execute_result"
    }
   ],
   "source": [
    "s = Solution()\n",
    "s.movingCount(5,10,10)"
   ]
  },
  {
   "cell_type": "code",
   "execution_count": null,
   "metadata": {},
   "outputs": [],
   "source": []
  }
 ],
 "metadata": {
  "kernelspec": {
   "display_name": "Python 3",
   "language": "python",
   "name": "python3"
  },
  "language_info": {
   "codemirror_mode": {
    "name": "ipython",
    "version": 3
   },
   "file_extension": ".py",
   "mimetype": "text/x-python",
   "name": "python",
   "nbconvert_exporter": "python",
   "pygments_lexer": "ipython3",
   "version": "3.6.5"
  }
 },
 "nbformat": 4,
 "nbformat_minor": 2
}
