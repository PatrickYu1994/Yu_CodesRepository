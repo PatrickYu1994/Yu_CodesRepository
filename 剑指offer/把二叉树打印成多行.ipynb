{
 "cells": [
  {
   "cell_type": "code",
   "execution_count": 1,
   "metadata": {},
   "outputs": [],
   "source": [
    "# -*- coding:utf-8 -*-\n",
    "# class TreeNode:\n",
    "#     def __init__(self, x):\n",
    "#         self.val = x\n",
    "#         self.left = None\n",
    "#         self.right = None\n",
    "class Solution:\n",
    "    # 返回二维列表[[1,2],[4,5]]\n",
    "    def Print(self, pRoot):\n",
    "        # write code here\n",
    "        if not pRoot:\n",
    "            return []\n",
    "        stack = []\n",
    "        stack.append(pRoot)\n",
    "        res = []\n",
    "        while stack:\n",
    "            temp = []\n",
    "            while stack:\n",
    "                temp.append(stack.pop(0))\n",
    "            res.append([i.val for i in temp])\n",
    "            for i in temp:\n",
    "                if i.left:\n",
    "                    stack.append(i.left)\n",
    "                if i.right:\n",
    "                    stack.append(i.right)\n",
    "        return res"
   ]
  },
  {
   "cell_type": "code",
   "execution_count": null,
   "metadata": {},
   "outputs": [],
   "source": []
  }
 ],
 "metadata": {
  "kernelspec": {
   "display_name": "Python 3",
   "language": "python",
   "name": "python3"
  },
  "language_info": {
   "codemirror_mode": {
    "name": "ipython",
    "version": 3
   },
   "file_extension": ".py",
   "mimetype": "text/x-python",
   "name": "python",
   "nbconvert_exporter": "python",
   "pygments_lexer": "ipython3",
   "version": "3.6.5"
  }
 },
 "nbformat": 4,
 "nbformat_minor": 2
}
